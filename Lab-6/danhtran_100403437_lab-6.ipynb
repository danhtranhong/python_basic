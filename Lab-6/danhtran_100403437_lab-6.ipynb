{
 "cells": [
  {
   "cell_type": "markdown",
   "id": "fd3b4edc",
   "metadata": {},
   "source": [
    "# Learning Objectives\n",
    "Upon completion of this lab, you should be able to\n",
    "<ul>\n",
    " <li> use <strong>Pandas DateFrame</strong>\n",
    " <li> explore <strong>Pandas DateFrame</strong> basic properties\n",
    "<li> clean <strong>Pandas DateFrame</strong>\n",
    "    <li> extract useful information from <strong>Pandas DateFrame</strong>\n",
    "</ul>"
   ]
  },
  {
   "cell_type": "markdown",
   "id": "07d96932",
   "metadata": {},
   "source": [
    "### Loading Modules"
   ]
  },
  {
   "cell_type": "code",
   "execution_count": 1,
   "id": "49b9582f",
   "metadata": {},
   "outputs": [],
   "source": [
    "import pandas as pd\n",
    "import numpy as np\n",
    "import os\n",
    "MB = 2**20 # 1 MegaByte = 2**20 Bytes"
   ]
  },
  {
   "cell_type": "markdown",
   "id": "bdf63826",
   "metadata": {},
   "source": [
    "### The Data\n",
    "<hr>\n",
    "An unidentified flying object (UFO) is any perceived aerial phenomenon that cannot be immediately identified or explained (<a href='https://en.wikipedia.org/wiki/Unidentified_flying_object'>Wikipedia</a>).  A dataset of <strong>UFO</strong> sightings in the United States is provided below.\n",
    "<hr>"
   ]
  },
  {
   "cell_type": "code",
   "execution_count": 2,
   "id": "c3b686fc",
   "metadata": {},
   "outputs": [],
   "source": [
    "ufo = pd.read_csv('http://bit.ly/uforeports')"
   ]
  },
  {
   "cell_type": "markdown",
   "id": "28f14f08",
   "metadata": {},
   "source": [
    "## Task 1 (20 Marks)"
   ]
  },
  {
   "cell_type": "markdown",
   "id": "a196a4bb",
   "metadata": {},
   "source": [
    "<hr>\n",
    "Display the first/last <b>7</b> seven rows of the <strong>ufo DataFrame</strong>. (4 Marks)</strong>\n",
    "<hr>"
   ]
  },
  {
   "cell_type": "code",
   "execution_count": 4,
   "id": "8681c04e",
   "metadata": {},
   "outputs": [
    {
     "data": {
      "text/html": [
       "<div>\n",
       "<style scoped>\n",
       "    .dataframe tbody tr th:only-of-type {\n",
       "        vertical-align: middle;\n",
       "    }\n",
       "\n",
       "    .dataframe tbody tr th {\n",
       "        vertical-align: top;\n",
       "    }\n",
       "\n",
       "    .dataframe thead th {\n",
       "        text-align: right;\n",
       "    }\n",
       "</style>\n",
       "<table border=\"1\" class=\"dataframe\">\n",
       "  <thead>\n",
       "    <tr style=\"text-align: right;\">\n",
       "      <th></th>\n",
       "      <th>City</th>\n",
       "      <th>Colors Reported</th>\n",
       "      <th>Shape Reported</th>\n",
       "      <th>State</th>\n",
       "      <th>Time</th>\n",
       "    </tr>\n",
       "  </thead>\n",
       "  <tbody>\n",
       "    <tr>\n",
       "      <th>18234</th>\n",
       "      <td>Capitola</td>\n",
       "      <td>NaN</td>\n",
       "      <td>TRIANGLE</td>\n",
       "      <td>CA</td>\n",
       "      <td>12/31/2000 22:00</td>\n",
       "    </tr>\n",
       "    <tr>\n",
       "      <th>18235</th>\n",
       "      <td>Fountain Hills</td>\n",
       "      <td>NaN</td>\n",
       "      <td>NaN</td>\n",
       "      <td>AZ</td>\n",
       "      <td>12/31/2000 23:00</td>\n",
       "    </tr>\n",
       "    <tr>\n",
       "      <th>18236</th>\n",
       "      <td>Grant Park</td>\n",
       "      <td>NaN</td>\n",
       "      <td>TRIANGLE</td>\n",
       "      <td>IL</td>\n",
       "      <td>12/31/2000 23:00</td>\n",
       "    </tr>\n",
       "    <tr>\n",
       "      <th>18237</th>\n",
       "      <td>Spirit Lake</td>\n",
       "      <td>NaN</td>\n",
       "      <td>DISK</td>\n",
       "      <td>IA</td>\n",
       "      <td>12/31/2000 23:00</td>\n",
       "    </tr>\n",
       "    <tr>\n",
       "      <th>18238</th>\n",
       "      <td>Eagle River</td>\n",
       "      <td>NaN</td>\n",
       "      <td>NaN</td>\n",
       "      <td>WI</td>\n",
       "      <td>12/31/2000 23:45</td>\n",
       "    </tr>\n",
       "    <tr>\n",
       "      <th>18239</th>\n",
       "      <td>Eagle River</td>\n",
       "      <td>RED</td>\n",
       "      <td>LIGHT</td>\n",
       "      <td>WI</td>\n",
       "      <td>12/31/2000 23:45</td>\n",
       "    </tr>\n",
       "    <tr>\n",
       "      <th>18240</th>\n",
       "      <td>Ybor</td>\n",
       "      <td>NaN</td>\n",
       "      <td>OVAL</td>\n",
       "      <td>FL</td>\n",
       "      <td>12/31/2000 23:59</td>\n",
       "    </tr>\n",
       "  </tbody>\n",
       "</table>\n",
       "</div>"
      ],
      "text/plain": [
       "                 City Colors Reported Shape Reported State              Time\n",
       "18234        Capitola             NaN       TRIANGLE    CA  12/31/2000 22:00\n",
       "18235  Fountain Hills             NaN            NaN    AZ  12/31/2000 23:00\n",
       "18236      Grant Park             NaN       TRIANGLE    IL  12/31/2000 23:00\n",
       "18237     Spirit Lake             NaN           DISK    IA  12/31/2000 23:00\n",
       "18238     Eagle River             NaN            NaN    WI  12/31/2000 23:45\n",
       "18239     Eagle River             RED          LIGHT    WI  12/31/2000 23:45\n",
       "18240            Ybor             NaN           OVAL    FL  12/31/2000 23:59"
      ]
     },
     "execution_count": 4,
     "metadata": {},
     "output_type": "execute_result"
    }
   ],
   "source": [
    "# your code should goes here\n",
    "ufo.head(7)\n",
    "\n",
    "ufo.tail(7)"
   ]
  },
  {
   "cell_type": "markdown",
   "id": "792fba46",
   "metadata": {},
   "source": [
    "<hr>\n",
    "Using <b>list comprehension</b>, extract all the <strong>methods</strong> that are used to save a <strong>DataFrame</strong> into <strong>disk</strong>. (4 Marks)</strong>\n",
    "<hr>"
   ]
  },
  {
   "cell_type": "code",
   "execution_count": 8,
   "id": "0f19cc6f",
   "metadata": {},
   "outputs": [
    {
     "data": {
      "text/plain": [
       "['to_clipboard',\n",
       " 'to_csv',\n",
       " 'to_dict',\n",
       " 'to_excel',\n",
       " 'to_feather',\n",
       " 'to_gbq',\n",
       " 'to_hdf',\n",
       " 'to_html',\n",
       " 'to_json',\n",
       " 'to_latex',\n",
       " 'to_markdown',\n",
       " 'to_numpy',\n",
       " 'to_orc',\n",
       " 'to_parquet',\n",
       " 'to_period',\n",
       " 'to_pickle',\n",
       " 'to_records',\n",
       " 'to_sql',\n",
       " 'to_stata',\n",
       " 'to_string',\n",
       " 'to_timestamp',\n",
       " 'to_xarray',\n",
       " 'to_xml']"
      ]
     },
     "execution_count": 8,
     "metadata": {},
     "output_type": "execute_result"
    }
   ],
   "source": [
    "# your code should goes here\n",
    "\n",
    "\n",
    "[f for f in dir(pd.DataFrame) if f.startswith(\"to_\")]\n"
   ]
  },
  {
   "cell_type": "markdown",
   "id": "2a60d2b4",
   "metadata": {},
   "source": [
    "<hr>\n",
    "Save the <strong>ufo DataFrame</strong> into the following file format:\n",
    "<ul>\n",
    "    <li> <strong>CSV</strong> format <strong>(2 Marks)</strong>\n",
    "    <li> <strong>JSON</strong> format <strong>(2 Marks)</strong>\n",
    "    <li> <strong>Excel</strong> format <strong>(2 Marks)</strong>\n",
    "    <li> <strong>HTML</strong> format <strong>(2 Marks)</strong>\n",
    "     <li> <strong>Latex</strong> format <strong>(2 Marks)</strong>\n",
    "    <li> <strong>Pickle</strong> format <strong>(2 Marks)</strong>\n",
    "</ul>\n",
    "All the files must be saved in <strong>data</strong> directory.\n",
    "<hr>"
   ]
  },
  {
   "cell_type": "code",
   "execution_count": 11,
   "id": "c9a35130",
   "metadata": {},
   "outputs": [],
   "source": [
    "# your code should goes here\n",
    "\n",
    "\n",
    "ufo.to_csv(r'.\\data\\ufo.csv')\n",
    "ufo.to_json(r'.\\data\\ufo.json')\n",
    "ufo.to_excel(r'.\\data\\ufo.xlsx')\n",
    "ufo.to_html(r'.\\data\\ufo.html')\n",
    "ufo.to_latex(r'.\\data\\ufo.tex')\n",
    "ufo.to_pickle(r'.\\data\\ufo.pkl')"
   ]
  },
  {
   "cell_type": "markdown",
   "id": "add6e1b8",
   "metadata": {},
   "source": [
    "## Task 2 (40 Marks)"
   ]
  },
  {
   "cell_type": "markdown",
   "id": "b0b11982",
   "metadata": {},
   "source": [
    "### <hr>\n",
    "Display <strong>ufo DataFrame</strong> detailed info. <strong>(2 Marks)</strong>\n",
    "<hr>"
   ]
  },
  {
   "cell_type": "code",
   "execution_count": 12,
   "id": "a26a8313",
   "metadata": {},
   "outputs": [
    {
     "name": "stdout",
     "output_type": "stream",
     "text": [
      "<class 'pandas.core.frame.DataFrame'>\n",
      "RangeIndex: 18241 entries, 0 to 18240\n",
      "Data columns (total 5 columns):\n",
      " #   Column           Non-Null Count  Dtype \n",
      "---  ------           --------------  ----- \n",
      " 0   City             18215 non-null  object\n",
      " 1   Colors Reported  2882 non-null   object\n",
      " 2   Shape Reported   15597 non-null  object\n",
      " 3   State            18241 non-null  object\n",
      " 4   Time             18241 non-null  object\n",
      "dtypes: object(5)\n",
      "memory usage: 712.7+ KB\n"
     ]
    }
   ],
   "source": [
    "# your code should goes here\n",
    "ufo.info()"
   ]
  },
  {
   "cell_type": "markdown",
   "id": "94455e8e",
   "metadata": {},
   "source": [
    "<hr>\n",
    "Display <strong>ufo DataFrame</strong> shape . <strong>(2 Marks)</strong>\n",
    "<hr>"
   ]
  },
  {
   "cell_type": "code",
   "execution_count": 14,
   "id": "a2ac2c74",
   "metadata": {},
   "outputs": [
    {
     "data": {
      "text/plain": [
       "(18241, 5)"
      ]
     },
     "execution_count": 14,
     "metadata": {},
     "output_type": "execute_result"
    }
   ],
   "source": [
    "# your code should goes here\n",
    "ufo.shape"
   ]
  },
  {
   "cell_type": "markdown",
   "id": "ad9239d4",
   "metadata": {},
   "source": [
    "<hr>\n",
    "Display <strong>ufo DataFrame</strong> columns names . <strong>(2 Marks)</strong>\n",
    "<hr>"
   ]
  },
  {
   "cell_type": "code",
   "execution_count": 16,
   "id": "4d140f57",
   "metadata": {},
   "outputs": [
    {
     "data": {
      "text/plain": [
       "['City', 'Colors Reported', 'Shape Reported', 'State', 'Time']"
      ]
     },
     "execution_count": 16,
     "metadata": {},
     "output_type": "execute_result"
    }
   ],
   "source": [
    "# your code should goes here\n",
    "ufo.columns.to_list()\n"
   ]
  },
  {
   "cell_type": "markdown",
   "id": "42cdebea",
   "metadata": {},
   "source": [
    "<hr>\n",
    "Display <strong>ufo DataFrame</strong> row names . <strong>(2 Marks)</strong>\n",
    "<hr>"
   ]
  },
  {
   "cell_type": "code",
   "execution_count": 6,
   "id": "328008be",
   "metadata": {},
   "outputs": [],
   "source": [
    "# your code should goes here\n",
    "\n",
    "ufo.row"
   ]
  },
  {
   "cell_type": "markdown",
   "id": "39020fb5",
   "metadata": {},
   "source": [
    "<hr>\n",
    "Write a <strong>function</strong> <strong>get_size_in_memory()</strong> that displays the size of a <strong>DataFrame</strong> in <strong>memory (RAM)</strong> in <strong>MegaBytes</strong>. <strong>(8 Marks)</strong>\n",
    "<hr>"
   ]
  },
  {
   "cell_type": "code",
   "execution_count": 22,
   "id": "f1a0ea93",
   "metadata": {},
   "outputs": [
    {
     "data": {
      "text/plain": [
       "0.6959648132324219"
      ]
     },
     "execution_count": 22,
     "metadata": {},
     "output_type": "execute_result"
    }
   ],
   "source": [
    "# your code should goes here\n",
    "#ufo.memory_usage().sum()\n",
    "\n",
    "def get_size_in_memory(dataframe):\n",
    "    memory_usage_bytes = dataframe.memory_usage().sum()\n",
    "    memory_usage_mb = memory_usage_bytes / MB  # Convert bytes to MegaBytes\n",
    "    return memory_usage_mb\n",
    "\n",
    "get_size_in_memory(ufo)"
   ]
  },
  {
   "cell_type": "markdown",
   "id": "e4ebe127",
   "metadata": {},
   "source": [
    "<hr>\n",
    "Using the <strong>get_size_in_memory()</strong> function, display the size <strong>ufo DataFrame</strong> in memory with <strong>5 decimal</strong> places. <strong>(4 Marks)</strong>\n",
    "<hr>"
   ]
  },
  {
   "cell_type": "code",
   "execution_count": 23,
   "id": "bfb4de8a",
   "metadata": {},
   "outputs": [
    {
     "data": {
      "text/plain": [
       "0.69596"
      ]
     },
     "execution_count": 23,
     "metadata": {},
     "output_type": "execute_result"
    }
   ],
   "source": [
    "# your code should goes here\n",
    "mem_usage_mb = round(get_size_in_memory(ufo),5)\n",
    "mem_usage_mb\n"
   ]
  },
  {
   "cell_type": "markdown",
   "id": "a21d343b",
   "metadata": {},
   "source": [
    "<hr>\n",
    "Write a <strong>function</strong> with a name <strong>get_size_in_disk()</strong> that displays the size of a file in disk in <strong>MegaBytes</strong>. <strong>(8 Marks)</strong>\n",
    "<hr>"
   ]
  },
  {
   "cell_type": "code",
   "execution_count": 24,
   "id": "09719827",
   "metadata": {},
   "outputs": [
    {
     "data": {
      "text/plain": [
       "0.7490701675415039"
      ]
     },
     "execution_count": 24,
     "metadata": {},
     "output_type": "execute_result"
    }
   ],
   "source": [
    "# your code should goes here\n",
    "import os\n",
    "\n",
    "def get_file_size(file_path):\n",
    "    file_size_bytes = os.path.getsize(file_path)\n",
    "    file_size_mb = file_size_bytes/MB\n",
    "    return file_size_mb\n",
    "\n",
    "get_file_size(r'.\\data\\ufo.csv')"
   ]
  },
  {
   "cell_type": "markdown",
   "id": "67d2fc41",
   "metadata": {},
   "source": [
    "<hr>\n",
    "Using the <strong>get_size_in_disk()</strong> function, display the size of each <strong>ufo</strong> file with <strong>3 decimal</strong> places. <strong>(12 Marks)</strong>\n",
    "<hr>"
   ]
  },
  {
   "cell_type": "code",
   "execution_count": 28,
   "id": "cb8318a4",
   "metadata": {},
   "outputs": [
    {
     "name": "stdout",
     "output_type": "stream",
     "text": [
      "Size in MB with 3 decimal numb: 0.749 MB\n"
     ]
    }
   ],
   "source": [
    "# your code should goes here\n",
    "temp = round(get_file_size(r'.\\data\\ufo.csv'),3)\n",
    "print(f\"Size in MB with 3 decimal numb: {temp} MB\")"
   ]
  },
  {
   "cell_type": "markdown",
   "id": "4bcbd3dc",
   "metadata": {},
   "source": [
    "### Task 3 (40 Marks)"
   ]
  },
  {
   "cell_type": "markdown",
   "id": "29f23d72",
   "metadata": {},
   "source": [
    "Display the number of missing values per each column. (<strong>4 Marks</strong>)"
   ]
  },
  {
   "cell_type": "code",
   "execution_count": 32,
   "id": "7c1c13b9",
   "metadata": {},
   "outputs": [
    {
     "data": {
      "text/plain": [
       "City                  26\n",
       "Colors Reported    15359\n",
       "Shape Reported      2644\n",
       "State                  0\n",
       "Time                   0\n",
       "dtype: int64"
      ]
     },
     "execution_count": 32,
     "metadata": {},
     "output_type": "execute_result"
    }
   ],
   "source": [
    "# your code should goes here\n",
    "ufo.isna().sum()"
   ]
  },
  {
   "cell_type": "markdown",
   "id": "de24c8d9",
   "metadata": {},
   "source": [
    "Remove all the <strong>rows</strong> with missing values and store the result in a <strong>DataFrame</strong> with a name <strong>ufo_clean</strong>. Check that all <strong>missing values</strong> are removed.(<strong>6 Marks</strong>)"
   ]
  },
  {
   "cell_type": "code",
   "execution_count": 38,
   "id": "21bc0266",
   "metadata": {},
   "outputs": [
    {
     "data": {
      "text/plain": [
       "City               0\n",
       "Colors Reported    0\n",
       "Shape Reported     0\n",
       "State              0\n",
       "Time               0\n",
       "dtype: int64"
      ]
     },
     "execution_count": 38,
     "metadata": {},
     "output_type": "execute_result"
    }
   ],
   "source": [
    "# your code should goes here\n",
    "ufo_clean = ufo.dropna()\n",
    "ufo_clean.isna().sum()"
   ]
  },
  {
   "cell_type": "markdown",
   "id": "1800c7d7",
   "metadata": {},
   "source": [
    "<hr>\n",
    "Save the <strong>clean ufo DataFrame</strong> into the following file format:\n",
    "<ul>\n",
    "    <li> <strong>CSV</strong> format <strong>(1 Marks)</strong>\n",
    "    <li> <strong>JSON</strong> format <strong>(1 Marks)</strong>\n",
    "    <li> <strong>Excel</strong> format <strong>(1 Marks)</strong>\n",
    "    <li> <strong>HTML</strong> format <strong>(1 Marks)</strong>\n",
    "     <li> <strong>Latex</strong> format <strong>(1 Marks)</strong>\n",
    "    <li> <strong>Pickle</strong> format <strong>(1 Marks)</strong>\n",
    "</ul>\n",
    "All the files must be saved in <strong>data</strong> directory.\n",
    "<hr>"
   ]
  },
  {
   "cell_type": "code",
   "execution_count": 42,
   "id": "b4c27e8c",
   "metadata": {},
   "outputs": [],
   "source": [
    "# your code should goes here\n",
    "ufo_clean.to_csv(r'.\\data\\ufo_clean.csv')\n",
    "ufo_clean.to_json(r'.\\data\\ufo_clean.json')\n",
    "ufo_clean.to_excel(r'.\\data\\ufo_clean.xlsx')\n",
    "ufo_clean.to_html(r'.\\data\\ufo_clean.html')\n",
    "ufo_clean.to_latex(r'.\\data\\ufo_clean.tex')\n",
    "ufo_clean.to_pickle(r'.\\data\\ufo_clean.pkl')"
   ]
  },
  {
   "cell_type": "markdown",
   "id": "d1bf0890",
   "metadata": {},
   "source": [
    "<hr>\n",
    "Compute all the <strong>different UFO colors</strong> and the number of <strong>different UFO colors</strong>.(<strong>4 Marks</strong>)\n",
    "<hr>"
   ]
  },
  {
   "cell_type": "code",
   "execution_count": 58,
   "id": "7f0d4e60",
   "metadata": {},
   "outputs": [
    {
     "name": "stdout",
     "output_type": "stream",
     "text": [
      "Total different UFO Colors 26\n"
     ]
    },
    {
     "data": {
      "text/plain": [
       "array(['RED', 'GREEN', 'BLUE', 'ORANGE', 'YELLOW', 'ORANGE YELLOW',\n",
       "       'RED GREEN', 'RED BLUE', 'RED ORANGE', 'RED GREEN BLUE',\n",
       "       'RED YELLOW GREEN', 'RED YELLOW', 'GREEN BLUE',\n",
       "       'ORANGE GREEN BLUE', 'ORANGE GREEN', 'YELLOW GREEN',\n",
       "       'RED YELLOW BLUE', 'ORANGE BLUE', 'RED YELLOW GREEN BLUE',\n",
       "       'YELLOW BLUE', 'RED ORANGE YELLOW', 'RED ORANGE GREEN',\n",
       "       'RED ORANGE BLUE', 'YELLOW GREEN BLUE', 'ORANGE YELLOW GREEN',\n",
       "       'ORANGE YELLOW BLUE'], dtype=object)"
      ]
     },
     "execution_count": 58,
     "metadata": {},
     "output_type": "execute_result"
    }
   ],
   "source": [
    "# your code should goes here\n",
    "ufo_colors = ufo_clean['Colors Reported'].unique()\n",
    "print(f\"Total different UFO Colors {len(ufo_colors)}\")\n",
    "ufo_colors"
   ]
  },
  {
   "cell_type": "code",
   "execution_count": 59,
   "id": "6dccd0bc",
   "metadata": {},
   "outputs": [
    {
     "name": "stdout",
     "output_type": "stream",
     "text": [
      "Number of UFO colors\n"
     ]
    },
    {
     "data": {
      "text/plain": [
       "Colors Reported\n",
       "RED                      650\n",
       "ORANGE                   480\n",
       "GREEN                    467\n",
       "BLUE                     383\n",
       "YELLOW                   141\n",
       "RED GREEN                 79\n",
       "RED BLUE                  60\n",
       "RED ORANGE                43\n",
       "GREEN BLUE                28\n",
       "RED GREEN BLUE            26\n",
       "RED YELLOW                24\n",
       "ORANGE YELLOW             23\n",
       "ORANGE GREEN              20\n",
       "YELLOW GREEN              13\n",
       "ORANGE BLUE               10\n",
       "RED YELLOW GREEN           9\n",
       "YELLOW BLUE                6\n",
       "ORANGE GREEN BLUE          5\n",
       "RED YELLOW GREEN BLUE      3\n",
       "RED ORANGE YELLOW          3\n",
       "RED ORANGE GREEN           3\n",
       "RED ORANGE BLUE            3\n",
       "YELLOW GREEN BLUE          3\n",
       "RED YELLOW BLUE            2\n",
       "ORANGE YELLOW GREEN        1\n",
       "ORANGE YELLOW BLUE         1\n",
       "Name: count, dtype: int64"
      ]
     },
     "execution_count": 59,
     "metadata": {},
     "output_type": "execute_result"
    }
   ],
   "source": [
    "count = ufo_clean['Colors Reported'].value_counts()\n",
    "print(\"Number of UFO colors\")\n",
    "count"
   ]
  },
  {
   "cell_type": "markdown",
   "id": "e1e058ca",
   "metadata": {},
   "source": [
    "<hr>\n",
    "Compute all the <strong>different UFO shapes</strong> and the number of <strong>different UFO shapes</strong>.(<strong>4 Marks</strong>)\n",
    "<hr>"
   ]
  },
  {
   "cell_type": "code",
   "execution_count": 65,
   "id": "a8b78074",
   "metadata": {},
   "outputs": [
    {
     "name": "stdout",
     "output_type": "stream",
     "text": [
      "Total different UFO Colors 25\n",
      "['SPHERE' 'OTHER' 'FORMATION' 'CHEVRON' 'DISK' 'CIRCLE' 'CIGAR' 'TRIANGLE'\n",
      " 'FIREBALL' 'OVAL' 'EGG' 'CYLINDER' 'LIGHT' 'VARIOUS' 'RECTANGLE'\n",
      " 'DIAMOND' 'FLASH' 'TEARDROP' 'CONE' 'ROUND' 'PYRAMID' 'CRESCENT' 'DELTA'\n",
      " 'HEXAGON' 'CROSS']\n",
      "\n",
      "Number of UFO shape: \n",
      " Shape Reported\n",
      "LIGHT        575\n",
      "FIREBALL     340\n",
      "CIRCLE       238\n",
      "SPHERE       221\n",
      "TRIANGLE     211\n",
      "DISK         202\n",
      "OTHER        183\n",
      "OVAL         131\n",
      "CIGAR         68\n",
      "FORMATION     61\n",
      "VARIOUS       54\n",
      "FLASH         34\n",
      "CYLINDER      34\n",
      "RECTANGLE     28\n",
      "DIAMOND       27\n",
      "CHEVRON       24\n",
      "EGG           20\n",
      "TEARDROP      19\n",
      "CONE           8\n",
      "CROSS          3\n",
      "ROUND          1\n",
      "PYRAMID        1\n",
      "CRESCENT       1\n",
      "DELTA          1\n",
      "HEXAGON        1\n",
      "Name: count, dtype: int64\n"
     ]
    }
   ],
   "source": [
    "# your code should goes here\n",
    "ufo_shape = ufo_clean['Shape Reported'].unique()\n",
    "print(f\"Total different UFO Colors {len(ufo_shape)}\")\n",
    "print(f\"{ufo_shape}\\n\")\n",
    "\n",
    "ufo_count_shape =  ufo_clean['Shape Reported'].value_counts()\n",
    "print(f\"Number of UFO shape: \\n {ufo_count_shape}\")"
   ]
  },
  {
   "cell_type": "markdown",
   "id": "b456fb0c",
   "metadata": {},
   "source": [
    "<hr>\n",
    "Which <strong>state/city</strong> has the most <strong>UFO</strong> sightings? (<strong>5 Marks</strong>)\n",
    "<hr>"
   ]
  },
  {
   "cell_type": "code",
   "execution_count": 71,
   "id": "21c8a6e1",
   "metadata": {},
   "outputs": [
    {
     "name": "stdout",
     "output_type": "stream",
     "text": [
      "State has the most UFO sighting State\n",
      "CA    389\n",
      "Name: count, dtype: int64\n",
      "\n",
      "City has the most UFO sighting City\n",
      "Seattle    24\n",
      "Name: count, dtype: int64\n"
     ]
    }
   ],
   "source": [
    "# your code should goes here\n",
    "count_state = ufo_clean['State'].value_counts()\n",
    "count_city = ufo_clean['City'].value_counts()\n",
    "\n",
    "print(f\"State has the most UFO sighting {count_state.head(1)}\\n\")\n",
    "\n",
    "print(f\"City has the most UFO sighting {count_city.head(1)}\")\n"
   ]
  },
  {
   "cell_type": "markdown",
   "id": "da4616b2",
   "metadata": {},
   "source": [
    "<hr>\n",
    "In terms of <strong>color/shape</strong>, what is the <strong>most commonly</strong> reported <strong>UFO</strong>?\n",
    "(<strong>5 Marks</strong>)\n",
    "<hr>"
   ]
  },
  {
   "cell_type": "code",
   "execution_count": 72,
   "id": "6e2f1046",
   "metadata": {},
   "outputs": [
    {
     "name": "stdout",
     "output_type": "stream",
     "text": [
      "Color has the most commnly report Colors Reported\n",
      "RED    650\n",
      "Name: count, dtype: int64\n",
      "\n",
      "Shape  has the most commnly report Shape Reported\n",
      "LIGHT    575\n",
      "Name: count, dtype: int64\n"
     ]
    }
   ],
   "source": [
    "# your code should goes here\n",
    "color_count = ufo_clean['Colors Reported'].value_counts()\n",
    "ufo_shape = ufo_clean['Shape Reported'].value_counts()\n",
    "\n",
    "\n",
    "print(f\"Color has the most commnly report {color_count.head(1)}\\n\")\n",
    "\n",
    "print(f\"Shape  has the most commnly report {ufo_shape.head(1)}\")"
   ]
  },
  {
   "cell_type": "markdown",
   "id": "4f9984ea",
   "metadata": {},
   "source": [
    "<hr>\n",
    "Identify all sightings where the <strong>state</strong> is California (<strong>CA</strong>), the <strong>UFO color</strong> is <strong>red</strong>, and the <strong>UFO shape</strong> is <strong>triangle</strong>. (<strong>6 Marks</strong>)\n",
    "<hr>"
   ]
  },
  {
   "cell_type": "code",
   "execution_count": 74,
   "id": "251c895a",
   "metadata": {},
   "outputs": [
    {
     "data": {
      "text/html": [
       "<div>\n",
       "<style scoped>\n",
       "    .dataframe tbody tr th:only-of-type {\n",
       "        vertical-align: middle;\n",
       "    }\n",
       "\n",
       "    .dataframe tbody tr th {\n",
       "        vertical-align: top;\n",
       "    }\n",
       "\n",
       "    .dataframe thead th {\n",
       "        text-align: right;\n",
       "    }\n",
       "</style>\n",
       "<table border=\"1\" class=\"dataframe\">\n",
       "  <thead>\n",
       "    <tr style=\"text-align: right;\">\n",
       "      <th></th>\n",
       "      <th>City</th>\n",
       "      <th>Colors Reported</th>\n",
       "      <th>Shape Reported</th>\n",
       "      <th>State</th>\n",
       "      <th>Time</th>\n",
       "    </tr>\n",
       "  </thead>\n",
       "  <tbody>\n",
       "    <tr>\n",
       "      <th>2643</th>\n",
       "      <td>La Mesa</td>\n",
       "      <td>RED</td>\n",
       "      <td>TRIANGLE</td>\n",
       "      <td>CA</td>\n",
       "      <td>6/14/1974 5:30</td>\n",
       "    </tr>\n",
       "    <tr>\n",
       "      <th>3276</th>\n",
       "      <td>San Diego</td>\n",
       "      <td>RED</td>\n",
       "      <td>TRIANGLE</td>\n",
       "      <td>CA</td>\n",
       "      <td>7/1/1976 0:00</td>\n",
       "    </tr>\n",
       "    <tr>\n",
       "      <th>4491</th>\n",
       "      <td>Long Beach</td>\n",
       "      <td>RED</td>\n",
       "      <td>TRIANGLE</td>\n",
       "      <td>CA</td>\n",
       "      <td>1/15/1981 20:00</td>\n",
       "    </tr>\n",
       "    <tr>\n",
       "      <th>5992</th>\n",
       "      <td>Stockton</td>\n",
       "      <td>RED</td>\n",
       "      <td>TRIANGLE</td>\n",
       "      <td>CA</td>\n",
       "      <td>11/15/1988 18:00</td>\n",
       "    </tr>\n",
       "    <tr>\n",
       "      <th>6992</th>\n",
       "      <td>Chatsworth</td>\n",
       "      <td>RED</td>\n",
       "      <td>TRIANGLE</td>\n",
       "      <td>CA</td>\n",
       "      <td>3/15/1993 20:00</td>\n",
       "    </tr>\n",
       "    <tr>\n",
       "      <th>8127</th>\n",
       "      <td>Glendale</td>\n",
       "      <td>RED</td>\n",
       "      <td>TRIANGLE</td>\n",
       "      <td>CA</td>\n",
       "      <td>5/19/1995 22:00</td>\n",
       "    </tr>\n",
       "    <tr>\n",
       "      <th>11973</th>\n",
       "      <td>Coarsegold</td>\n",
       "      <td>RED</td>\n",
       "      <td>TRIANGLE</td>\n",
       "      <td>CA</td>\n",
       "      <td>8/13/1998 22:00</td>\n",
       "    </tr>\n",
       "    <tr>\n",
       "      <th>17296</th>\n",
       "      <td>San Diego</td>\n",
       "      <td>RED</td>\n",
       "      <td>TRIANGLE</td>\n",
       "      <td>CA</td>\n",
       "      <td>8/26/2000 21:30</td>\n",
       "    </tr>\n",
       "    <tr>\n",
       "      <th>17343</th>\n",
       "      <td>Redding</td>\n",
       "      <td>RED</td>\n",
       "      <td>TRIANGLE</td>\n",
       "      <td>CA</td>\n",
       "      <td>9/5/2000 21:25</td>\n",
       "    </tr>\n",
       "  </tbody>\n",
       "</table>\n",
       "</div>"
      ],
      "text/plain": [
       "             City Colors Reported Shape Reported State              Time\n",
       "2643      La Mesa             RED       TRIANGLE    CA    6/14/1974 5:30\n",
       "3276    San Diego             RED       TRIANGLE    CA     7/1/1976 0:00\n",
       "4491   Long Beach             RED       TRIANGLE    CA   1/15/1981 20:00\n",
       "5992     Stockton             RED       TRIANGLE    CA  11/15/1988 18:00\n",
       "6992   Chatsworth             RED       TRIANGLE    CA   3/15/1993 20:00\n",
       "8127     Glendale             RED       TRIANGLE    CA   5/19/1995 22:00\n",
       "11973  Coarsegold             RED       TRIANGLE    CA   8/13/1998 22:00\n",
       "17296   San Diego             RED       TRIANGLE    CA   8/26/2000 21:30\n",
       "17343     Redding             RED       TRIANGLE    CA    9/5/2000 21:25"
      ]
     },
     "execution_count": 74,
     "metadata": {},
     "output_type": "execute_result"
    }
   ],
   "source": [
    "# your code should goes here\n",
    "query_ufo = ufo_clean[(ufo_clean['State'] == 'CA') & (ufo_clean['Colors Reported'] == 'RED') & (ufo_clean['Shape Reported'] == 'TRIANGLE')]\n",
    "\n",
    "query_ufo"
   ]
  }
 ],
 "metadata": {
  "kernelspec": {
   "display_name": "Python 3 (ipykernel)",
   "language": "python",
   "name": "python3"
  },
  "language_info": {
   "codemirror_mode": {
    "name": "ipython",
    "version": 3
   },
   "file_extension": ".py",
   "mimetype": "text/x-python",
   "name": "python",
   "nbconvert_exporter": "python",
   "pygments_lexer": "ipython3",
   "version": "3.11.3"
  }
 },
 "nbformat": 4,
 "nbformat_minor": 5
}
