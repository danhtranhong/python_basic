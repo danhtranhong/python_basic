{
 "cells": [
  {
   "cell_type": "markdown",
   "id": "bda13347",
   "metadata": {},
   "source": [
    "### Loading Modules"
   ]
  },
  {
   "cell_type": "code",
   "execution_count": 1,
   "id": "350f8356",
   "metadata": {},
   "outputs": [],
   "source": [
    "import sqlite3"
   ]
  },
  {
   "cell_type": "code",
   "execution_count": 2,
   "id": "268609f3",
   "metadata": {},
   "outputs": [],
   "source": [
    "conn = sqlite3.connect(\"data/lesson.db\")"
   ]
  },
  {
   "cell_type": "code",
   "execution_count": 3,
   "id": "8b219c0b",
   "metadata": {},
   "outputs": [
    {
     "data": {
      "text/plain": [
       "['DataError',\n",
       " 'DatabaseError',\n",
       " 'Error',\n",
       " 'IntegrityError',\n",
       " 'InterfaceError',\n",
       " 'InternalError',\n",
       " 'NotSupportedError',\n",
       " 'OperationalError',\n",
       " 'ProgrammingError',\n",
       " 'Warning',\n",
       " '__call__',\n",
       " '__class__',\n",
       " '__delattr__',\n",
       " '__dir__',\n",
       " '__doc__',\n",
       " '__enter__',\n",
       " '__eq__',\n",
       " '__exit__',\n",
       " '__format__',\n",
       " '__ge__',\n",
       " '__getattribute__',\n",
       " '__gt__',\n",
       " '__hash__',\n",
       " '__init__',\n",
       " '__init_subclass__',\n",
       " '__le__',\n",
       " '__lt__',\n",
       " '__ne__',\n",
       " '__new__',\n",
       " '__reduce__',\n",
       " '__reduce_ex__',\n",
       " '__repr__',\n",
       " '__setattr__',\n",
       " '__sizeof__',\n",
       " '__str__',\n",
       " '__subclasshook__',\n",
       " 'backup',\n",
       " 'close',\n",
       " 'commit',\n",
       " 'create_aggregate',\n",
       " 'create_collation',\n",
       " 'create_function',\n",
       " 'cursor',\n",
       " 'enable_load_extension',\n",
       " 'execute',\n",
       " 'executemany',\n",
       " 'executescript',\n",
       " 'in_transaction',\n",
       " 'interrupt',\n",
       " 'isolation_level',\n",
       " 'iterdump',\n",
       " 'load_extension',\n",
       " 'rollback',\n",
       " 'row_factory',\n",
       " 'set_authorizer',\n",
       " 'set_progress_handler',\n",
       " 'set_trace_callback',\n",
       " 'text_factory',\n",
       " 'total_changes']"
      ]
     },
     "execution_count": 3,
     "metadata": {},
     "output_type": "execute_result"
    }
   ],
   "source": [
    "dir(conn)"
   ]
  },
  {
   "cell_type": "code",
   "execution_count": 4,
   "id": "7d132437",
   "metadata": {},
   "outputs": [
    {
     "data": {
      "text/plain": [
       "<sqlite3.Cursor at 0x1b8af60b340>"
      ]
     },
     "execution_count": 4,
     "metadata": {},
     "output_type": "execute_result"
    }
   ],
   "source": [
    "conn.cursor()"
   ]
  },
  {
   "cell_type": "code",
   "execution_count": 5,
   "id": "905a258e",
   "metadata": {},
   "outputs": [],
   "source": [
    "conn.close()"
   ]
  },
  {
   "cell_type": "code",
   "execution_count": 6,
   "id": "20ac7a45",
   "metadata": {},
   "outputs": [],
   "source": [
    "with sqlite3.connect(\"data/lesson.db\") as conn:\n",
    "    pass"
   ]
  },
  {
   "cell_type": "markdown",
   "id": "532d887b",
   "metadata": {},
   "source": [
    "### DDL and DML Commands in SQLite"
   ]
  },
  {
   "cell_type": "code",
   "execution_count": 7,
   "id": "f7870ef2",
   "metadata": {},
   "outputs": [],
   "source": [
    "conn = sqlite3.connect(\"data/lesson.db\")"
   ]
  },
  {
   "cell_type": "code",
   "execution_count": 8,
   "id": "5916bb95",
   "metadata": {},
   "outputs": [],
   "source": [
    "cursor = conn.cursor()"
   ]
  },
  {
   "cell_type": "code",
   "execution_count": 9,
   "id": "ff069f20",
   "metadata": {},
   "outputs": [
    {
     "data": {
      "text/plain": [
       "<sqlite3.Cursor at 0x1b8af60bd50>"
      ]
     },
     "execution_count": 9,
     "metadata": {},
     "output_type": "execute_result"
    }
   ],
   "source": [
    "cursor.execute(\"CREATE TABLE IF NOT EXISTS user (email text, first_name text, last_name text,\\\n",
    "address text, age integer, PRIMARY KEY (email))\")"
   ]
  },
  {
   "cell_type": "code",
   "execution_count": 11,
   "id": "200c8cd9",
   "metadata": {},
   "outputs": [
    {
     "ename": "IntegrityError",
     "evalue": "UNIQUE constraint failed: user.email",
     "output_type": "error",
     "traceback": [
      "\u001b[1;31m---------------------------------------------------------------------------\u001b[0m",
      "\u001b[1;31mIntegrityError\u001b[0m                            Traceback (most recent call last)",
      "\u001b[1;32m<ipython-input-11-70ceafdb3687>\u001b[0m in \u001b[0;36m<module>\u001b[1;34m\u001b[0m\n\u001b[1;32m----> 1\u001b[1;33m \u001b[0mcursor\u001b[0m\u001b[1;33m.\u001b[0m\u001b[0mexecute\u001b[0m\u001b[1;33m(\u001b[0m\u001b[1;34m\"INSERT INTO user VALUES ('bob@example.com', 'Bob','Codd', '123 Fantasy lane, Fantasu City', 31)\"\u001b[0m\u001b[1;33m)\u001b[0m\u001b[1;33m\u001b[0m\u001b[1;33m\u001b[0m\u001b[0m\n\u001b[0m\u001b[0;32m      2\u001b[0m \u001b[0mcursor\u001b[0m\u001b[1;33m.\u001b[0m\u001b[0mexecute\u001b[0m\u001b[1;33m(\u001b[0m\u001b[1;34m\"INSERT INTO user VALUES ('tom@web.com', 'Tom', 'Fake', '123 Fantasy lane, Fantasu City', 39)\"\u001b[0m\u001b[1;33m)\u001b[0m\u001b[1;33m\u001b[0m\u001b[1;33m\u001b[0m\u001b[0m\n",
      "\u001b[1;31mIntegrityError\u001b[0m: UNIQUE constraint failed: user.email"
     ]
    }
   ],
   "source": [
    "cursor.execute(\"INSERT INTO user VALUES ('bob@example.com', 'Bob','Codd', '123 Fantasy lane, Fantasu City', 31)\")\n",
    "cursor.execute(\"INSERT INTO user VALUES ('tom@web.com', 'Tom', 'Fake', '123 Fantasy lane, Fantasu City', 39)\")"
   ]
  },
  {
   "cell_type": "code",
   "execution_count": 12,
   "id": "e66babff",
   "metadata": {},
   "outputs": [
    {
     "data": {
      "text/plain": [
       "<sqlite3.Cursor at 0x1b8af60bd50>"
      ]
     },
     "execution_count": 12,
     "metadata": {},
     "output_type": "execute_result"
    }
   ],
   "source": [
    "cursor.execute(\"DELETE FROM user\")"
   ]
  },
  {
   "cell_type": "code",
   "execution_count": 15,
   "id": "f27ed476",
   "metadata": {},
   "outputs": [],
   "source": [
    "data = [('bob@example.com', 'Bob', 'Codd', '123 Fantasy lane, Fantasu City', 31),\n",
    "('tom@web.com', 'Tom', 'Fake', '123 Fantasy lane, Fantasu City', 39)]\n",
    "stmt = \"INSERT INTO user VALUES(?, ?, ?, ?, ?)\""
   ]
  },
  {
   "cell_type": "code",
   "execution_count": 16,
   "id": "7a7077d0",
   "metadata": {},
   "outputs": [
    {
     "data": {
      "text/plain": [
       "<sqlite3.Cursor at 0x1b8af60bd50>"
      ]
     },
     "execution_count": 16,
     "metadata": {},
     "output_type": "execute_result"
    }
   ],
   "source": [
    "cursor.executemany(stmt, data)"
   ]
  },
  {
   "cell_type": "code",
   "execution_count": 17,
   "id": "b434582a",
   "metadata": {},
   "outputs": [],
   "source": [
    "conn.commit()"
   ]
  },
  {
   "cell_type": "markdown",
   "id": "cc1e5752",
   "metadata": {},
   "source": [
    "### Reading Data from a Database in SQLite"
   ]
  },
  {
   "cell_type": "code",
   "execution_count": 18,
   "id": "9fb2a89a",
   "metadata": {},
   "outputs": [
    {
     "name": "stdout",
     "output_type": "stream",
     "text": [
      "Row# 1:('bob@example.com', 'Bob', 'Codd', '123 Fantasy lane, Fantasu City', 31)\n",
      "Row# 2:('tom@web.com', 'Tom', 'Fake', '123 Fantasy lane, Fantasu City', 39)\n"
     ]
    }
   ],
   "source": [
    "rows = cursor.execute('SELECT * FROM user')\n",
    "for i,row in enumerate(rows):\n",
    "    print(f'Row# {i+1}:{row}')"
   ]
  },
  {
   "cell_type": "code",
   "execution_count": 19,
   "id": "08ce5070",
   "metadata": {},
   "outputs": [
    {
     "data": {
      "text/plain": [
       "[('bob@example.com', 'Bob', 'Codd', '123 Fantasy lane, Fantasu City', 31),\n",
       " ('tom@web.com', 'Tom', 'Fake', '123 Fantasy lane, Fantasu City', 39)]"
      ]
     },
     "execution_count": 19,
     "metadata": {},
     "output_type": "execute_result"
    }
   ],
   "source": [
    "rows = cursor.execute('SELECT * FROM user')\n",
    "rows.fetchall()"
   ]
  },
  {
   "cell_type": "code",
   "execution_count": 20,
   "id": "239c447b",
   "metadata": {},
   "outputs": [
    {
     "data": {
      "text/plain": [
       "[('bob@example.com', 'Bob', 'Codd', '123 Fantasy lane, Fantasu City', 31)]"
      ]
     },
     "execution_count": 20,
     "metadata": {},
     "output_type": "execute_result"
    }
   ],
   "source": [
    "rows = cursor.execute('SELECT * FROM user LIMIT 1')\n",
    "rows.fetchall()"
   ]
  },
  {
   "cell_type": "markdown",
   "id": "1f8e3b6d",
   "metadata": {},
   "source": [
    "### Sorting Values in the Database"
   ]
  },
  {
   "cell_type": "code",
   "execution_count": 18,
   "id": "8b9b7420",
   "metadata": {},
   "outputs": [
    {
     "data": {
      "text/plain": [
       "[('tom@web.com', 'Tom', 'Fake', '123 Fantasy lane, Fantasu City', 39),\n",
       " ('bob@example.com', 'Bob', 'Codd', '123 Fantasy lane, Fantasu City', 31)]"
      ]
     },
     "execution_count": 18,
     "metadata": {},
     "output_type": "execute_result"
    }
   ],
   "source": [
    "rows = cursor.execute('SELECT * FROM user ORDER BY age DESC')\n",
    "rows.fetchall()"
   ]
  },
  {
   "cell_type": "markdown",
   "id": "17499d54",
   "metadata": {},
   "source": [
    "### Altering Table Structure and Updating New Columns"
   ]
  },
  {
   "cell_type": "code",
   "execution_count": 21,
   "id": "de117b5a",
   "metadata": {},
   "outputs": [
    {
     "data": {
      "text/plain": [
       "<sqlite3.Cursor at 0x1b8af60bd50>"
      ]
     },
     "execution_count": 21,
     "metadata": {},
     "output_type": "execute_result"
    }
   ],
   "source": [
    "cursor.execute(\"ALTER TABLE user ADD COLUMN gender text\")"
   ]
  },
  {
   "cell_type": "code",
   "execution_count": 22,
   "id": "9e010b52",
   "metadata": {},
   "outputs": [
    {
     "data": {
      "text/plain": [
       "[('tom@web.com', 'Tom', 'Fake', '123 Fantasy lane, Fantasu City', 39, None),\n",
       " ('bob@example.com',\n",
       "  'Bob',\n",
       "  'Codd',\n",
       "  '123 Fantasy lane, Fantasu City',\n",
       "  31,\n",
       "  None)]"
      ]
     },
     "execution_count": 22,
     "metadata": {},
     "output_type": "execute_result"
    }
   ],
   "source": [
    "rows = cursor.execute('SELECT * FROM user ORDER BY age DESC')\n",
    "rows.fetchall()"
   ]
  },
  {
   "cell_type": "code",
   "execution_count": 23,
   "id": "a9845a65",
   "metadata": {},
   "outputs": [
    {
     "data": {
      "text/plain": [
       "<sqlite3.Cursor at 0x1b8af60bd50>"
      ]
     },
     "execution_count": 23,
     "metadata": {},
     "output_type": "execute_result"
    }
   ],
   "source": [
    "cursor.execute(\"UPDATE user SET gender='M'\")"
   ]
  },
  {
   "cell_type": "code",
   "execution_count": 24,
   "id": "5a35e3e5",
   "metadata": {},
   "outputs": [
    {
     "data": {
      "text/plain": [
       "[('tom@web.com', 'Tom', 'Fake', '123 Fantasy lane, Fantasu City', 39, 'M'),\n",
       " ('bob@example.com', 'Bob', 'Codd', '123 Fantasy lane, Fantasu City', 31, 'M')]"
      ]
     },
     "execution_count": 24,
     "metadata": {},
     "output_type": "execute_result"
    }
   ],
   "source": [
    "rows = cursor.execute('SELECT * FROM user ORDER BY age DESC')\n",
    "rows.fetchall()"
   ]
  },
  {
   "cell_type": "code",
   "execution_count": 25,
   "id": "ef8a6cce",
   "metadata": {},
   "outputs": [],
   "source": [
    "conn.commit()"
   ]
  },
  {
   "cell_type": "markdown",
   "id": "4697cb4a",
   "metadata": {},
   "source": [
    "### Grouping Values in Tables"
   ]
  },
  {
   "cell_type": "code",
   "execution_count": 26,
   "id": "d189794f",
   "metadata": {},
   "outputs": [],
   "source": [
    "cursor.execute(\"INSERT INTO user VALUES ('shelly@www.com', 'Shelly','Milar', '123, Ocean View Lane', 39, 'F')\")\n",
    "conn.commit()"
   ]
  },
  {
   "cell_type": "code",
   "execution_count": 27,
   "id": "ecb25a46",
   "metadata": {},
   "outputs": [
    {
     "data": {
      "text/plain": [
       "[('bob@example.com', 'Bob', 'Codd', '123 Fantasy lane, Fantasu City', 31, 'M'),\n",
       " ('tom@web.com', 'Tom', 'Fake', '123 Fantasy lane, Fantasu City', 39, 'M'),\n",
       " ('shelly@www.com', 'Shelly', 'Milar', '123, Ocean View Lane', 39, 'F')]"
      ]
     },
     "execution_count": 27,
     "metadata": {},
     "output_type": "execute_result"
    }
   ],
   "source": [
    "rows = cursor.execute('SELECT * FROM user ORDER BY gender DESC')\n",
    "rows.fetchall()"
   ]
  },
  {
   "cell_type": "code",
   "execution_count": 28,
   "id": "0096b595",
   "metadata": {},
   "outputs": [
    {
     "data": {
      "text/plain": [
       "[('shelly@www.com', 'Shelly', 'Milar', '123, Ocean View Lane', 39, 'F'),\n",
       " ('bob@example.com', 'Bob', 'Codd', '123 Fantasy lane, Fantasu City', 31, 'M'),\n",
       " ('tom@web.com', 'Tom', 'Fake', '123 Fantasy lane, Fantasu City', 39, 'M')]"
      ]
     },
     "execution_count": 28,
     "metadata": {},
     "output_type": "execute_result"
    }
   ],
   "source": [
    "rows = cursor.execute('SELECT * FROM user ORDER BY gender')\n",
    "rows.fetchall()"
   ]
  },
  {
   "cell_type": "code",
   "execution_count": 29,
   "id": "7ab16187",
   "metadata": {},
   "outputs": [
    {
     "data": {
      "text/plain": [
       "[(1, 'F'), (2, 'M')]"
      ]
     },
     "execution_count": 29,
     "metadata": {},
     "output_type": "execute_result"
    }
   ],
   "source": [
    "rows = cursor.execute('SELECT COUNT(*),gender FROM user GROUP BY gender')\n",
    "rows.fetchall()"
   ]
  },
  {
   "cell_type": "code",
   "execution_count": 31,
   "id": "0db95f74",
   "metadata": {},
   "outputs": [
    {
     "data": {
      "text/plain": [
       "[('F', 1), ('M', 2)]"
      ]
     },
     "execution_count": 31,
     "metadata": {},
     "output_type": "execute_result"
    }
   ],
   "source": [
    "rows = cursor.execute('SELECT gender,COUNT(*) FROM user GROUP BY gender')\n",
    "rows.fetchall()"
   ]
  },
  {
   "cell_type": "code",
   "execution_count": 33,
   "id": "bfe1bd3c",
   "metadata": {},
   "outputs": [
    {
     "data": {
      "text/plain": [
       "[('F', 39), ('M', 31)]"
      ]
     },
     "execution_count": 33,
     "metadata": {},
     "output_type": "execute_result"
    }
   ],
   "source": [
    "rows = cursor.execute('SELECT gender,MIN(age) FROM user GROUP BY gender')\n",
    "rows.fetchall()"
   ]
  },
  {
   "cell_type": "code",
   "execution_count": 34,
   "id": "05d9b257",
   "metadata": {},
   "outputs": [
    {
     "data": {
      "text/plain": [
       "[('F', 39), ('M', 39)]"
      ]
     },
     "execution_count": 34,
     "metadata": {},
     "output_type": "execute_result"
    }
   ],
   "source": [
    "rows = cursor.execute('SELECT gender,MAX(age) FROM user GROUP BY gender')\n",
    "rows.fetchall()"
   ]
  },
  {
   "cell_type": "code",
   "execution_count": 35,
   "id": "e46a46b2",
   "metadata": {},
   "outputs": [
    {
     "data": {
      "text/plain": [
       "[('F', 39.0), ('M', 35.0)]"
      ]
     },
     "execution_count": 35,
     "metadata": {},
     "output_type": "execute_result"
    }
   ],
   "source": [
    "rows = cursor.execute('SELECT gender,AVG(age) FROM user GROUP BY gender')\n",
    "rows.fetchall()"
   ]
  },
  {
   "cell_type": "code",
   "execution_count": 37,
   "id": "d018e00d",
   "metadata": {},
   "outputs": [
    {
     "data": {
      "text/plain": [
       "[('F', 1), ('M', 2)]"
      ]
     },
     "execution_count": 37,
     "metadata": {},
     "output_type": "execute_result"
    }
   ],
   "source": [
    "rows = cursor.execute('SELECT gender, COUNT(*) FROM user GROUP BY gender')\n",
    "rows.fetchall()"
   ]
  },
  {
   "cell_type": "markdown",
   "id": "dd76c315",
   "metadata": {},
   "source": [
    "### Relational Mapping in Databases"
   ]
  },
  {
   "cell_type": "code",
   "execution_count": 38,
   "id": "72cd7f74",
   "metadata": {},
   "outputs": [
    {
     "data": {
      "text/plain": [
       "<sqlite3.Cursor at 0x1b8af60bd50>"
      ]
     },
     "execution_count": 38,
     "metadata": {},
     "output_type": "execute_result"
    }
   ],
   "source": [
    "cursor.execute(\"PRAGMA foreign_keys = 1\")"
   ]
  },
  {
   "cell_type": "code",
   "execution_count": 39,
   "id": "f4eea76f",
   "metadata": {},
   "outputs": [],
   "source": [
    "sql = \"\"\"\n",
    "CREATE TABLE comments (\n",
    "user_id text,\n",
    "comments text,\n",
    "FOREIGN KEY (user_id) REFERENCES user (email)\n",
    "ON DELETE CASCADE ON UPDATE CASCADE)\n",
    "\"\"\""
   ]
  },
  {
   "cell_type": "code",
   "execution_count": 40,
   "id": "6085784f",
   "metadata": {},
   "outputs": [],
   "source": [
    "cursor.execute(sql)\n",
    "conn.commit()"
   ]
  },
  {
   "cell_type": "code",
   "execution_count": 41,
   "id": "4f75202b",
   "metadata": {},
   "outputs": [
    {
     "data": {
      "text/plain": [
       "[]"
      ]
     },
     "execution_count": 41,
     "metadata": {},
     "output_type": "execute_result"
    }
   ],
   "source": [
    "rows = cursor.execute('SELECT * FROM comments')\n",
    "rows.fetchall()"
   ]
  },
  {
   "cell_type": "code",
   "execution_count": 42,
   "id": "c4a248b2",
   "metadata": {},
   "outputs": [
    {
     "data": {
      "text/plain": [
       "[('bob@example.com', 'Bob', 'Codd', '123 Fantasy lane, Fantasu City', 31, 'M'),\n",
       " ('tom@web.com', 'Tom', 'Fake', '123 Fantasy lane, Fantasu City', 39, 'M'),\n",
       " ('shelly@www.com', 'Shelly', 'Milar', '123, Ocean View Lane', 39, 'F')]"
      ]
     },
     "execution_count": 42,
     "metadata": {},
     "output_type": "execute_result"
    }
   ],
   "source": [
    "rows = cursor.execute('SELECT * FROM user ORDER BY age')\n",
    "rows.fetchall()"
   ]
  },
  {
   "cell_type": "code",
   "execution_count": 43,
   "id": "06777904",
   "metadata": {},
   "outputs": [
    {
     "name": "stdout",
     "output_type": "stream",
     "text": [
      "Going to create rows for bob@example.com\n",
      "Going to create rows for tom@web.com\n",
      "Going to create rows for shelly@www.com\n"
     ]
    }
   ],
   "source": [
    "sql = \"INSERT INTO comments VALUES ('{}', '{}')\"\n",
    "rows = cursor.execute('SELECT * FROM user ORDER BY age')\n",
    "for row in rows:\n",
    "    email = row[0]\n",
    "    #print(\"Going to create rows for {}\".format(email))\n",
    "    print(f'Going to create rows for {email}')\n",
    "    #name = row[1] + \" \" + row[2]\n",
    "    name = f'{row[1]} {row[2]}'\n",
    "    for i in range(10):\n",
    "        #comment = \"This is comment {} by {}\".format(i, name)\n",
    "        comment = f'This is comment {i} by {name}'\n",
    "        conn.cursor().execute(sql.format(email, comment))\n",
    "conn.commit()"
   ]
  },
  {
   "cell_type": "code",
   "execution_count": 44,
   "id": "f68fc749",
   "metadata": {},
   "outputs": [
    {
     "name": "stdout",
     "output_type": "stream",
     "text": [
      "('bob@example.com', 'This is comment 0 by Bob Codd')\n",
      "('bob@example.com', 'This is comment 5 by Bob Codd')\n",
      "('tom@web.com', 'This is comment 0 by Tom Fake')\n",
      "('tom@web.com', 'This is comment 5 by Tom Fake')\n",
      "('shelly@www.com', 'This is comment 0 by Shelly Milar')\n",
      "('shelly@www.com', 'This is comment 5 by Shelly Milar')\n"
     ]
    }
   ],
   "source": [
    "rows = cursor.execute('SELECT * FROM comments')\n",
    "for i, row in enumerate(rows):\n",
    "    if (i % 5 == 0):\n",
    "        print(row)\n",
    "    i += 1"
   ]
  },
  {
   "cell_type": "code",
   "execution_count": 45,
   "id": "b864fbcb",
   "metadata": {},
   "outputs": [
    {
     "data": {
      "text/plain": [
       "[('bob@example.com', 'This is comment 0 by Bob Codd'),\n",
       " ('bob@example.com', 'This is comment 1 by Bob Codd'),\n",
       " ('bob@example.com', 'This is comment 2 by Bob Codd'),\n",
       " ('bob@example.com', 'This is comment 3 by Bob Codd'),\n",
       " ('bob@example.com', 'This is comment 4 by Bob Codd'),\n",
       " ('bob@example.com', 'This is comment 5 by Bob Codd'),\n",
       " ('bob@example.com', 'This is comment 6 by Bob Codd'),\n",
       " ('bob@example.com', 'This is comment 7 by Bob Codd'),\n",
       " ('bob@example.com', 'This is comment 8 by Bob Codd'),\n",
       " ('bob@example.com', 'This is comment 9 by Bob Codd'),\n",
       " ('tom@web.com', 'This is comment 0 by Tom Fake'),\n",
       " ('tom@web.com', 'This is comment 1 by Tom Fake'),\n",
       " ('tom@web.com', 'This is comment 2 by Tom Fake'),\n",
       " ('tom@web.com', 'This is comment 3 by Tom Fake'),\n",
       " ('tom@web.com', 'This is comment 4 by Tom Fake'),\n",
       " ('tom@web.com', 'This is comment 5 by Tom Fake'),\n",
       " ('tom@web.com', 'This is comment 6 by Tom Fake'),\n",
       " ('tom@web.com', 'This is comment 7 by Tom Fake'),\n",
       " ('tom@web.com', 'This is comment 8 by Tom Fake'),\n",
       " ('tom@web.com', 'This is comment 9 by Tom Fake'),\n",
       " ('shelly@www.com', 'This is comment 0 by Shelly Milar'),\n",
       " ('shelly@www.com', 'This is comment 1 by Shelly Milar'),\n",
       " ('shelly@www.com', 'This is comment 2 by Shelly Milar'),\n",
       " ('shelly@www.com', 'This is comment 3 by Shelly Milar'),\n",
       " ('shelly@www.com', 'This is comment 4 by Shelly Milar'),\n",
       " ('shelly@www.com', 'This is comment 5 by Shelly Milar'),\n",
       " ('shelly@www.com', 'This is comment 6 by Shelly Milar'),\n",
       " ('shelly@www.com', 'This is comment 7 by Shelly Milar'),\n",
       " ('shelly@www.com', 'This is comment 8 by Shelly Milar'),\n",
       " ('shelly@www.com', 'This is comment 9 by Shelly Milar')]"
      ]
     },
     "execution_count": 45,
     "metadata": {},
     "output_type": "execute_result"
    }
   ],
   "source": [
    "rows = cursor.execute('SELECT * FROM comments')\n",
    "rows.fetchall()"
   ]
  },
  {
   "cell_type": "markdown",
   "id": "4145cb0a",
   "metadata": {},
   "source": [
    "### Joins"
   ]
  },
  {
   "cell_type": "code",
   "execution_count": 46,
   "id": "6b063146",
   "metadata": {},
   "outputs": [],
   "source": [
    "sql = \"\"\"\n",
    "SELECT * FROM comments\n",
    "JOIN user ON comments.user_id = user.email\n",
    "WHERE user.email='bob@example.com'\n",
    "LIMIT 3\n",
    "\"\"\""
   ]
  },
  {
   "cell_type": "code",
   "execution_count": 47,
   "id": "2cbed35a",
   "metadata": {},
   "outputs": [
    {
     "name": "stdout",
     "output_type": "stream",
     "text": [
      "('bob@example.com', 'This is comment 0 by Bob Codd', 'bob@example.com', 'Bob', 'Codd', '123 Fantasy lane, Fantasu City', 31, 'M')\n",
      "('bob@example.com', 'This is comment 1 by Bob Codd', 'bob@example.com', 'Bob', 'Codd', '123 Fantasy lane, Fantasu City', 31, 'M')\n",
      "('bob@example.com', 'This is comment 2 by Bob Codd', 'bob@example.com', 'Bob', 'Codd', '123 Fantasy lane, Fantasu City', 31, 'M')\n"
     ]
    }
   ],
   "source": [
    "rows = cursor.execute(sql)\n",
    "for row in rows:\n",
    "    print(row)"
   ]
  },
  {
   "cell_type": "code",
   "execution_count": 48,
   "id": "659e0b36",
   "metadata": {},
   "outputs": [
    {
     "name": "stdout",
     "output_type": "stream",
     "text": [
      "('bob@example.com', 'This is comment 0 by Bob Codd')\n",
      "('bob@example.com', 'This is comment 1 by Bob Codd')\n",
      "('bob@example.com', 'This is comment 2 by Bob Codd')\n",
      "('bob@example.com', 'This is comment 3 by Bob Codd')\n"
     ]
    }
   ],
   "source": [
    "sql = \"\"\"\n",
    "SELECT comments.* FROM user\n",
    "JOIN comments ON comments.user_id = user.email\n",
    "WHERE user.email='bob@example.com'\n",
    "LIMIT 4\n",
    "\"\"\"\n",
    "rows = cursor.execute(sql)\n",
    "for row in rows:\n",
    "    print(row)"
   ]
  },
  {
   "cell_type": "code",
   "execution_count": 49,
   "id": "d4f05918",
   "metadata": {},
   "outputs": [
    {
     "name": "stdout",
     "output_type": "stream",
     "text": [
      "('bob@example.com', 'This is comment 0 by Bob Codd')\n",
      "('bob@example.com', 'This is comment 1 by Bob Codd')\n",
      "('bob@example.com', 'This is comment 2 by Bob Codd')\n",
      "('bob@example.com', 'This is comment 3 by Bob Codd')\n"
     ]
    }
   ],
   "source": [
    "sql = \"\"\"\n",
    "SELECT email,comments FROM user\n",
    "JOIN comments ON comments.user_id = user.email\n",
    "WHERE user.email='bob@example.com'\n",
    "LIMIT 4\n",
    "\"\"\"\n",
    "rows = cursor.execute(sql)\n",
    "for row in rows:\n",
    "    print(row)"
   ]
  },
  {
   "cell_type": "code",
   "execution_count": 50,
   "id": "d1369580",
   "metadata": {},
   "outputs": [
    {
     "name": "stdout",
     "output_type": "stream",
     "text": [
      "('Bob', 'Codd', 'This is comment 0 by Bob Codd')\n",
      "('Bob', 'Codd', 'This is comment 1 by Bob Codd')\n",
      "('Bob', 'Codd', 'This is comment 2 by Bob Codd')\n",
      "('Bob', 'Codd', 'This is comment 3 by Bob Codd')\n",
      "('Bob', 'Codd', 'This is comment 4 by Bob Codd')\n",
      "('Bob', 'Codd', 'This is comment 5 by Bob Codd')\n",
      "('Bob', 'Codd', 'This is comment 6 by Bob Codd')\n",
      "('Bob', 'Codd', 'This is comment 7 by Bob Codd')\n",
      "('Bob', 'Codd', 'This is comment 8 by Bob Codd')\n",
      "('Bob', 'Codd', 'This is comment 9 by Bob Codd')\n"
     ]
    }
   ],
   "source": [
    "sql = \"\"\"\n",
    "SELECT first_name, last_name, comments FROM user\n",
    "JOIN comments ON comments.user_id = user.email\n",
    "WHERE user.email='bob@example.com'\n",
    "\"\"\"\n",
    "rows = cursor.execute(sql)\n",
    "for row in rows:\n",
    "    print(row)"
   ]
  },
  {
   "cell_type": "markdown",
   "id": "b52cdd8c",
   "metadata": {},
   "source": [
    "### Deleting Rows From a Table"
   ]
  },
  {
   "cell_type": "code",
   "execution_count": 51,
   "id": "c33b1028",
   "metadata": {},
   "outputs": [],
   "source": [
    "cursor.execute(\"DELETE FROM user WHERE email='bob@example.com'\")\n",
    "conn.commit()"
   ]
  },
  {
   "cell_type": "code",
   "execution_count": 52,
   "id": "534b532a",
   "metadata": {},
   "outputs": [
    {
     "name": "stdout",
     "output_type": "stream",
     "text": [
      "Row# 1:('shelly@www.com', 'Shelly', 'Milar', '123, Ocean View Lane', 39, 'F')\n",
      "Row# 2:('tom@web.com', 'Tom', 'Fake', '123 Fantasy lane, Fantasu City', 39, 'M')\n"
     ]
    }
   ],
   "source": [
    "rows = cursor.execute('SELECT * FROM user ORDER BY gender')\n",
    "for i,row in enumerate(rows):\n",
    "    print(f'Row# {i+1}:{row}')"
   ]
  },
  {
   "cell_type": "code",
   "execution_count": 53,
   "id": "e867a49c",
   "metadata": {},
   "outputs": [
    {
     "name": "stdout",
     "output_type": "stream",
     "text": [
      "('tom@web.com', 'This is comment 0 by Tom Fake')\n",
      "('tom@web.com', 'This is comment 1 by Tom Fake')\n",
      "('tom@web.com', 'This is comment 2 by Tom Fake')\n",
      "('tom@web.com', 'This is comment 3 by Tom Fake')\n",
      "('tom@web.com', 'This is comment 4 by Tom Fake')\n",
      "('tom@web.com', 'This is comment 5 by Tom Fake')\n",
      "('tom@web.com', 'This is comment 6 by Tom Fake')\n",
      "('tom@web.com', 'This is comment 7 by Tom Fake')\n",
      "('tom@web.com', 'This is comment 8 by Tom Fake')\n",
      "('tom@web.com', 'This is comment 9 by Tom Fake')\n",
      "('shelly@www.com', 'This is comment 0 by Shelly Milar')\n",
      "('shelly@www.com', 'This is comment 1 by Shelly Milar')\n",
      "('shelly@www.com', 'This is comment 2 by Shelly Milar')\n",
      "('shelly@www.com', 'This is comment 3 by Shelly Milar')\n",
      "('shelly@www.com', 'This is comment 4 by Shelly Milar')\n",
      "('shelly@www.com', 'This is comment 5 by Shelly Milar')\n",
      "('shelly@www.com', 'This is comment 6 by Shelly Milar')\n",
      "('shelly@www.com', 'This is comment 7 by Shelly Milar')\n"
     ]
    }
   ],
   "source": [
    "rows = cursor.execute(\"SELECT * FROM comments LIMIT 18\")\n",
    "for row in rows:\n",
    "    print(row)"
   ]
  },
  {
   "cell_type": "markdown",
   "id": "39182737",
   "metadata": {},
   "source": [
    "### Updating Specific Values in a Table"
   ]
  },
  {
   "cell_type": "code",
   "execution_count": 59,
   "id": "79ecdcf8",
   "metadata": {},
   "outputs": [
    {
     "name": "stdout",
     "output_type": "stream",
     "text": [
      "('tom@outlook.com', 'Tom', 'Fake', '123 Fantasy lane, Fantasu City', 39, 'M')\n",
      "('shelly@www.com', 'Shelly', 'Milar', '123, Ocean View Lane', 39, 'F')\n"
     ]
    }
   ],
   "source": [
    "cursor.execute(\"UPDATE user SET first_name='Chris' WHERE email='tom@web.com'\")\n",
    "conn.commit()\n",
    "rows = cursor.execute(\"SELECT * FROM user\")\n",
    "for row in rows:\n",
    "    print(row)"
   ]
  },
  {
   "cell_type": "code",
   "execution_count": 60,
   "id": "e50efa78",
   "metadata": {},
   "outputs": [
    {
     "name": "stdout",
     "output_type": "stream",
     "text": [
      "('tom@outlook.com', 'This is comment 0 by Tom Fake')\n",
      "('tom@outlook.com', 'This is comment 1 by Tom Fake')\n",
      "('tom@outlook.com', 'This is comment 2 by Tom Fake')\n",
      "('tom@outlook.com', 'This is comment 3 by Tom Fake')\n",
      "('tom@outlook.com', 'This is comment 4 by Tom Fake')\n",
      "('tom@outlook.com', 'This is comment 5 by Tom Fake')\n",
      "('tom@outlook.com', 'This is comment 6 by Tom Fake')\n",
      "('tom@outlook.com', 'This is comment 7 by Tom Fake')\n",
      "('tom@outlook.com', 'This is comment 8 by Tom Fake')\n",
      "('tom@outlook.com', 'This is comment 9 by Tom Fake')\n",
      "('shelly@www.com', 'This is comment 0 by Shelly Milar')\n",
      "('shelly@www.com', 'This is comment 1 by Shelly Milar')\n",
      "('shelly@www.com', 'This is comment 2 by Shelly Milar')\n",
      "('shelly@www.com', 'This is comment 3 by Shelly Milar')\n",
      "('shelly@www.com', 'This is comment 4 by Shelly Milar')\n",
      "('shelly@www.com', 'This is comment 5 by Shelly Milar')\n",
      "('shelly@www.com', 'This is comment 6 by Shelly Milar')\n",
      "('shelly@www.com', 'This is comment 7 by Shelly Milar')\n"
     ]
    }
   ],
   "source": [
    "rows = cursor.execute(\"SELECT * FROM comments LIMIT 18\")\n",
    "for row in rows:\n",
    "    print(row)"
   ]
  },
  {
   "cell_type": "code",
   "execution_count": 61,
   "id": "2ab84dff",
   "metadata": {},
   "outputs": [
    {
     "name": "stdout",
     "output_type": "stream",
     "text": [
      "('tom@outlook.com', 'Tom', 'Fake', '123 Fantasy lane, Fantasu City', 39, 'M')\n",
      "('shelly@www.com', 'Shelly', 'Milar', '123, Ocean View Lane', 39, 'F')\n"
     ]
    }
   ],
   "source": [
    "cursor.execute(\"UPDATE user SET first_name='Tom' WHERE email='tom@web.com'\")\n",
    "conn.commit()\n",
    "rows = cursor.execute(\"SELECT * FROM user\")\n",
    "for row in rows:\n",
    "    print(row)"
   ]
  },
  {
   "cell_type": "code",
   "execution_count": 62,
   "id": "586be2bc",
   "metadata": {},
   "outputs": [
    {
     "name": "stdout",
     "output_type": "stream",
     "text": [
      "('tom@outlook.com', 'Tom', 'Fake', '123 Fantasy lane, Fantasu City', 39, 'M')\n",
      "('shelly@www.com', 'Shelly', 'Milar', '123, Ocean View Lane', 39, 'F')\n"
     ]
    }
   ],
   "source": [
    "cursor.execute(\"UPDATE user SET email='tom@outlook.com' WHERE email ='tom@web.com'\")\n",
    "conn.commit()\n",
    "rows = cursor.execute(\"SELECT * FROM user\")\n",
    "for row in rows:\n",
    "    print(row)"
   ]
  },
  {
   "cell_type": "code",
   "execution_count": 63,
   "id": "56717cf8",
   "metadata": {},
   "outputs": [
    {
     "name": "stdout",
     "output_type": "stream",
     "text": [
      "('tom@outlook.com', 'This is comment 0 by Tom Fake')\n",
      "('tom@outlook.com', 'This is comment 1 by Tom Fake')\n",
      "('tom@outlook.com', 'This is comment 2 by Tom Fake')\n",
      "('tom@outlook.com', 'This is comment 3 by Tom Fake')\n",
      "('tom@outlook.com', 'This is comment 4 by Tom Fake')\n",
      "('tom@outlook.com', 'This is comment 5 by Tom Fake')\n",
      "('tom@outlook.com', 'This is comment 6 by Tom Fake')\n",
      "('tom@outlook.com', 'This is comment 7 by Tom Fake')\n",
      "('tom@outlook.com', 'This is comment 8 by Tom Fake')\n",
      "('tom@outlook.com', 'This is comment 9 by Tom Fake')\n",
      "('shelly@www.com', 'This is comment 0 by Shelly Milar')\n",
      "('shelly@www.com', 'This is comment 1 by Shelly Milar')\n",
      "('shelly@www.com', 'This is comment 2 by Shelly Milar')\n",
      "('shelly@www.com', 'This is comment 3 by Shelly Milar')\n",
      "('shelly@www.com', 'This is comment 4 by Shelly Milar')\n",
      "('shelly@www.com', 'This is comment 5 by Shelly Milar')\n",
      "('shelly@www.com', 'This is comment 6 by Shelly Milar')\n",
      "('shelly@www.com', 'This is comment 7 by Shelly Milar')\n"
     ]
    }
   ],
   "source": [
    "rows = cursor.execute(\"SELECT * FROM comments LIMIT 18\")\n",
    "for row in rows:\n",
    "    print(row)"
   ]
  },
  {
   "cell_type": "code",
   "execution_count": 64,
   "id": "b38f6893",
   "metadata": {},
   "outputs": [
    {
     "name": "stdout",
     "output_type": "stream",
     "text": [
      "('tom@web.com', 'Tom', 'Fake', '123 Fantasy lane, Fantasu City', 39, 'M')\n",
      "('shelly@www.com', 'Shelly', 'Milar', '123, Ocean View Lane', 39, 'F')\n"
     ]
    }
   ],
   "source": [
    "cursor.execute(\"UPDATE user SET email='tom@web.com' WHERE email='tom@outlook.com'\")\n",
    "conn.commit()\n",
    "rows = cursor.execute(\"SELECT * FROM user\")\n",
    "for row in rows:\n",
    "    print(row)"
   ]
  },
  {
   "cell_type": "markdown",
   "id": "e45789cc",
   "metadata": {},
   "source": [
    "### RDBMS and DataFrames"
   ]
  },
  {
   "cell_type": "code",
   "execution_count": 65,
   "id": "e2acec77",
   "metadata": {},
   "outputs": [],
   "source": [
    "import pandas as pd"
   ]
  },
  {
   "cell_type": "code",
   "execution_count": 71,
   "id": "316d38ef",
   "metadata": {},
   "outputs": [],
   "source": [
    "columns = [\"Email\", \"First Name\", \"Last Name\", \"Age\", \"Gender\", \"Comments\"]\n",
    "data = []"
   ]
  },
  {
   "cell_type": "code",
   "execution_count": 72,
   "id": "02165dfe",
   "metadata": {},
   "outputs": [],
   "source": [
    "sql = \"\"\"\n",
    "SELECT user.email, user.first_name, user.last_name, user.age, user.gender, comments.comments FROM comments\n",
    "JOIN user ON comments.user_id = user.email\n",
    "\"\"\""
   ]
  },
  {
   "cell_type": "code",
   "execution_count": 73,
   "id": "513ef1ee",
   "metadata": {},
   "outputs": [
    {
     "data": {
      "text/plain": [
       "<sqlite3.Cursor at 0x1b8af60bd50>"
      ]
     },
     "execution_count": 73,
     "metadata": {},
     "output_type": "execute_result"
    }
   ],
   "source": [
    "rows = cursor.execute(sql)\n",
    "rows"
   ]
  },
  {
   "cell_type": "code",
   "execution_count": 74,
   "id": "6aebdca7",
   "metadata": {},
   "outputs": [],
   "source": [
    "for row in rows:\n",
    "    data.append(row)"
   ]
  },
  {
   "cell_type": "code",
   "execution_count": 75,
   "id": "bb0b2948",
   "metadata": {},
   "outputs": [
    {
     "data": {
      "text/plain": [
       "[('tom@web.com', 'Tom', 'Fake', 39, 'M', 'This is comment 0 by Tom Fake'),\n",
       " ('tom@web.com', 'Tom', 'Fake', 39, 'M', 'This is comment 1 by Tom Fake'),\n",
       " ('tom@web.com', 'Tom', 'Fake', 39, 'M', 'This is comment 2 by Tom Fake'),\n",
       " ('tom@web.com', 'Tom', 'Fake', 39, 'M', 'This is comment 3 by Tom Fake'),\n",
       " ('tom@web.com', 'Tom', 'Fake', 39, 'M', 'This is comment 4 by Tom Fake'),\n",
       " ('tom@web.com', 'Tom', 'Fake', 39, 'M', 'This is comment 5 by Tom Fake'),\n",
       " ('tom@web.com', 'Tom', 'Fake', 39, 'M', 'This is comment 6 by Tom Fake'),\n",
       " ('tom@web.com', 'Tom', 'Fake', 39, 'M', 'This is comment 7 by Tom Fake'),\n",
       " ('tom@web.com', 'Tom', 'Fake', 39, 'M', 'This is comment 8 by Tom Fake'),\n",
       " ('tom@web.com', 'Tom', 'Fake', 39, 'M', 'This is comment 9 by Tom Fake'),\n",
       " ('shelly@www.com',\n",
       "  'Shelly',\n",
       "  'Milar',\n",
       "  39,\n",
       "  'F',\n",
       "  'This is comment 0 by Shelly Milar'),\n",
       " ('shelly@www.com',\n",
       "  'Shelly',\n",
       "  'Milar',\n",
       "  39,\n",
       "  'F',\n",
       "  'This is comment 1 by Shelly Milar'),\n",
       " ('shelly@www.com',\n",
       "  'Shelly',\n",
       "  'Milar',\n",
       "  39,\n",
       "  'F',\n",
       "  'This is comment 2 by Shelly Milar'),\n",
       " ('shelly@www.com',\n",
       "  'Shelly',\n",
       "  'Milar',\n",
       "  39,\n",
       "  'F',\n",
       "  'This is comment 3 by Shelly Milar'),\n",
       " ('shelly@www.com',\n",
       "  'Shelly',\n",
       "  'Milar',\n",
       "  39,\n",
       "  'F',\n",
       "  'This is comment 4 by Shelly Milar'),\n",
       " ('shelly@www.com',\n",
       "  'Shelly',\n",
       "  'Milar',\n",
       "  39,\n",
       "  'F',\n",
       "  'This is comment 5 by Shelly Milar'),\n",
       " ('shelly@www.com',\n",
       "  'Shelly',\n",
       "  'Milar',\n",
       "  39,\n",
       "  'F',\n",
       "  'This is comment 6 by Shelly Milar'),\n",
       " ('shelly@www.com',\n",
       "  'Shelly',\n",
       "  'Milar',\n",
       "  39,\n",
       "  'F',\n",
       "  'This is comment 7 by Shelly Milar'),\n",
       " ('shelly@www.com',\n",
       "  'Shelly',\n",
       "  'Milar',\n",
       "  39,\n",
       "  'F',\n",
       "  'This is comment 8 by Shelly Milar'),\n",
       " ('shelly@www.com',\n",
       "  'Shelly',\n",
       "  'Milar',\n",
       "  39,\n",
       "  'F',\n",
       "  'This is comment 9 by Shelly Milar')]"
      ]
     },
     "execution_count": 75,
     "metadata": {},
     "output_type": "execute_result"
    }
   ],
   "source": [
    "data"
   ]
  },
  {
   "cell_type": "code",
   "execution_count": 76,
   "id": "8baedc0f",
   "metadata": {},
   "outputs": [
    {
     "data": {
      "text/html": [
       "<div>\n",
       "<style scoped>\n",
       "    .dataframe tbody tr th:only-of-type {\n",
       "        vertical-align: middle;\n",
       "    }\n",
       "\n",
       "    .dataframe tbody tr th {\n",
       "        vertical-align: top;\n",
       "    }\n",
       "\n",
       "    .dataframe thead th {\n",
       "        text-align: right;\n",
       "    }\n",
       "</style>\n",
       "<table border=\"1\" class=\"dataframe\">\n",
       "  <thead>\n",
       "    <tr style=\"text-align: right;\">\n",
       "      <th></th>\n",
       "      <th>Email</th>\n",
       "      <th>First Name</th>\n",
       "      <th>Last Name</th>\n",
       "      <th>Age</th>\n",
       "      <th>Gender</th>\n",
       "      <th>Comments</th>\n",
       "    </tr>\n",
       "  </thead>\n",
       "  <tbody>\n",
       "    <tr>\n",
       "      <th>0</th>\n",
       "      <td>tom@web.com</td>\n",
       "      <td>Tom</td>\n",
       "      <td>Fake</td>\n",
       "      <td>39</td>\n",
       "      <td>M</td>\n",
       "      <td>This is comment 0 by Tom Fake</td>\n",
       "    </tr>\n",
       "    <tr>\n",
       "      <th>1</th>\n",
       "      <td>tom@web.com</td>\n",
       "      <td>Tom</td>\n",
       "      <td>Fake</td>\n",
       "      <td>39</td>\n",
       "      <td>M</td>\n",
       "      <td>This is comment 1 by Tom Fake</td>\n",
       "    </tr>\n",
       "    <tr>\n",
       "      <th>2</th>\n",
       "      <td>tom@web.com</td>\n",
       "      <td>Tom</td>\n",
       "      <td>Fake</td>\n",
       "      <td>39</td>\n",
       "      <td>M</td>\n",
       "      <td>This is comment 2 by Tom Fake</td>\n",
       "    </tr>\n",
       "    <tr>\n",
       "      <th>3</th>\n",
       "      <td>tom@web.com</td>\n",
       "      <td>Tom</td>\n",
       "      <td>Fake</td>\n",
       "      <td>39</td>\n",
       "      <td>M</td>\n",
       "      <td>This is comment 3 by Tom Fake</td>\n",
       "    </tr>\n",
       "    <tr>\n",
       "      <th>4</th>\n",
       "      <td>tom@web.com</td>\n",
       "      <td>Tom</td>\n",
       "      <td>Fake</td>\n",
       "      <td>39</td>\n",
       "      <td>M</td>\n",
       "      <td>This is comment 4 by Tom Fake</td>\n",
       "    </tr>\n",
       "    <tr>\n",
       "      <th>5</th>\n",
       "      <td>tom@web.com</td>\n",
       "      <td>Tom</td>\n",
       "      <td>Fake</td>\n",
       "      <td>39</td>\n",
       "      <td>M</td>\n",
       "      <td>This is comment 5 by Tom Fake</td>\n",
       "    </tr>\n",
       "    <tr>\n",
       "      <th>6</th>\n",
       "      <td>tom@web.com</td>\n",
       "      <td>Tom</td>\n",
       "      <td>Fake</td>\n",
       "      <td>39</td>\n",
       "      <td>M</td>\n",
       "      <td>This is comment 6 by Tom Fake</td>\n",
       "    </tr>\n",
       "    <tr>\n",
       "      <th>7</th>\n",
       "      <td>tom@web.com</td>\n",
       "      <td>Tom</td>\n",
       "      <td>Fake</td>\n",
       "      <td>39</td>\n",
       "      <td>M</td>\n",
       "      <td>This is comment 7 by Tom Fake</td>\n",
       "    </tr>\n",
       "    <tr>\n",
       "      <th>8</th>\n",
       "      <td>tom@web.com</td>\n",
       "      <td>Tom</td>\n",
       "      <td>Fake</td>\n",
       "      <td>39</td>\n",
       "      <td>M</td>\n",
       "      <td>This is comment 8 by Tom Fake</td>\n",
       "    </tr>\n",
       "    <tr>\n",
       "      <th>9</th>\n",
       "      <td>tom@web.com</td>\n",
       "      <td>Tom</td>\n",
       "      <td>Fake</td>\n",
       "      <td>39</td>\n",
       "      <td>M</td>\n",
       "      <td>This is comment 9 by Tom Fake</td>\n",
       "    </tr>\n",
       "    <tr>\n",
       "      <th>10</th>\n",
       "      <td>shelly@www.com</td>\n",
       "      <td>Shelly</td>\n",
       "      <td>Milar</td>\n",
       "      <td>39</td>\n",
       "      <td>F</td>\n",
       "      <td>This is comment 0 by Shelly Milar</td>\n",
       "    </tr>\n",
       "    <tr>\n",
       "      <th>11</th>\n",
       "      <td>shelly@www.com</td>\n",
       "      <td>Shelly</td>\n",
       "      <td>Milar</td>\n",
       "      <td>39</td>\n",
       "      <td>F</td>\n",
       "      <td>This is comment 1 by Shelly Milar</td>\n",
       "    </tr>\n",
       "    <tr>\n",
       "      <th>12</th>\n",
       "      <td>shelly@www.com</td>\n",
       "      <td>Shelly</td>\n",
       "      <td>Milar</td>\n",
       "      <td>39</td>\n",
       "      <td>F</td>\n",
       "      <td>This is comment 2 by Shelly Milar</td>\n",
       "    </tr>\n",
       "    <tr>\n",
       "      <th>13</th>\n",
       "      <td>shelly@www.com</td>\n",
       "      <td>Shelly</td>\n",
       "      <td>Milar</td>\n",
       "      <td>39</td>\n",
       "      <td>F</td>\n",
       "      <td>This is comment 3 by Shelly Milar</td>\n",
       "    </tr>\n",
       "    <tr>\n",
       "      <th>14</th>\n",
       "      <td>shelly@www.com</td>\n",
       "      <td>Shelly</td>\n",
       "      <td>Milar</td>\n",
       "      <td>39</td>\n",
       "      <td>F</td>\n",
       "      <td>This is comment 4 by Shelly Milar</td>\n",
       "    </tr>\n",
       "    <tr>\n",
       "      <th>15</th>\n",
       "      <td>shelly@www.com</td>\n",
       "      <td>Shelly</td>\n",
       "      <td>Milar</td>\n",
       "      <td>39</td>\n",
       "      <td>F</td>\n",
       "      <td>This is comment 5 by Shelly Milar</td>\n",
       "    </tr>\n",
       "    <tr>\n",
       "      <th>16</th>\n",
       "      <td>shelly@www.com</td>\n",
       "      <td>Shelly</td>\n",
       "      <td>Milar</td>\n",
       "      <td>39</td>\n",
       "      <td>F</td>\n",
       "      <td>This is comment 6 by Shelly Milar</td>\n",
       "    </tr>\n",
       "    <tr>\n",
       "      <th>17</th>\n",
       "      <td>shelly@www.com</td>\n",
       "      <td>Shelly</td>\n",
       "      <td>Milar</td>\n",
       "      <td>39</td>\n",
       "      <td>F</td>\n",
       "      <td>This is comment 7 by Shelly Milar</td>\n",
       "    </tr>\n",
       "    <tr>\n",
       "      <th>18</th>\n",
       "      <td>shelly@www.com</td>\n",
       "      <td>Shelly</td>\n",
       "      <td>Milar</td>\n",
       "      <td>39</td>\n",
       "      <td>F</td>\n",
       "      <td>This is comment 8 by Shelly Milar</td>\n",
       "    </tr>\n",
       "    <tr>\n",
       "      <th>19</th>\n",
       "      <td>shelly@www.com</td>\n",
       "      <td>Shelly</td>\n",
       "      <td>Milar</td>\n",
       "      <td>39</td>\n",
       "      <td>F</td>\n",
       "      <td>This is comment 9 by Shelly Milar</td>\n",
       "    </tr>\n",
       "  </tbody>\n",
       "</table>\n",
       "</div>"
      ],
      "text/plain": [
       "             Email First Name Last Name  Age Gender  \\\n",
       "0      tom@web.com        Tom      Fake   39      M   \n",
       "1      tom@web.com        Tom      Fake   39      M   \n",
       "2      tom@web.com        Tom      Fake   39      M   \n",
       "3      tom@web.com        Tom      Fake   39      M   \n",
       "4      tom@web.com        Tom      Fake   39      M   \n",
       "5      tom@web.com        Tom      Fake   39      M   \n",
       "6      tom@web.com        Tom      Fake   39      M   \n",
       "7      tom@web.com        Tom      Fake   39      M   \n",
       "8      tom@web.com        Tom      Fake   39      M   \n",
       "9      tom@web.com        Tom      Fake   39      M   \n",
       "10  shelly@www.com     Shelly     Milar   39      F   \n",
       "11  shelly@www.com     Shelly     Milar   39      F   \n",
       "12  shelly@www.com     Shelly     Milar   39      F   \n",
       "13  shelly@www.com     Shelly     Milar   39      F   \n",
       "14  shelly@www.com     Shelly     Milar   39      F   \n",
       "15  shelly@www.com     Shelly     Milar   39      F   \n",
       "16  shelly@www.com     Shelly     Milar   39      F   \n",
       "17  shelly@www.com     Shelly     Milar   39      F   \n",
       "18  shelly@www.com     Shelly     Milar   39      F   \n",
       "19  shelly@www.com     Shelly     Milar   39      F   \n",
       "\n",
       "                             Comments  \n",
       "0       This is comment 0 by Tom Fake  \n",
       "1       This is comment 1 by Tom Fake  \n",
       "2       This is comment 2 by Tom Fake  \n",
       "3       This is comment 3 by Tom Fake  \n",
       "4       This is comment 4 by Tom Fake  \n",
       "5       This is comment 5 by Tom Fake  \n",
       "6       This is comment 6 by Tom Fake  \n",
       "7       This is comment 7 by Tom Fake  \n",
       "8       This is comment 8 by Tom Fake  \n",
       "9       This is comment 9 by Tom Fake  \n",
       "10  This is comment 0 by Shelly Milar  \n",
       "11  This is comment 1 by Shelly Milar  \n",
       "12  This is comment 2 by Shelly Milar  \n",
       "13  This is comment 3 by Shelly Milar  \n",
       "14  This is comment 4 by Shelly Milar  \n",
       "15  This is comment 5 by Shelly Milar  \n",
       "16  This is comment 6 by Shelly Milar  \n",
       "17  This is comment 7 by Shelly Milar  \n",
       "18  This is comment 8 by Shelly Milar  \n",
       "19  This is comment 9 by Shelly Milar  "
      ]
     },
     "execution_count": 76,
     "metadata": {},
     "output_type": "execute_result"
    }
   ],
   "source": [
    "df = pd.DataFrame(data, columns=columns)\n",
    "df"
   ]
  },
  {
   "cell_type": "code",
   "execution_count": 77,
   "id": "9f239d84",
   "metadata": {},
   "outputs": [
    {
     "data": {
      "text/plain": [
       "(('email', None, None, None, None, None, None),\n",
       " ('first_name', None, None, None, None, None, None),\n",
       " ('last_name', None, None, None, None, None, None),\n",
       " ('address', None, None, None, None, None, None),\n",
       " ('age', None, None, None, None, None, None),\n",
       " ('gender', None, None, None, None, None, None))"
      ]
     },
     "execution_count": 77,
     "metadata": {},
     "output_type": "execute_result"
    }
   ],
   "source": [
    "cursor = cursor.execute('select * from user')\n",
    "cursor.description"
   ]
  },
  {
   "cell_type": "code",
   "execution_count": 83,
   "id": "2cc0f4a3",
   "metadata": {},
   "outputs": [
    {
     "data": {
      "text/plain": [
       "(('user_id', None, None, None, None, None, None),\n",
       " ('comments', None, None, None, None, None, None))"
      ]
     },
     "execution_count": 83,
     "metadata": {},
     "output_type": "execute_result"
    }
   ],
   "source": [
    "cursor = cursor.execute('select * from comments')\n",
    "result = cursor.description\n",
    "result"
   ]
  },
  {
   "cell_type": "code",
   "execution_count": 84,
   "id": "f15ef0ec",
   "metadata": {},
   "outputs": [
    {
     "data": {
      "text/plain": [
       "['user_id', 'comments']"
      ]
     },
     "execution_count": 84,
     "metadata": {},
     "output_type": "execute_result"
    }
   ],
   "source": [
    "column_names = [result[0][0],result[1][0]]\n",
    "column_names"
   ]
  },
  {
   "cell_type": "code",
   "execution_count": 86,
   "id": "4deb73f6",
   "metadata": {},
   "outputs": [
    {
     "name": "stdout",
     "output_type": "stream",
     "text": [
      "(i,t)=(0,('user_id', None, None, None, None, None, None))\n",
      "(i,t)=(1,('comments', None, None, None, None, None, None))\n"
     ]
    },
    {
     "data": {
      "text/plain": [
       "['user_id', 'comments']"
      ]
     },
     "execution_count": 86,
     "metadata": {},
     "output_type": "execute_result"
    }
   ],
   "source": [
    "columns = []\n",
    "for i,t in enumerate(result):\n",
    "    print(f'(i,t)=({i},{t})')\n",
    "    columns.append(t[0])\n",
    "columns"
   ]
  },
  {
   "cell_type": "code",
   "execution_count": 87,
   "id": "0fbbcede",
   "metadata": {},
   "outputs": [
    {
     "data": {
      "text/plain": [
       "[('tom@web.com', 'This is comment 0 by Tom Fake'),\n",
       " ('tom@web.com', 'This is comment 1 by Tom Fake'),\n",
       " ('tom@web.com', 'This is comment 2 by Tom Fake'),\n",
       " ('tom@web.com', 'This is comment 3 by Tom Fake'),\n",
       " ('tom@web.com', 'This is comment 4 by Tom Fake'),\n",
       " ('tom@web.com', 'This is comment 5 by Tom Fake'),\n",
       " ('tom@web.com', 'This is comment 6 by Tom Fake'),\n",
       " ('tom@web.com', 'This is comment 7 by Tom Fake'),\n",
       " ('tom@web.com', 'This is comment 8 by Tom Fake'),\n",
       " ('tom@web.com', 'This is comment 9 by Tom Fake'),\n",
       " ('shelly@www.com', 'This is comment 0 by Shelly Milar'),\n",
       " ('shelly@www.com', 'This is comment 1 by Shelly Milar'),\n",
       " ('shelly@www.com', 'This is comment 2 by Shelly Milar'),\n",
       " ('shelly@www.com', 'This is comment 3 by Shelly Milar'),\n",
       " ('shelly@www.com', 'This is comment 4 by Shelly Milar'),\n",
       " ('shelly@www.com', 'This is comment 5 by Shelly Milar'),\n",
       " ('shelly@www.com', 'This is comment 6 by Shelly Milar'),\n",
       " ('shelly@www.com', 'This is comment 7 by Shelly Milar'),\n",
       " ('shelly@www.com', 'This is comment 8 by Shelly Milar'),\n",
       " ('shelly@www.com', 'This is comment 9 by Shelly Milar')]"
      ]
     },
     "execution_count": 87,
     "metadata": {},
     "output_type": "execute_result"
    }
   ],
   "source": [
    "rows = cursor.fetchall()\n",
    "rows"
   ]
  },
  {
   "cell_type": "code",
   "execution_count": 88,
   "id": "1e42695f",
   "metadata": {},
   "outputs": [
    {
     "data": {
      "text/html": [
       "<div>\n",
       "<style scoped>\n",
       "    .dataframe tbody tr th:only-of-type {\n",
       "        vertical-align: middle;\n",
       "    }\n",
       "\n",
       "    .dataframe tbody tr th {\n",
       "        vertical-align: top;\n",
       "    }\n",
       "\n",
       "    .dataframe thead th {\n",
       "        text-align: right;\n",
       "    }\n",
       "</style>\n",
       "<table border=\"1\" class=\"dataframe\">\n",
       "  <thead>\n",
       "    <tr style=\"text-align: right;\">\n",
       "      <th></th>\n",
       "      <th>user_id</th>\n",
       "      <th>comments</th>\n",
       "    </tr>\n",
       "  </thead>\n",
       "  <tbody>\n",
       "    <tr>\n",
       "      <th>0</th>\n",
       "      <td>tom@web.com</td>\n",
       "      <td>This is comment 0 by Tom Fake</td>\n",
       "    </tr>\n",
       "    <tr>\n",
       "      <th>1</th>\n",
       "      <td>tom@web.com</td>\n",
       "      <td>This is comment 1 by Tom Fake</td>\n",
       "    </tr>\n",
       "    <tr>\n",
       "      <th>2</th>\n",
       "      <td>tom@web.com</td>\n",
       "      <td>This is comment 2 by Tom Fake</td>\n",
       "    </tr>\n",
       "    <tr>\n",
       "      <th>3</th>\n",
       "      <td>tom@web.com</td>\n",
       "      <td>This is comment 3 by Tom Fake</td>\n",
       "    </tr>\n",
       "    <tr>\n",
       "      <th>4</th>\n",
       "      <td>tom@web.com</td>\n",
       "      <td>This is comment 4 by Tom Fake</td>\n",
       "    </tr>\n",
       "    <tr>\n",
       "      <th>5</th>\n",
       "      <td>tom@web.com</td>\n",
       "      <td>This is comment 5 by Tom Fake</td>\n",
       "    </tr>\n",
       "    <tr>\n",
       "      <th>6</th>\n",
       "      <td>tom@web.com</td>\n",
       "      <td>This is comment 6 by Tom Fake</td>\n",
       "    </tr>\n",
       "    <tr>\n",
       "      <th>7</th>\n",
       "      <td>tom@web.com</td>\n",
       "      <td>This is comment 7 by Tom Fake</td>\n",
       "    </tr>\n",
       "    <tr>\n",
       "      <th>8</th>\n",
       "      <td>tom@web.com</td>\n",
       "      <td>This is comment 8 by Tom Fake</td>\n",
       "    </tr>\n",
       "    <tr>\n",
       "      <th>9</th>\n",
       "      <td>tom@web.com</td>\n",
       "      <td>This is comment 9 by Tom Fake</td>\n",
       "    </tr>\n",
       "    <tr>\n",
       "      <th>10</th>\n",
       "      <td>shelly@www.com</td>\n",
       "      <td>This is comment 0 by Shelly Milar</td>\n",
       "    </tr>\n",
       "    <tr>\n",
       "      <th>11</th>\n",
       "      <td>shelly@www.com</td>\n",
       "      <td>This is comment 1 by Shelly Milar</td>\n",
       "    </tr>\n",
       "    <tr>\n",
       "      <th>12</th>\n",
       "      <td>shelly@www.com</td>\n",
       "      <td>This is comment 2 by Shelly Milar</td>\n",
       "    </tr>\n",
       "    <tr>\n",
       "      <th>13</th>\n",
       "      <td>shelly@www.com</td>\n",
       "      <td>This is comment 3 by Shelly Milar</td>\n",
       "    </tr>\n",
       "    <tr>\n",
       "      <th>14</th>\n",
       "      <td>shelly@www.com</td>\n",
       "      <td>This is comment 4 by Shelly Milar</td>\n",
       "    </tr>\n",
       "    <tr>\n",
       "      <th>15</th>\n",
       "      <td>shelly@www.com</td>\n",
       "      <td>This is comment 5 by Shelly Milar</td>\n",
       "    </tr>\n",
       "    <tr>\n",
       "      <th>16</th>\n",
       "      <td>shelly@www.com</td>\n",
       "      <td>This is comment 6 by Shelly Milar</td>\n",
       "    </tr>\n",
       "    <tr>\n",
       "      <th>17</th>\n",
       "      <td>shelly@www.com</td>\n",
       "      <td>This is comment 7 by Shelly Milar</td>\n",
       "    </tr>\n",
       "    <tr>\n",
       "      <th>18</th>\n",
       "      <td>shelly@www.com</td>\n",
       "      <td>This is comment 8 by Shelly Milar</td>\n",
       "    </tr>\n",
       "    <tr>\n",
       "      <th>19</th>\n",
       "      <td>shelly@www.com</td>\n",
       "      <td>This is comment 9 by Shelly Milar</td>\n",
       "    </tr>\n",
       "  </tbody>\n",
       "</table>\n",
       "</div>"
      ],
      "text/plain": [
       "           user_id                           comments\n",
       "0      tom@web.com      This is comment 0 by Tom Fake\n",
       "1      tom@web.com      This is comment 1 by Tom Fake\n",
       "2      tom@web.com      This is comment 2 by Tom Fake\n",
       "3      tom@web.com      This is comment 3 by Tom Fake\n",
       "4      tom@web.com      This is comment 4 by Tom Fake\n",
       "5      tom@web.com      This is comment 5 by Tom Fake\n",
       "6      tom@web.com      This is comment 6 by Tom Fake\n",
       "7      tom@web.com      This is comment 7 by Tom Fake\n",
       "8      tom@web.com      This is comment 8 by Tom Fake\n",
       "9      tom@web.com      This is comment 9 by Tom Fake\n",
       "10  shelly@www.com  This is comment 0 by Shelly Milar\n",
       "11  shelly@www.com  This is comment 1 by Shelly Milar\n",
       "12  shelly@www.com  This is comment 2 by Shelly Milar\n",
       "13  shelly@www.com  This is comment 3 by Shelly Milar\n",
       "14  shelly@www.com  This is comment 4 by Shelly Milar\n",
       "15  shelly@www.com  This is comment 5 by Shelly Milar\n",
       "16  shelly@www.com  This is comment 6 by Shelly Milar\n",
       "17  shelly@www.com  This is comment 7 by Shelly Milar\n",
       "18  shelly@www.com  This is comment 8 by Shelly Milar\n",
       "19  shelly@www.com  This is comment 9 by Shelly Milar"
      ]
     },
     "execution_count": 88,
     "metadata": {},
     "output_type": "execute_result"
    }
   ],
   "source": [
    "pd.DataFrame(rows, columns=[x[0] for x in cursor.description])"
   ]
  },
  {
   "cell_type": "code",
   "execution_count": 89,
   "id": "447a637f",
   "metadata": {},
   "outputs": [
    {
     "data": {
      "text/plain": [
       "(('email', None, None, None, None, None, None),\n",
       " ('first_name', None, None, None, None, None, None),\n",
       " ('last_name', None, None, None, None, None, None),\n",
       " ('age', None, None, None, None, None, None),\n",
       " ('gender', None, None, None, None, None, None),\n",
       " ('comments', None, None, None, None, None, None))"
      ]
     },
     "execution_count": 89,
     "metadata": {},
     "output_type": "execute_result"
    }
   ],
   "source": [
    "cursor = cursor.execute(sql)\n",
    "cursor.description"
   ]
  },
  {
   "cell_type": "code",
   "execution_count": 90,
   "id": "05905105",
   "metadata": {},
   "outputs": [],
   "source": [
    "rows = cursor.fetchall()"
   ]
  },
  {
   "cell_type": "code",
   "execution_count": 91,
   "id": "2f17f515",
   "metadata": {},
   "outputs": [
    {
     "data": {
      "text/html": [
       "<div>\n",
       "<style scoped>\n",
       "    .dataframe tbody tr th:only-of-type {\n",
       "        vertical-align: middle;\n",
       "    }\n",
       "\n",
       "    .dataframe tbody tr th {\n",
       "        vertical-align: top;\n",
       "    }\n",
       "\n",
       "    .dataframe thead th {\n",
       "        text-align: right;\n",
       "    }\n",
       "</style>\n",
       "<table border=\"1\" class=\"dataframe\">\n",
       "  <thead>\n",
       "    <tr style=\"text-align: right;\">\n",
       "      <th></th>\n",
       "      <th>email</th>\n",
       "      <th>first_name</th>\n",
       "      <th>last_name</th>\n",
       "      <th>age</th>\n",
       "      <th>gender</th>\n",
       "      <th>comments</th>\n",
       "    </tr>\n",
       "  </thead>\n",
       "  <tbody>\n",
       "    <tr>\n",
       "      <th>0</th>\n",
       "      <td>tom@web.com</td>\n",
       "      <td>Tom</td>\n",
       "      <td>Fake</td>\n",
       "      <td>39</td>\n",
       "      <td>M</td>\n",
       "      <td>This is comment 0 by Tom Fake</td>\n",
       "    </tr>\n",
       "    <tr>\n",
       "      <th>1</th>\n",
       "      <td>tom@web.com</td>\n",
       "      <td>Tom</td>\n",
       "      <td>Fake</td>\n",
       "      <td>39</td>\n",
       "      <td>M</td>\n",
       "      <td>This is comment 1 by Tom Fake</td>\n",
       "    </tr>\n",
       "    <tr>\n",
       "      <th>2</th>\n",
       "      <td>tom@web.com</td>\n",
       "      <td>Tom</td>\n",
       "      <td>Fake</td>\n",
       "      <td>39</td>\n",
       "      <td>M</td>\n",
       "      <td>This is comment 2 by Tom Fake</td>\n",
       "    </tr>\n",
       "    <tr>\n",
       "      <th>3</th>\n",
       "      <td>tom@web.com</td>\n",
       "      <td>Tom</td>\n",
       "      <td>Fake</td>\n",
       "      <td>39</td>\n",
       "      <td>M</td>\n",
       "      <td>This is comment 3 by Tom Fake</td>\n",
       "    </tr>\n",
       "    <tr>\n",
       "      <th>4</th>\n",
       "      <td>tom@web.com</td>\n",
       "      <td>Tom</td>\n",
       "      <td>Fake</td>\n",
       "      <td>39</td>\n",
       "      <td>M</td>\n",
       "      <td>This is comment 4 by Tom Fake</td>\n",
       "    </tr>\n",
       "    <tr>\n",
       "      <th>5</th>\n",
       "      <td>tom@web.com</td>\n",
       "      <td>Tom</td>\n",
       "      <td>Fake</td>\n",
       "      <td>39</td>\n",
       "      <td>M</td>\n",
       "      <td>This is comment 5 by Tom Fake</td>\n",
       "    </tr>\n",
       "    <tr>\n",
       "      <th>6</th>\n",
       "      <td>tom@web.com</td>\n",
       "      <td>Tom</td>\n",
       "      <td>Fake</td>\n",
       "      <td>39</td>\n",
       "      <td>M</td>\n",
       "      <td>This is comment 6 by Tom Fake</td>\n",
       "    </tr>\n",
       "    <tr>\n",
       "      <th>7</th>\n",
       "      <td>tom@web.com</td>\n",
       "      <td>Tom</td>\n",
       "      <td>Fake</td>\n",
       "      <td>39</td>\n",
       "      <td>M</td>\n",
       "      <td>This is comment 7 by Tom Fake</td>\n",
       "    </tr>\n",
       "    <tr>\n",
       "      <th>8</th>\n",
       "      <td>tom@web.com</td>\n",
       "      <td>Tom</td>\n",
       "      <td>Fake</td>\n",
       "      <td>39</td>\n",
       "      <td>M</td>\n",
       "      <td>This is comment 8 by Tom Fake</td>\n",
       "    </tr>\n",
       "    <tr>\n",
       "      <th>9</th>\n",
       "      <td>tom@web.com</td>\n",
       "      <td>Tom</td>\n",
       "      <td>Fake</td>\n",
       "      <td>39</td>\n",
       "      <td>M</td>\n",
       "      <td>This is comment 9 by Tom Fake</td>\n",
       "    </tr>\n",
       "    <tr>\n",
       "      <th>10</th>\n",
       "      <td>shelly@www.com</td>\n",
       "      <td>Shelly</td>\n",
       "      <td>Milar</td>\n",
       "      <td>39</td>\n",
       "      <td>F</td>\n",
       "      <td>This is comment 0 by Shelly Milar</td>\n",
       "    </tr>\n",
       "    <tr>\n",
       "      <th>11</th>\n",
       "      <td>shelly@www.com</td>\n",
       "      <td>Shelly</td>\n",
       "      <td>Milar</td>\n",
       "      <td>39</td>\n",
       "      <td>F</td>\n",
       "      <td>This is comment 1 by Shelly Milar</td>\n",
       "    </tr>\n",
       "    <tr>\n",
       "      <th>12</th>\n",
       "      <td>shelly@www.com</td>\n",
       "      <td>Shelly</td>\n",
       "      <td>Milar</td>\n",
       "      <td>39</td>\n",
       "      <td>F</td>\n",
       "      <td>This is comment 2 by Shelly Milar</td>\n",
       "    </tr>\n",
       "    <tr>\n",
       "      <th>13</th>\n",
       "      <td>shelly@www.com</td>\n",
       "      <td>Shelly</td>\n",
       "      <td>Milar</td>\n",
       "      <td>39</td>\n",
       "      <td>F</td>\n",
       "      <td>This is comment 3 by Shelly Milar</td>\n",
       "    </tr>\n",
       "    <tr>\n",
       "      <th>14</th>\n",
       "      <td>shelly@www.com</td>\n",
       "      <td>Shelly</td>\n",
       "      <td>Milar</td>\n",
       "      <td>39</td>\n",
       "      <td>F</td>\n",
       "      <td>This is comment 4 by Shelly Milar</td>\n",
       "    </tr>\n",
       "    <tr>\n",
       "      <th>15</th>\n",
       "      <td>shelly@www.com</td>\n",
       "      <td>Shelly</td>\n",
       "      <td>Milar</td>\n",
       "      <td>39</td>\n",
       "      <td>F</td>\n",
       "      <td>This is comment 5 by Shelly Milar</td>\n",
       "    </tr>\n",
       "    <tr>\n",
       "      <th>16</th>\n",
       "      <td>shelly@www.com</td>\n",
       "      <td>Shelly</td>\n",
       "      <td>Milar</td>\n",
       "      <td>39</td>\n",
       "      <td>F</td>\n",
       "      <td>This is comment 6 by Shelly Milar</td>\n",
       "    </tr>\n",
       "    <tr>\n",
       "      <th>17</th>\n",
       "      <td>shelly@www.com</td>\n",
       "      <td>Shelly</td>\n",
       "      <td>Milar</td>\n",
       "      <td>39</td>\n",
       "      <td>F</td>\n",
       "      <td>This is comment 7 by Shelly Milar</td>\n",
       "    </tr>\n",
       "    <tr>\n",
       "      <th>18</th>\n",
       "      <td>shelly@www.com</td>\n",
       "      <td>Shelly</td>\n",
       "      <td>Milar</td>\n",
       "      <td>39</td>\n",
       "      <td>F</td>\n",
       "      <td>This is comment 8 by Shelly Milar</td>\n",
       "    </tr>\n",
       "    <tr>\n",
       "      <th>19</th>\n",
       "      <td>shelly@www.com</td>\n",
       "      <td>Shelly</td>\n",
       "      <td>Milar</td>\n",
       "      <td>39</td>\n",
       "      <td>F</td>\n",
       "      <td>This is comment 9 by Shelly Milar</td>\n",
       "    </tr>\n",
       "  </tbody>\n",
       "</table>\n",
       "</div>"
      ],
      "text/plain": [
       "             email first_name last_name  age gender  \\\n",
       "0      tom@web.com        Tom      Fake   39      M   \n",
       "1      tom@web.com        Tom      Fake   39      M   \n",
       "2      tom@web.com        Tom      Fake   39      M   \n",
       "3      tom@web.com        Tom      Fake   39      M   \n",
       "4      tom@web.com        Tom      Fake   39      M   \n",
       "5      tom@web.com        Tom      Fake   39      M   \n",
       "6      tom@web.com        Tom      Fake   39      M   \n",
       "7      tom@web.com        Tom      Fake   39      M   \n",
       "8      tom@web.com        Tom      Fake   39      M   \n",
       "9      tom@web.com        Tom      Fake   39      M   \n",
       "10  shelly@www.com     Shelly     Milar   39      F   \n",
       "11  shelly@www.com     Shelly     Milar   39      F   \n",
       "12  shelly@www.com     Shelly     Milar   39      F   \n",
       "13  shelly@www.com     Shelly     Milar   39      F   \n",
       "14  shelly@www.com     Shelly     Milar   39      F   \n",
       "15  shelly@www.com     Shelly     Milar   39      F   \n",
       "16  shelly@www.com     Shelly     Milar   39      F   \n",
       "17  shelly@www.com     Shelly     Milar   39      F   \n",
       "18  shelly@www.com     Shelly     Milar   39      F   \n",
       "19  shelly@www.com     Shelly     Milar   39      F   \n",
       "\n",
       "                             comments  \n",
       "0       This is comment 0 by Tom Fake  \n",
       "1       This is comment 1 by Tom Fake  \n",
       "2       This is comment 2 by Tom Fake  \n",
       "3       This is comment 3 by Tom Fake  \n",
       "4       This is comment 4 by Tom Fake  \n",
       "5       This is comment 5 by Tom Fake  \n",
       "6       This is comment 6 by Tom Fake  \n",
       "7       This is comment 7 by Tom Fake  \n",
       "8       This is comment 8 by Tom Fake  \n",
       "9       This is comment 9 by Tom Fake  \n",
       "10  This is comment 0 by Shelly Milar  \n",
       "11  This is comment 1 by Shelly Milar  \n",
       "12  This is comment 2 by Shelly Milar  \n",
       "13  This is comment 3 by Shelly Milar  \n",
       "14  This is comment 4 by Shelly Milar  \n",
       "15  This is comment 5 by Shelly Milar  \n",
       "16  This is comment 6 by Shelly Milar  \n",
       "17  This is comment 7 by Shelly Milar  \n",
       "18  This is comment 8 by Shelly Milar  \n",
       "19  This is comment 9 by Shelly Milar  "
      ]
     },
     "execution_count": 91,
     "metadata": {},
     "output_type": "execute_result"
    }
   ],
   "source": [
    "pd.DataFrame(rows, columns=[x[0] for x in cursor.description])"
   ]
  },
  {
   "cell_type": "code",
   "execution_count": 92,
   "id": "bacde467",
   "metadata": {},
   "outputs": [
    {
     "data": {
      "text/html": [
       "<div>\n",
       "<style scoped>\n",
       "    .dataframe tbody tr th:only-of-type {\n",
       "        vertical-align: middle;\n",
       "    }\n",
       "\n",
       "    .dataframe tbody tr th {\n",
       "        vertical-align: top;\n",
       "    }\n",
       "\n",
       "    .dataframe thead th {\n",
       "        text-align: right;\n",
       "    }\n",
       "</style>\n",
       "<table border=\"1\" class=\"dataframe\">\n",
       "  <thead>\n",
       "    <tr style=\"text-align: right;\">\n",
       "      <th></th>\n",
       "      <th>email</th>\n",
       "      <th>first_name</th>\n",
       "      <th>last_name</th>\n",
       "      <th>age</th>\n",
       "      <th>gender</th>\n",
       "      <th>comments</th>\n",
       "    </tr>\n",
       "  </thead>\n",
       "  <tbody>\n",
       "    <tr>\n",
       "      <th>0</th>\n",
       "      <td>tom@web.com</td>\n",
       "      <td>Tom</td>\n",
       "      <td>Fake</td>\n",
       "      <td>39</td>\n",
       "      <td>M</td>\n",
       "      <td>This is comment 0 by Tom Fake</td>\n",
       "    </tr>\n",
       "    <tr>\n",
       "      <th>1</th>\n",
       "      <td>tom@web.com</td>\n",
       "      <td>Tom</td>\n",
       "      <td>Fake</td>\n",
       "      <td>39</td>\n",
       "      <td>M</td>\n",
       "      <td>This is comment 1 by Tom Fake</td>\n",
       "    </tr>\n",
       "    <tr>\n",
       "      <th>2</th>\n",
       "      <td>tom@web.com</td>\n",
       "      <td>Tom</td>\n",
       "      <td>Fake</td>\n",
       "      <td>39</td>\n",
       "      <td>M</td>\n",
       "      <td>This is comment 2 by Tom Fake</td>\n",
       "    </tr>\n",
       "    <tr>\n",
       "      <th>3</th>\n",
       "      <td>tom@web.com</td>\n",
       "      <td>Tom</td>\n",
       "      <td>Fake</td>\n",
       "      <td>39</td>\n",
       "      <td>M</td>\n",
       "      <td>This is comment 3 by Tom Fake</td>\n",
       "    </tr>\n",
       "    <tr>\n",
       "      <th>4</th>\n",
       "      <td>tom@web.com</td>\n",
       "      <td>Tom</td>\n",
       "      <td>Fake</td>\n",
       "      <td>39</td>\n",
       "      <td>M</td>\n",
       "      <td>This is comment 4 by Tom Fake</td>\n",
       "    </tr>\n",
       "    <tr>\n",
       "      <th>5</th>\n",
       "      <td>tom@web.com</td>\n",
       "      <td>Tom</td>\n",
       "      <td>Fake</td>\n",
       "      <td>39</td>\n",
       "      <td>M</td>\n",
       "      <td>This is comment 5 by Tom Fake</td>\n",
       "    </tr>\n",
       "    <tr>\n",
       "      <th>6</th>\n",
       "      <td>tom@web.com</td>\n",
       "      <td>Tom</td>\n",
       "      <td>Fake</td>\n",
       "      <td>39</td>\n",
       "      <td>M</td>\n",
       "      <td>This is comment 6 by Tom Fake</td>\n",
       "    </tr>\n",
       "    <tr>\n",
       "      <th>7</th>\n",
       "      <td>tom@web.com</td>\n",
       "      <td>Tom</td>\n",
       "      <td>Fake</td>\n",
       "      <td>39</td>\n",
       "      <td>M</td>\n",
       "      <td>This is comment 7 by Tom Fake</td>\n",
       "    </tr>\n",
       "    <tr>\n",
       "      <th>8</th>\n",
       "      <td>tom@web.com</td>\n",
       "      <td>Tom</td>\n",
       "      <td>Fake</td>\n",
       "      <td>39</td>\n",
       "      <td>M</td>\n",
       "      <td>This is comment 8 by Tom Fake</td>\n",
       "    </tr>\n",
       "    <tr>\n",
       "      <th>9</th>\n",
       "      <td>tom@web.com</td>\n",
       "      <td>Tom</td>\n",
       "      <td>Fake</td>\n",
       "      <td>39</td>\n",
       "      <td>M</td>\n",
       "      <td>This is comment 9 by Tom Fake</td>\n",
       "    </tr>\n",
       "    <tr>\n",
       "      <th>10</th>\n",
       "      <td>shelly@www.com</td>\n",
       "      <td>Shelly</td>\n",
       "      <td>Milar</td>\n",
       "      <td>39</td>\n",
       "      <td>F</td>\n",
       "      <td>This is comment 0 by Shelly Milar</td>\n",
       "    </tr>\n",
       "    <tr>\n",
       "      <th>11</th>\n",
       "      <td>shelly@www.com</td>\n",
       "      <td>Shelly</td>\n",
       "      <td>Milar</td>\n",
       "      <td>39</td>\n",
       "      <td>F</td>\n",
       "      <td>This is comment 1 by Shelly Milar</td>\n",
       "    </tr>\n",
       "    <tr>\n",
       "      <th>12</th>\n",
       "      <td>shelly@www.com</td>\n",
       "      <td>Shelly</td>\n",
       "      <td>Milar</td>\n",
       "      <td>39</td>\n",
       "      <td>F</td>\n",
       "      <td>This is comment 2 by Shelly Milar</td>\n",
       "    </tr>\n",
       "    <tr>\n",
       "      <th>13</th>\n",
       "      <td>shelly@www.com</td>\n",
       "      <td>Shelly</td>\n",
       "      <td>Milar</td>\n",
       "      <td>39</td>\n",
       "      <td>F</td>\n",
       "      <td>This is comment 3 by Shelly Milar</td>\n",
       "    </tr>\n",
       "    <tr>\n",
       "      <th>14</th>\n",
       "      <td>shelly@www.com</td>\n",
       "      <td>Shelly</td>\n",
       "      <td>Milar</td>\n",
       "      <td>39</td>\n",
       "      <td>F</td>\n",
       "      <td>This is comment 4 by Shelly Milar</td>\n",
       "    </tr>\n",
       "    <tr>\n",
       "      <th>15</th>\n",
       "      <td>shelly@www.com</td>\n",
       "      <td>Shelly</td>\n",
       "      <td>Milar</td>\n",
       "      <td>39</td>\n",
       "      <td>F</td>\n",
       "      <td>This is comment 5 by Shelly Milar</td>\n",
       "    </tr>\n",
       "    <tr>\n",
       "      <th>16</th>\n",
       "      <td>shelly@www.com</td>\n",
       "      <td>Shelly</td>\n",
       "      <td>Milar</td>\n",
       "      <td>39</td>\n",
       "      <td>F</td>\n",
       "      <td>This is comment 6 by Shelly Milar</td>\n",
       "    </tr>\n",
       "    <tr>\n",
       "      <th>17</th>\n",
       "      <td>shelly@www.com</td>\n",
       "      <td>Shelly</td>\n",
       "      <td>Milar</td>\n",
       "      <td>39</td>\n",
       "      <td>F</td>\n",
       "      <td>This is comment 7 by Shelly Milar</td>\n",
       "    </tr>\n",
       "    <tr>\n",
       "      <th>18</th>\n",
       "      <td>shelly@www.com</td>\n",
       "      <td>Shelly</td>\n",
       "      <td>Milar</td>\n",
       "      <td>39</td>\n",
       "      <td>F</td>\n",
       "      <td>This is comment 8 by Shelly Milar</td>\n",
       "    </tr>\n",
       "    <tr>\n",
       "      <th>19</th>\n",
       "      <td>shelly@www.com</td>\n",
       "      <td>Shelly</td>\n",
       "      <td>Milar</td>\n",
       "      <td>39</td>\n",
       "      <td>F</td>\n",
       "      <td>This is comment 9 by Shelly Milar</td>\n",
       "    </tr>\n",
       "  </tbody>\n",
       "</table>\n",
       "</div>"
      ],
      "text/plain": [
       "             email first_name last_name  age gender  \\\n",
       "0      tom@web.com        Tom      Fake   39      M   \n",
       "1      tom@web.com        Tom      Fake   39      M   \n",
       "2      tom@web.com        Tom      Fake   39      M   \n",
       "3      tom@web.com        Tom      Fake   39      M   \n",
       "4      tom@web.com        Tom      Fake   39      M   \n",
       "5      tom@web.com        Tom      Fake   39      M   \n",
       "6      tom@web.com        Tom      Fake   39      M   \n",
       "7      tom@web.com        Tom      Fake   39      M   \n",
       "8      tom@web.com        Tom      Fake   39      M   \n",
       "9      tom@web.com        Tom      Fake   39      M   \n",
       "10  shelly@www.com     Shelly     Milar   39      F   \n",
       "11  shelly@www.com     Shelly     Milar   39      F   \n",
       "12  shelly@www.com     Shelly     Milar   39      F   \n",
       "13  shelly@www.com     Shelly     Milar   39      F   \n",
       "14  shelly@www.com     Shelly     Milar   39      F   \n",
       "15  shelly@www.com     Shelly     Milar   39      F   \n",
       "16  shelly@www.com     Shelly     Milar   39      F   \n",
       "17  shelly@www.com     Shelly     Milar   39      F   \n",
       "18  shelly@www.com     Shelly     Milar   39      F   \n",
       "19  shelly@www.com     Shelly     Milar   39      F   \n",
       "\n",
       "                             comments  \n",
       "0       This is comment 0 by Tom Fake  \n",
       "1       This is comment 1 by Tom Fake  \n",
       "2       This is comment 2 by Tom Fake  \n",
       "3       This is comment 3 by Tom Fake  \n",
       "4       This is comment 4 by Tom Fake  \n",
       "5       This is comment 5 by Tom Fake  \n",
       "6       This is comment 6 by Tom Fake  \n",
       "7       This is comment 7 by Tom Fake  \n",
       "8       This is comment 8 by Tom Fake  \n",
       "9       This is comment 9 by Tom Fake  \n",
       "10  This is comment 0 by Shelly Milar  \n",
       "11  This is comment 1 by Shelly Milar  \n",
       "12  This is comment 2 by Shelly Milar  \n",
       "13  This is comment 3 by Shelly Milar  \n",
       "14  This is comment 4 by Shelly Milar  \n",
       "15  This is comment 5 by Shelly Milar  \n",
       "16  This is comment 6 by Shelly Milar  \n",
       "17  This is comment 7 by Shelly Milar  \n",
       "18  This is comment 8 by Shelly Milar  \n",
       "19  This is comment 9 by Shelly Milar  "
      ]
     },
     "execution_count": 92,
     "metadata": {},
     "output_type": "execute_result"
    }
   ],
   "source": [
    "cursor = cursor.execute(sql)\n",
    "pd.DataFrame(cursor.fetchall(), columns=[x[0] for x in cursor.description])"
   ]
  },
  {
   "cell_type": "code",
   "execution_count": null,
   "id": "555c6cf4",
   "metadata": {},
   "outputs": [],
   "source": []
  },
  {
   "cell_type": "code",
   "execution_count": null,
   "id": "ca98a396",
   "metadata": {},
   "outputs": [],
   "source": []
  }
 ],
 "metadata": {
  "kernelspec": {
   "display_name": "Python 3",
   "language": "python",
   "name": "python3"
  },
  "language_info": {
   "codemirror_mode": {
    "name": "ipython",
    "version": 3
   },
   "file_extension": ".py",
   "mimetype": "text/x-python",
   "name": "python",
   "nbconvert_exporter": "python",
   "pygments_lexer": "ipython3",
   "version": "3.8.8"
  }
 },
 "nbformat": 4,
 "nbformat_minor": 5
}
