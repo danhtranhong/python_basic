{
 "cells": [
  {
   "cell_type": "code",
   "execution_count": 17,
   "metadata": {},
   "outputs": [],
   "source": [
    "import pandas as pd\n",
    "import numpy as np\n",
    "import random\n",
    "import string"
   ]
  },
  {
   "cell_type": "code",
   "execution_count": 13,
   "metadata": {},
   "outputs": [
    {
     "data": {
      "text/plain": [
       "0    67\n",
       "1    93\n",
       "2    55\n",
       "3    83\n",
       "4    20\n",
       "dtype: int16"
      ]
     },
     "execution_count": 13,
     "metadata": {},
     "output_type": "execute_result"
    }
   ],
   "source": [
    "data = [random.randint(10,99) for _ in range(5)]\n",
    "series = pd.Series(data,dtype='int16')\n",
    "series"
   ]
  },
  {
   "cell_type": "code",
   "execution_count": 12,
   "metadata": {},
   "outputs": [
    {
     "name": "stdout",
     "output_type": "stream",
     "text": [
      "[35 18 21 68 36]\n",
      "RangeIndex(start=0, stop=5, step=1)\n"
     ]
    }
   ],
   "source": [
    "print(series.values)\n",
    "print(series.index)"
   ]
  },
  {
   "cell_type": "code",
   "execution_count": 16,
   "metadata": {},
   "outputs": [
    {
     "name": "stdout",
     "output_type": "stream",
     "text": [
      "Help on method gauss in module random:\n",
      "\n",
      "gauss(mu=0.0, sigma=1.0) method of random.Random instance\n",
      "    Gaussian distribution.\n",
      "    \n",
      "    mu is the mean, and sigma is the standard deviation.  This is\n",
      "    slightly faster than the normalvariate() function.\n",
      "    \n",
      "    Not thread-safe without a lock around calls.\n",
      "\n"
     ]
    }
   ],
   "source": [
    "help(random.gauss)"
   ]
  },
  {
   "cell_type": "code",
   "execution_count": 14,
   "metadata": {},
   "outputs": [
    {
     "data": {
      "text/plain": [
       "0    73.695673\n",
       "1    85.914394\n",
       "2    48.165509\n",
       "3    67.297670\n",
       "4    88.791662\n",
       "dtype: float64"
      ]
     },
     "execution_count": 14,
     "metadata": {},
     "output_type": "execute_result"
    }
   ],
   "source": [
    "data = [random.gauss(70,10) for _ in range(5)]\n",
    "series = pd.Series(data)\n",
    "series"
   ]
  },
  {
   "cell_type": "code",
   "execution_count": 15,
   "metadata": {},
   "outputs": [
    {
     "data": {
      "text/plain": [
       "0    72.87500\n",
       "1    54.96875\n",
       "2    85.50000\n",
       "3    63.84375\n",
       "4    79.37500\n",
       "dtype: float16"
      ]
     },
     "execution_count": 15,
     "metadata": {},
     "output_type": "execute_result"
    }
   ],
   "source": [
    "data = [random.gauss(70,10) for _ in range(5)]\n",
    "series = pd.Series(data,dtype=\"float16\")\n",
    "series"
   ]
  },
  {
   "cell_type": "code",
   "execution_count": 19,
   "metadata": {},
   "outputs": [
    {
     "data": {
      "text/plain": [
       "a    73.43750\n",
       "b    73.25000\n",
       "c    69.43750\n",
       "d    85.12500\n",
       "e    67.87500\n",
       "f    67.37500\n",
       "g    74.68750\n",
       "h    68.25000\n",
       "i    74.62500\n",
       "j    65.50000\n",
       "k    68.25000\n",
       "l    60.75000\n",
       "m    79.18750\n",
       "n    79.06250\n",
       "o    70.75000\n",
       "p    66.00000\n",
       "q    70.56250\n",
       "r    76.06250\n",
       "s    75.12500\n",
       "t    68.56250\n",
       "u    74.56250\n",
       "v    70.06250\n",
       "w    51.68750\n",
       "x    86.75000\n",
       "y    73.25000\n",
       "z    56.28125\n",
       "dtype: float16"
      ]
     },
     "execution_count": 19,
     "metadata": {},
     "output_type": "execute_result"
    }
   ],
   "source": [
    "data = [random.gauss(70,10) for _ in range(26)]\n",
    "series = pd.Series(data,index = list(string.ascii_lowercase) ,dtype='float16')\n",
    "series"
   ]
  },
  {
   "cell_type": "code",
   "execution_count": 22,
   "metadata": {},
   "outputs": [
    {
     "data": {
      "text/plain": [
       "a    58.46875\n",
       "b    63.96875\n",
       "c    62.09375\n",
       "d    70.06250\n",
       "e    68.37500\n",
       "dtype: float16"
      ]
     },
     "execution_count": 22,
     "metadata": {},
     "output_type": "execute_result"
    }
   ],
   "source": [
    "data = [random.gauss(70,10) for _ in range(5)]\n",
    "series = pd.Series(data,index = list(string.ascii_lowercase)[:5] ,dtype='float16')\n",
    "series"
   ]
  },
  {
   "cell_type": "code",
   "execution_count": 23,
   "metadata": {},
   "outputs": [
    {
     "data": {
      "text/plain": [
       "b    63.96875\n",
       "c    62.09375\n",
       "dtype: float16"
      ]
     },
     "execution_count": 23,
     "metadata": {},
     "output_type": "execute_result"
    }
   ],
   "source": [
    "series[1:3]"
   ]
  },
  {
   "cell_type": "code",
   "execution_count": 24,
   "metadata": {},
   "outputs": [
    {
     "data": {
      "text/plain": [
       "b    63.96875\n",
       "c    62.09375\n",
       "d    70.06250\n",
       "e    68.37500\n",
       "dtype: float16"
      ]
     },
     "execution_count": 24,
     "metadata": {},
     "output_type": "execute_result"
    }
   ],
   "source": [
    "series['b':'e']"
   ]
  },
  {
   "cell_type": "markdown",
   "metadata": {},
   "source": [
    "what is series index \n",
    "what is series value \n"
   ]
  },
  {
   "cell_type": "code",
   "execution_count": 25,
   "metadata": {},
   "outputs": [
    {
     "data": {
      "text/plain": [
       "[0.3620378668827662,\n",
       " 0.02918351394930707,\n",
       " 0.6636039288225621,\n",
       " 0.23636280174695823,\n",
       " 0.23851373878690862]"
      ]
     },
     "execution_count": 25,
     "metadata": {},
     "output_type": "execute_result"
    }
   ],
   "source": [
    "#default dtype = float64 \n",
    "[random.random() for _ in range (5)]"
   ]
  },
  {
   "cell_type": "code",
   "execution_count": 31,
   "metadata": {},
   "outputs": [
    {
     "name": "stdout",
     "output_type": "stream",
     "text": [
      "assignment    80.0\n",
      "dtype: float64\n",
      "assignment    80.0\n",
      "midterm       90.3\n",
      "dtype: float64\n"
     ]
    }
   ],
   "source": [
    "alphabet = 'abcdefghijklmnopqrstuvwxyz'\n",
    "\n",
    "score = {'quizzes':89.3, 'assignment': 80, 'midterm': 90.3, 'final': 80}\n",
    "series = pd.Series(score)\n",
    "print(series[1:2])\n",
    "print(series['assignment':'midterm'])"
   ]
  },
  {
   "cell_type": "code",
   "execution_count": 33,
   "metadata": {},
   "outputs": [
    {
     "data": {
      "text/html": [
       "<div>\n",
       "<style scoped>\n",
       "    .dataframe tbody tr th:only-of-type {\n",
       "        vertical-align: middle;\n",
       "    }\n",
       "\n",
       "    .dataframe tbody tr th {\n",
       "        vertical-align: top;\n",
       "    }\n",
       "\n",
       "    .dataframe thead th {\n",
       "        text-align: right;\n",
       "    }\n",
       "</style>\n",
       "<table border=\"1\" class=\"dataframe\">\n",
       "  <thead>\n",
       "    <tr style=\"text-align: right;\">\n",
       "      <th></th>\n",
       "      <th>0</th>\n",
       "      <th>1</th>\n",
       "      <th>2</th>\n",
       "      <th>3</th>\n",
       "      <th>4</th>\n",
       "    </tr>\n",
       "  </thead>\n",
       "  <tbody>\n",
       "    <tr>\n",
       "      <th>0</th>\n",
       "      <td>-0.420770</td>\n",
       "      <td>0.180315</td>\n",
       "      <td>-0.797142</td>\n",
       "      <td>0.146634</td>\n",
       "      <td>0.200130</td>\n",
       "    </tr>\n",
       "    <tr>\n",
       "      <th>1</th>\n",
       "      <td>-1.661805</td>\n",
       "      <td>2.320277</td>\n",
       "      <td>0.571429</td>\n",
       "      <td>-0.488762</td>\n",
       "      <td>-0.254033</td>\n",
       "    </tr>\n",
       "    <tr>\n",
       "      <th>2</th>\n",
       "      <td>-0.743245</td>\n",
       "      <td>0.009923</td>\n",
       "      <td>0.813657</td>\n",
       "      <td>-1.299314</td>\n",
       "      <td>-0.569141</td>\n",
       "    </tr>\n",
       "    <tr>\n",
       "      <th>3</th>\n",
       "      <td>0.253927</td>\n",
       "      <td>2.047471</td>\n",
       "      <td>-0.732476</td>\n",
       "      <td>-0.151218</td>\n",
       "      <td>0.486779</td>\n",
       "    </tr>\n",
       "    <tr>\n",
       "      <th>4</th>\n",
       "      <td>0.934348</td>\n",
       "      <td>1.219737</td>\n",
       "      <td>-2.275424</td>\n",
       "      <td>-0.983450</td>\n",
       "      <td>-1.474548</td>\n",
       "    </tr>\n",
       "    <tr>\n",
       "      <th>5</th>\n",
       "      <td>1.538000</td>\n",
       "      <td>-1.067718</td>\n",
       "      <td>-0.497227</td>\n",
       "      <td>0.597033</td>\n",
       "      <td>1.532654</td>\n",
       "    </tr>\n",
       "    <tr>\n",
       "      <th>6</th>\n",
       "      <td>-0.441447</td>\n",
       "      <td>-1.521840</td>\n",
       "      <td>-0.632433</td>\n",
       "      <td>0.136215</td>\n",
       "      <td>-0.226234</td>\n",
       "    </tr>\n",
       "    <tr>\n",
       "      <th>7</th>\n",
       "      <td>-1.225078</td>\n",
       "      <td>-0.256911</td>\n",
       "      <td>1.658625</td>\n",
       "      <td>0.136327</td>\n",
       "      <td>-1.023291</td>\n",
       "    </tr>\n",
       "    <tr>\n",
       "      <th>8</th>\n",
       "      <td>0.757642</td>\n",
       "      <td>-0.544319</td>\n",
       "      <td>-1.059022</td>\n",
       "      <td>-0.101889</td>\n",
       "      <td>-0.530524</td>\n",
       "    </tr>\n",
       "    <tr>\n",
       "      <th>9</th>\n",
       "      <td>-0.313537</td>\n",
       "      <td>1.380661</td>\n",
       "      <td>-1.161279</td>\n",
       "      <td>1.167063</td>\n",
       "      <td>0.481474</td>\n",
       "    </tr>\n",
       "  </tbody>\n",
       "</table>\n",
       "</div>"
      ],
      "text/plain": [
       "          0         1         2         3         4\n",
       "0 -0.420770  0.180315 -0.797142  0.146634  0.200130\n",
       "1 -1.661805  2.320277  0.571429 -0.488762 -0.254033\n",
       "2 -0.743245  0.009923  0.813657 -1.299314 -0.569141\n",
       "3  0.253927  2.047471 -0.732476 -0.151218  0.486779\n",
       "4  0.934348  1.219737 -2.275424 -0.983450 -1.474548\n",
       "5  1.538000 -1.067718 -0.497227  0.597033  1.532654\n",
       "6 -0.441447 -1.521840 -0.632433  0.136215 -0.226234\n",
       "7 -1.225078 -0.256911  1.658625  0.136327 -1.023291\n",
       "8  0.757642 -0.544319 -1.059022 -0.101889 -0.530524\n",
       "9 -0.313537  1.380661 -1.161279  1.167063  0.481474"
      ]
     },
     "execution_count": 33,
     "metadata": {},
     "output_type": "execute_result"
    }
   ],
   "source": [
    "alphabet=string.ascii_uppercase\n",
    "df = pd.DataFrame(np.random.randn(10,5))\n",
    "df"
   ]
  },
  {
   "cell_type": "code",
   "execution_count": 34,
   "metadata": {},
   "outputs": [
    {
     "data": {
      "text/html": [
       "<div>\n",
       "<style scoped>\n",
       "    .dataframe tbody tr th:only-of-type {\n",
       "        vertical-align: middle;\n",
       "    }\n",
       "\n",
       "    .dataframe tbody tr th {\n",
       "        vertical-align: top;\n",
       "    }\n",
       "\n",
       "    .dataframe thead th {\n",
       "        text-align: right;\n",
       "    }\n",
       "</style>\n",
       "<table border=\"1\" class=\"dataframe\">\n",
       "  <thead>\n",
       "    <tr style=\"text-align: right;\">\n",
       "      <th></th>\n",
       "      <th>0</th>\n",
       "      <th>1</th>\n",
       "      <th>2</th>\n",
       "      <th>3</th>\n",
       "      <th>4</th>\n",
       "    </tr>\n",
       "  </thead>\n",
       "  <tbody>\n",
       "    <tr>\n",
       "      <th>0</th>\n",
       "      <td>0</td>\n",
       "      <td>1</td>\n",
       "      <td>2</td>\n",
       "      <td>3</td>\n",
       "      <td>4</td>\n",
       "    </tr>\n",
       "    <tr>\n",
       "      <th>1</th>\n",
       "      <td>5</td>\n",
       "      <td>6</td>\n",
       "      <td>7</td>\n",
       "      <td>8</td>\n",
       "      <td>9</td>\n",
       "    </tr>\n",
       "    <tr>\n",
       "      <th>2</th>\n",
       "      <td>10</td>\n",
       "      <td>11</td>\n",
       "      <td>12</td>\n",
       "      <td>13</td>\n",
       "      <td>14</td>\n",
       "    </tr>\n",
       "  </tbody>\n",
       "</table>\n",
       "</div>"
      ],
      "text/plain": [
       "    0   1   2   3   4\n",
       "0   0   1   2   3   4\n",
       "1   5   6   7   8   9\n",
       "2  10  11  12  13  14"
      ]
     },
     "execution_count": 34,
     "metadata": {},
     "output_type": "execute_result"
    }
   ],
   "source": [
    "df_1 = pd.DataFrame([np.arange(5),np.arange(5,10),np.arange(10,15)])\n",
    "df_1"
   ]
  },
  {
   "cell_type": "code",
   "execution_count": null,
   "metadata": {},
   "outputs": [],
   "source": [
    "## reshape()\n",
    "## add \n",
    "## remove,  inplace =True  "
   ]
  },
  {
   "cell_type": "code",
   "execution_count": 35,
   "metadata": {},
   "outputs": [
    {
     "data": {
      "text/html": [
       "<div>\n",
       "<style scoped>\n",
       "    .dataframe tbody tr th:only-of-type {\n",
       "        vertical-align: middle;\n",
       "    }\n",
       "\n",
       "    .dataframe tbody tr th {\n",
       "        vertical-align: top;\n",
       "    }\n",
       "\n",
       "    .dataframe thead th {\n",
       "        text-align: right;\n",
       "    }\n",
       "</style>\n",
       "<table border=\"1\" class=\"dataframe\">\n",
       "  <thead>\n",
       "    <tr style=\"text-align: right;\">\n",
       "      <th></th>\n",
       "      <th>one</th>\n",
       "      <th>two</th>\n",
       "      <th>three</th>\n",
       "      <th>four</th>\n",
       "    </tr>\n",
       "  </thead>\n",
       "  <tbody>\n",
       "    <tr>\n",
       "      <th>0</th>\n",
       "      <td>0.768166</td>\n",
       "      <td>-1.189906</td>\n",
       "      <td>-0.533149</td>\n",
       "      <td>-1.163444</td>\n",
       "    </tr>\n",
       "    <tr>\n",
       "      <th>1</th>\n",
       "      <td>0.671778</td>\n",
       "      <td>0.991238</td>\n",
       "      <td>0.037050</td>\n",
       "      <td>1.009580</td>\n",
       "    </tr>\n",
       "    <tr>\n",
       "      <th>2</th>\n",
       "      <td>-0.508027</td>\n",
       "      <td>-0.702729</td>\n",
       "      <td>3.506561</td>\n",
       "      <td>-1.293513</td>\n",
       "    </tr>\n",
       "    <tr>\n",
       "      <th>3</th>\n",
       "      <td>0.486624</td>\n",
       "      <td>0.319878</td>\n",
       "      <td>1.182365</td>\n",
       "      <td>1.065761</td>\n",
       "    </tr>\n",
       "    <tr>\n",
       "      <th>4</th>\n",
       "      <td>1.393106</td>\n",
       "      <td>-0.349485</td>\n",
       "      <td>0.635932</td>\n",
       "      <td>0.785069</td>\n",
       "    </tr>\n",
       "    <tr>\n",
       "      <th>...</th>\n",
       "      <td>...</td>\n",
       "      <td>...</td>\n",
       "      <td>...</td>\n",
       "      <td>...</td>\n",
       "    </tr>\n",
       "    <tr>\n",
       "      <th>95</th>\n",
       "      <td>0.962438</td>\n",
       "      <td>-0.373877</td>\n",
       "      <td>-1.757508</td>\n",
       "      <td>0.479097</td>\n",
       "    </tr>\n",
       "    <tr>\n",
       "      <th>96</th>\n",
       "      <td>0.924151</td>\n",
       "      <td>-1.179643</td>\n",
       "      <td>1.502565</td>\n",
       "      <td>0.161962</td>\n",
       "    </tr>\n",
       "    <tr>\n",
       "      <th>97</th>\n",
       "      <td>0.659159</td>\n",
       "      <td>0.452655</td>\n",
       "      <td>-0.010531</td>\n",
       "      <td>-1.679877</td>\n",
       "    </tr>\n",
       "    <tr>\n",
       "      <th>98</th>\n",
       "      <td>-0.319351</td>\n",
       "      <td>0.457203</td>\n",
       "      <td>-2.504298</td>\n",
       "      <td>0.348198</td>\n",
       "    </tr>\n",
       "    <tr>\n",
       "      <th>99</th>\n",
       "      <td>-1.093095</td>\n",
       "      <td>0.258673</td>\n",
       "      <td>-1.283821</td>\n",
       "      <td>-1.263622</td>\n",
       "    </tr>\n",
       "  </tbody>\n",
       "</table>\n",
       "<p>100 rows × 4 columns</p>\n",
       "</div>"
      ],
      "text/plain": [
       "         one       two     three      four\n",
       "0   0.768166 -1.189906 -0.533149 -1.163444\n",
       "1   0.671778  0.991238  0.037050  1.009580\n",
       "2  -0.508027 -0.702729  3.506561 -1.293513\n",
       "3   0.486624  0.319878  1.182365  1.065761\n",
       "4   1.393106 -0.349485  0.635932  0.785069\n",
       "..       ...       ...       ...       ...\n",
       "95  0.962438 -0.373877 -1.757508  0.479097\n",
       "96  0.924151 -1.179643  1.502565  0.161962\n",
       "97  0.659159  0.452655 -0.010531 -1.679877\n",
       "98 -0.319351  0.457203 -2.504298  0.348198\n",
       "99 -1.093095  0.258673 -1.283821 -1.263622\n",
       "\n",
       "[100 rows x 4 columns]"
      ]
     },
     "execution_count": 35,
     "metadata": {},
     "output_type": "execute_result"
    }
   ],
   "source": [
    "df = pd.DataFrame(np.random.randn(100,4), columns=['one','two','three','four'])\n",
    "\n",
    "df"
   ]
  },
  {
   "cell_type": "code",
   "execution_count": 36,
   "metadata": {},
   "outputs": [
    {
     "data": {
      "text/plain": [
       "['read_clipboard',\n",
       " 'read_csv',\n",
       " 'read_excel',\n",
       " 'read_feather',\n",
       " 'read_fwf',\n",
       " 'read_gbq',\n",
       " 'read_hdf',\n",
       " 'read_html',\n",
       " 'read_json',\n",
       " 'read_orc',\n",
       " 'read_parquet',\n",
       " 'read_pickle',\n",
       " 'read_sas',\n",
       " 'read_spss',\n",
       " 'read_sql',\n",
       " 'read_sql_query',\n",
       " 'read_sql_table',\n",
       " 'read_stata',\n",
       " 'read_table',\n",
       " 'read_xml']"
      ]
     },
     "execution_count": 36,
     "metadata": {},
     "output_type": "execute_result"
    }
   ],
   "source": [
    "[f for f in dir(pd) if f.startswith(\"read\")]\n"
   ]
  }
 ],
 "metadata": {
  "kernelspec": {
   "display_name": "Python 3",
   "language": "python",
   "name": "python3"
  },
  "language_info": {
   "codemirror_mode": {
    "name": "ipython",
    "version": 3
   },
   "file_extension": ".py",
   "mimetype": "text/x-python",
   "name": "python",
   "nbconvert_exporter": "python",
   "pygments_lexer": "ipython3",
   "version": "3.11.3"
  },
  "orig_nbformat": 4
 },
 "nbformat": 4,
 "nbformat_minor": 2
}
