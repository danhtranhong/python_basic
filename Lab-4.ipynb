{
 "cells": [
  {
   "attachments": {},
   "cell_type": "markdown",
   "id": "8ada0896",
   "metadata": {},
   "source": [
    "# Learning Objectives\n",
    "Upon completion of this lab, you will learn\n",
    "<ul>\n",
    "<li> How to to generate <strong>pseudrandom</strong> numbers using different methods?\n",
    "<li> How to simulate a coin flip?\n",
    "<li> How to simulate a lottery draw?\n",
    "</ul>"
   ]
  },
  {
   "cell_type": "code",
   "execution_count": 36,
   "id": "cb34fc1e",
   "metadata": {},
   "outputs": [],
   "source": [
    "import random"
   ]
  },
  {
   "attachments": {},
   "cell_type": "markdown",
   "id": "7b6103ff",
   "metadata": {},
   "source": [
    "## Task 1 (20 Marks)\n",
    "To get the content of a module you can use <strong>dir(module_name)</strong>.\n",
    "To get help about the module use <strong>help(module_name)</strong> or in jupyter <strong>module_name?</strong>"
   ]
  },
  {
   "attachments": {},
   "cell_type": "markdown",
   "id": "76ba5ade",
   "metadata": {},
   "source": [
    "Check the content of the <b>random</b> Python module <strong>(2 Marks)</strong>"
   ]
  },
  {
   "cell_type": "code",
   "execution_count": 37,
   "id": "4d0f9e32",
   "metadata": {},
   "outputs": [
    {
     "data": {
      "text/plain": [
       "['BPF',\n",
       " 'LOG4',\n",
       " 'NV_MAGICCONST',\n",
       " 'RECIP_BPF',\n",
       " 'Random',\n",
       " 'SG_MAGICCONST',\n",
       " 'SystemRandom',\n",
       " 'TWOPI',\n",
       " '_ONE',\n",
       " '_Sequence',\n",
       " '_Set',\n",
       " '__all__',\n",
       " '__builtins__',\n",
       " '__cached__',\n",
       " '__doc__',\n",
       " '__file__',\n",
       " '__loader__',\n",
       " '__name__',\n",
       " '__package__',\n",
       " '__spec__',\n",
       " '_accumulate',\n",
       " '_acos',\n",
       " '_bisect',\n",
       " '_ceil',\n",
       " '_cos',\n",
       " '_e',\n",
       " '_exp',\n",
       " '_floor',\n",
       " '_index',\n",
       " '_inst',\n",
       " '_isfinite',\n",
       " '_log',\n",
       " '_os',\n",
       " '_pi',\n",
       " '_random',\n",
       " '_repeat',\n",
       " '_sha512',\n",
       " '_sin',\n",
       " '_sqrt',\n",
       " '_test',\n",
       " '_test_generator',\n",
       " '_urandom',\n",
       " '_warn',\n",
       " 'betavariate',\n",
       " 'choice',\n",
       " 'choices',\n",
       " 'expovariate',\n",
       " 'gammavariate',\n",
       " 'gauss',\n",
       " 'getrandbits',\n",
       " 'getstate',\n",
       " 'lognormvariate',\n",
       " 'normalvariate',\n",
       " 'paretovariate',\n",
       " 'randbytes',\n",
       " 'randint',\n",
       " 'random',\n",
       " 'randrange',\n",
       " 'sample',\n",
       " 'seed',\n",
       " 'setstate',\n",
       " 'shuffle',\n",
       " 'triangular',\n",
       " 'uniform',\n",
       " 'vonmisesvariate',\n",
       " 'weibullvariate']"
      ]
     },
     "execution_count": 37,
     "metadata": {},
     "output_type": "execute_result"
    }
   ],
   "source": [
    "# your Python code goes here\n",
    "dir(random)\n"
   ]
  },
  {
   "attachments": {},
   "cell_type": "markdown",
   "id": "865e8452",
   "metadata": {},
   "source": [
    "Use <strong>list comprehension</strong> to extract all the <strong>dir(random)</strong> items with a name that does not start with <strong>_</strong>. (<strong>4 Marks</strong>)"
   ]
  },
  {
   "cell_type": "code",
   "execution_count": 41,
   "id": "438d4109",
   "metadata": {},
   "outputs": [
    {
     "data": {
      "text/plain": [
       "['BPF',\n",
       " 'LOG4',\n",
       " 'NV_MAGICCONST',\n",
       " 'RECIP_BPF',\n",
       " 'Random',\n",
       " 'SG_MAGICCONST',\n",
       " 'SystemRandom',\n",
       " 'TWOPI',\n",
       " 'betavariate',\n",
       " 'choice',\n",
       " 'choices',\n",
       " 'expovariate',\n",
       " 'gammavariate',\n",
       " 'gauss',\n",
       " 'getrandbits',\n",
       " 'getstate',\n",
       " 'lognormvariate',\n",
       " 'normalvariate',\n",
       " 'paretovariate',\n",
       " 'randbytes',\n",
       " 'randint',\n",
       " 'random',\n",
       " 'randrange',\n",
       " 'sample',\n",
       " 'seed',\n",
       " 'setstate',\n",
       " 'shuffle',\n",
       " 'triangular',\n",
       " 'uniform',\n",
       " 'vonmisesvariate',\n",
       " 'weibullvariate']"
      ]
     },
     "execution_count": 41,
     "metadata": {},
     "output_type": "execute_result"
    }
   ],
   "source": [
    "# your Python code goes here\n",
    "import re\n",
    "\n",
    "comprehension = []\n",
    "for item in dir(random): \n",
    "\n",
    "    if not item.startswith('_'):\n",
    "        comprehension.append(item)\n",
    "    \n",
    "comprehension\n"
   ]
  },
  {
   "attachments": {},
   "cell_type": "markdown",
   "id": "24e2de05",
   "metadata": {},
   "source": [
    "Displays the help information for the following <strong>random</strong> methods.\n",
    "<ol>\n",
    "<li> <strong>randint()</strong> <strong>(2 Marks)</strong>\n",
    "<li> <strong>randrange()</strong> <strong>(2 Marks)</strong>\n",
    "<li> <strong>uniform()</strong> <strong>(2 Marks)</strong>\n",
    "<li> <strong>choice()</strong> <strong>(2 Marks)</strong>\n",
    "<li> <strong>choices()</strong> <strong>(2 Marks)</strong>\n",
    "<li> <strong>sample()</strong> <strong>(2 Marks)</strong>\n",
    "<li> <strong>shuffle()</strong> <strong>(2 Marks)</strong>\n",
    "</ol>"
   ]
  },
  {
   "cell_type": "code",
   "execution_count": 5,
   "id": "70392bfa",
   "metadata": {},
   "outputs": [
    {
     "name": "stdout",
     "output_type": "stream",
     "text": [
      "Help on method randint in module random:\n",
      "\n",
      "randint(a, b) method of random.Random instance\n",
      "    Return random integer in range [a, b], including both end points.\n",
      "\n"
     ]
    }
   ],
   "source": [
    "from random import *\n",
    "\n",
    "help(randint)"
   ]
  },
  {
   "cell_type": "code",
   "execution_count": 6,
   "id": "0472701c",
   "metadata": {},
   "outputs": [
    {
     "name": "stdout",
     "output_type": "stream",
     "text": [
      "Help on method randrange in module random:\n",
      "\n",
      "randrange(start, stop=None, step=1) method of random.Random instance\n",
      "    Choose a random item from range(stop) or range(start, stop[, step]).\n",
      "    \n",
      "    Roughly equivalent to ``choice(range(start, stop, step))`` but\n",
      "    supports arbitrarily large ranges and is optimized for common cases.\n",
      "\n"
     ]
    }
   ],
   "source": [
    "# your Python code goes here\n",
    "#from random import randrange\n",
    "help(randrange)"
   ]
  },
  {
   "cell_type": "code",
   "execution_count": 7,
   "id": "8c06593f",
   "metadata": {},
   "outputs": [
    {
     "name": "stdout",
     "output_type": "stream",
     "text": [
      "Help on method uniform in module random:\n",
      "\n",
      "uniform(a, b) method of random.Random instance\n",
      "    Get a random number in the range [a, b) or [a, b] depending on rounding.\n",
      "\n"
     ]
    }
   ],
   "source": [
    "# your Python code goes here\n",
    "help(uniform)\n"
   ]
  },
  {
   "cell_type": "code",
   "execution_count": 8,
   "id": "85789793",
   "metadata": {},
   "outputs": [
    {
     "name": "stdout",
     "output_type": "stream",
     "text": [
      "Help on method choice in module random:\n",
      "\n",
      "choice(seq) method of random.Random instance\n",
      "    Choose a random element from a non-empty sequence.\n",
      "\n"
     ]
    }
   ],
   "source": [
    "# your Python code goes here\n",
    "help(choice)"
   ]
  },
  {
   "cell_type": "code",
   "execution_count": 9,
   "id": "f9792ec7",
   "metadata": {},
   "outputs": [
    {
     "name": "stdout",
     "output_type": "stream",
     "text": [
      "Help on method choices in module random:\n",
      "\n",
      "choices(population, weights=None, *, cum_weights=None, k=1) method of random.Random instance\n",
      "    Return a k sized list of population elements chosen with replacement.\n",
      "    \n",
      "    If the relative weights or cumulative weights are not specified,\n",
      "    the selections are made with equal probability.\n",
      "\n"
     ]
    }
   ],
   "source": [
    "# your Python code goes here\n",
    "help(choices)"
   ]
  },
  {
   "cell_type": "code",
   "execution_count": 10,
   "id": "69a6fc3e",
   "metadata": {},
   "outputs": [
    {
     "name": "stdout",
     "output_type": "stream",
     "text": [
      "Help on method sample in module random:\n",
      "\n",
      "sample(population, k, *, counts=None) method of random.Random instance\n",
      "    Chooses k unique random elements from a population sequence.\n",
      "    \n",
      "    Returns a new list containing elements from the population while\n",
      "    leaving the original population unchanged.  The resulting list is\n",
      "    in selection order so that all sub-slices will also be valid random\n",
      "    samples.  This allows raffle winners (the sample) to be partitioned\n",
      "    into grand prize and second place winners (the subslices).\n",
      "    \n",
      "    Members of the population need not be hashable or unique.  If the\n",
      "    population contains repeats, then each occurrence is a possible\n",
      "    selection in the sample.\n",
      "    \n",
      "    Repeated elements can be specified one at a time or with the optional\n",
      "    counts parameter.  For example:\n",
      "    \n",
      "        sample(['red', 'blue'], counts=[4, 2], k=5)\n",
      "    \n",
      "    is equivalent to:\n",
      "    \n",
      "        sample(['red', 'red', 'red', 'red', 'blue', 'blue'], k=5)\n",
      "    \n",
      "    To choose a sample from a range of integers, use range() for the\n",
      "    population argument.  This is especially fast and space efficient\n",
      "    for sampling from a large population:\n",
      "    \n",
      "        sample(range(10000000), 60)\n",
      "\n"
     ]
    }
   ],
   "source": [
    "# your Python code goes here\n",
    "help(sample)"
   ]
  },
  {
   "cell_type": "code",
   "execution_count": 11,
   "id": "f15d0be7",
   "metadata": {},
   "outputs": [
    {
     "name": "stdout",
     "output_type": "stream",
     "text": [
      "Help on method shuffle in module random:\n",
      "\n",
      "shuffle(x) method of random.Random instance\n",
      "    Shuffle list x in place, and return None.\n",
      "\n"
     ]
    }
   ],
   "source": [
    "# your Python code goes here\n",
    "help(shuffle)"
   ]
  },
  {
   "attachments": {},
   "cell_type": "markdown",
   "id": "ba7e4239",
   "metadata": {},
   "source": [
    "## Task 2 (20 Marks)"
   ]
  },
  {
   "attachments": {},
   "cell_type": "markdown",
   "id": "b72157a8",
   "metadata": {},
   "source": [
    "Generate a list that contains 10 random <strong>5-digit</strong> integers. <strong>(7 Marks)</strong>"
   ]
  },
  {
   "cell_type": "code",
   "execution_count": 12,
   "id": "c472f3d1",
   "metadata": {},
   "outputs": [
    {
     "name": "stdout",
     "output_type": "stream",
     "text": [
      " the list that contains 10 random 5-digit integer: \n",
      " [65130, 67895, 94441, 57313, 61799, 72266, 14414, 53760, 46966, 96649]\n"
     ]
    }
   ],
   "source": [
    "list_5_digit = []\n",
    "for i in range (10):\n",
    "    rand_numb = randrange(10000,99999)\n",
    "    list_5_digit.append(rand_numb)\n",
    "\n",
    "print(f\" the list that contains 10 random 5-digit integer: \\n {list_5_digit}\")"
   ]
  },
  {
   "attachments": {},
   "cell_type": "markdown",
   "id": "b2e0986d",
   "metadata": {},
   "source": [
    "Generate a list that contains 10 random <strong>9-digit</strong> integers. <strong>(6 Marks)</strong>"
   ]
  },
  {
   "cell_type": "code",
   "execution_count": 13,
   "id": "0692cef8",
   "metadata": {},
   "outputs": [
    {
     "name": "stdout",
     "output_type": "stream",
     "text": [
      " the list that contains 10 random 5-digit integer: \n",
      " [257500733, 412345697, 670961646, 323907804, 669721264, 653889885, 674531042, 485270841, 495794285, 937334692]\n"
     ]
    }
   ],
   "source": [
    "# your Python code goes here\n",
    "\n",
    "list_9_digit = []\n",
    "for i in range (10):\n",
    "    rand_numb = randrange(100000000,999999999)\n",
    "    list_9_digit.append(rand_numb)\n",
    "\n",
    "print(f\" the list that contains 10 random 5-digit integer: \\n {list_9_digit}\")    "
   ]
  },
  {
   "attachments": {},
   "cell_type": "markdown",
   "id": "ee169e05",
   "metadata": {},
   "source": [
    "Generate a list that contains all positive integers less than 100 divisible by 6. <strong>(7 Marks)</strong>"
   ]
  },
  {
   "cell_type": "code",
   "execution_count": 43,
   "id": "b4ca6335",
   "metadata": {},
   "outputs": [
    {
     "data": {
      "text/plain": [
       "[6, 12, 18, 24, 30, 36, 42, 48, 54, 60, 66, 72, 78, 84, 90, 96]"
      ]
     },
     "execution_count": 43,
     "metadata": {},
     "output_type": "execute_result"
    }
   ],
   "source": [
    "# your Python code goes here\n",
    "divisible_list = []\n",
    "def divisible_check(input_number):\n",
    "    check_result = input_number%6\n",
    "    if check_result == 0:\n",
    "        return input_number\n",
    "\n",
    "for i in range (1,100):\n",
    "    result = divisible_check(i)\n",
    "    if result is not None:\n",
    "        divisible_list.append(result)\n",
    "\n",
    "divisible_list"
   ]
  },
  {
   "attachments": {},
   "cell_type": "markdown",
   "id": "0dd56391",
   "metadata": {},
   "source": [
    "### Task 3 (30 Marks)\n",
    "The goal of this task is to simulate a <strong>fair coin flip</strong> using appropriate <strong>random</strong> method."
   ]
  },
  {
   "cell_type": "code",
   "execution_count": 15,
   "id": "6b9a5465",
   "metadata": {},
   "outputs": [],
   "source": [
    "seed(4800)"
   ]
  },
  {
   "attachments": {},
   "cell_type": "markdown",
   "id": "5a718578",
   "metadata": {},
   "source": [
    "Produce a list with a name <strong>result</strong> that contains the results of <strong>flipping a fair coin</strong> 100 times. (Use 0 for tail and 1 for head) (<strong>7 Marks</strong>)"
   ]
  },
  {
   "cell_type": "code",
   "execution_count": 28,
   "id": "a755dd90",
   "metadata": {},
   "outputs": [
    {
     "data": {
      "text/plain": [
       "[1,\n",
       " 1,\n",
       " 1,\n",
       " 0,\n",
       " 1,\n",
       " 1,\n",
       " 0,\n",
       " 0,\n",
       " 1,\n",
       " 1,\n",
       " 0,\n",
       " 1,\n",
       " 1,\n",
       " 0,\n",
       " 0,\n",
       " 1,\n",
       " 0,\n",
       " 1,\n",
       " 1,\n",
       " 1,\n",
       " 1,\n",
       " 1,\n",
       " 1,\n",
       " 1,\n",
       " 0,\n",
       " 1,\n",
       " 0,\n",
       " 0,\n",
       " 1,\n",
       " 0,\n",
       " 1,\n",
       " 0,\n",
       " 1,\n",
       " 1,\n",
       " 1,\n",
       " 1,\n",
       " 1,\n",
       " 1,\n",
       " 1,\n",
       " 1,\n",
       " 1,\n",
       " 1,\n",
       " 0,\n",
       " 0,\n",
       " 0,\n",
       " 1,\n",
       " 1,\n",
       " 0,\n",
       " 1,\n",
       " 1,\n",
       " 1,\n",
       " 0,\n",
       " 1,\n",
       " 0,\n",
       " 1,\n",
       " 0,\n",
       " 1,\n",
       " 0,\n",
       " 1,\n",
       " 0,\n",
       " 1,\n",
       " 0,\n",
       " 1,\n",
       " 1,\n",
       " 1,\n",
       " 0,\n",
       " 1,\n",
       " 1,\n",
       " 1,\n",
       " 1,\n",
       " 1,\n",
       " 1,\n",
       " 1,\n",
       " 1,\n",
       " 1,\n",
       " 0,\n",
       " 1,\n",
       " 1,\n",
       " 1,\n",
       " 0,\n",
       " 0,\n",
       " 1,\n",
       " 1,\n",
       " 0,\n",
       " 0,\n",
       " 0,\n",
       " 0,\n",
       " 0,\n",
       " 1,\n",
       " 0,\n",
       " 1,\n",
       " 0,\n",
       " 0,\n",
       " 0,\n",
       " 1,\n",
       " 0,\n",
       " 1,\n",
       " 1,\n",
       " 0,\n",
       " 1]"
      ]
     },
     "execution_count": 28,
     "metadata": {},
     "output_type": "execute_result"
    }
   ],
   "source": [
    "# your Python code goes here\n",
    "#for i in (0,1) range (1,101):\n",
    "result = []\n",
    "for i in range(1,101):\n",
    "    a = randint(0,1)\n",
    "    result.append(a)\n",
    "result"
   ]
  },
  {
   "attachments": {},
   "cell_type": "markdown",
   "id": "a60017e4",
   "metadata": {},
   "source": [
    "Use a <strong>for loop</strong> to compute the number of heads and tails. (<strong>9 Marks</strong>)"
   ]
  },
  {
   "cell_type": "code",
   "execution_count": 29,
   "id": "6d840fb2",
   "metadata": {},
   "outputs": [
    {
     "name": "stdout",
     "output_type": "stream",
     "text": [
      " Number of head: 63\n",
      " Number of tail: 37\n"
     ]
    }
   ],
   "source": [
    "# your Python code goes here\n",
    "count_head = 0\n",
    "count_tail = 0\n",
    "\n",
    "for i in result:\n",
    "    if i == 1:\n",
    "         count_head += 1\n",
    "    else:\n",
    "         count_tail += 1\n",
    "print(f\" Number of head: {count_head}\")\n",
    "print(f\" Number of tail: {count_tail}\")\n"
   ]
  },
  {
   "attachments": {},
   "cell_type": "markdown",
   "id": "36f32a0e",
   "metadata": {},
   "source": [
    "Compute the <strong>relativy frequency</strong> of the the number of heads and tails with two decimal places. (<strong>7 Marks</strong>)"
   ]
  },
  {
   "cell_type": "code",
   "execution_count": 30,
   "id": "d822465f",
   "metadata": {},
   "outputs": [
    {
     "name": "stdout",
     "output_type": "stream",
     "text": [
      "Relative frequency of the number of tail: 37.00%\n",
      "Relative frequency of the number of head: 63.00%\n"
     ]
    }
   ],
   "source": [
    "# your Python code goes here\n",
    "total = len(result)\n",
    "\n",
    "def compute_frequency(count_value):\n",
    "    freq = \"{:.2%}\".format(count_value/len(result))\n",
    "    return freq\n",
    "\n",
    "print(f\"Relative frequency of the number of tail: {compute_frequency(count_tail)}\")\n",
    "print(f\"Relative frequency of the number of head: {compute_frequency(count_head)}\")\n"
   ]
  },
  {
   "attachments": {},
   "cell_type": "markdown",
   "id": "c4efe294",
   "metadata": {},
   "source": [
    "Use a <strong>for loop</strong> to transform the <strong>result</strong> to replace <strong>1</strong> with <strong>'H'</strong> and <strong>0</strong> with <strong>'T'</strong>. (<strong>Marks 7</strong>)\n"
   ]
  },
  {
   "cell_type": "code",
   "execution_count": 31,
   "id": "e83ad913",
   "metadata": {},
   "outputs": [
    {
     "name": "stdout",
     "output_type": "stream",
     "text": [
      " List is: ['H', 'H', 'H', 'T', 'H', 'H', 'T', 'T', 'H', 'H', 'T', 'H', 'H', 'T', 'T', 'H', 'T', 'H', 'H', 'H', 'H', 'H', 'H', 'H', 'T', 'H', 'T', 'T', 'H', 'T', 'H', 'T', 'H', 'H', 'H', 'H', 'H', 'H', 'H', 'H', 'H', 'H', 'T', 'T', 'T', 'H', 'H', 'T', 'H', 'H', 'H', 'T', 'H', 'T', 'H', 'T', 'H', 'T', 'H', 'T', 'H', 'T', 'H', 'H', 'H', 'T', 'H', 'H', 'H', 'H', 'H', 'H', 'H', 'H', 'H', 'T', 'H', 'H', 'H', 'T', 'T', 'H', 'H', 'T', 'T', 'T', 'T', 'T', 'H', 'T', 'H', 'T', 'T', 'T', 'H', 'T', 'H', 'H', 'T', 'H']\n"
     ]
    }
   ],
   "source": [
    "# your Python code goes here\n",
    "#result\n",
    "for i in range(len(result)):\n",
    "    if result[i] == 1:\n",
    "        result[i] = \"H\"\n",
    "    else:\n",
    "        result[i] = \"T\"\n",
    "    \n",
    "print(f\" List is: {result}\")"
   ]
  },
  {
   "attachments": {},
   "cell_type": "markdown",
   "id": "8ab3519b",
   "metadata": {},
   "source": [
    "# Task 4 (30 Marks)\n",
    "\n",
    "The goal of this task is to simulate a <strong>lottery draw</strong> using appropriate random method.\n"
   ]
  },
  {
   "attachments": {},
   "cell_type": "markdown",
   "id": "b1f32445",
   "metadata": {},
   "source": [
    "Generate a list named <strong>lottery_numbers</strong> between <strong>1</strong> and <strong>99</strong>. (<strong>5 Marks</strong>)."
   ]
  },
  {
   "cell_type": "code",
   "execution_count": 26,
   "id": "90da2858",
   "metadata": {},
   "outputs": [
    {
     "name": "stdout",
     "output_type": "stream",
     "text": [
      " List lottery number is: [78, 93, 26, 13, 38, 93, 15, 80, 20, 76, 95, 13, 94, 32, 60, 53, 42, 60, 38, 6, 10, 63, 3, 25, 17, 96, 90, 53, 82, 5, 27, 58, 13, 13, 28, 44, 57, 99, 84, 47, 25, 9, 81, 25, 11, 77, 42, 40, 39, 84, 82, 72, 51, 78, 3, 97, 45, 80, 25, 40, 18, 98, 70, 39, 66, 10, 60, 43, 3, 53, 51, 64, 9, 46, 40, 10, 21, 51, 1, 37, 83, 96, 14, 21, 36, 21, 53, 45, 15, 10, 40, 15, 91, 15, 1, 37, 84, 68, 32]\n"
     ]
    }
   ],
   "source": [
    "# your Python code goes here\n",
    "lottery_number = []\n",
    "for i in range(1,100):\n",
    "    numb_list= randrange(1, 100)\n",
    "    lottery_number.append(numb_list)\n",
    "\n",
    "\n",
    "print(f\" List lottery number is: {lottery_number}\")\n",
    "                        "
   ]
  },
  {
   "attachments": {},
   "cell_type": "markdown",
   "id": "75d0ef9e",
   "metadata": {},
   "source": [
    "Rearrange the <strong>lottery_numbers</strong> list items in <strong>random order</strong>. (<strong>5 Marks</strong>)"
   ]
  },
  {
   "cell_type": "code",
   "execution_count": 44,
   "id": "e43d5f35",
   "metadata": {},
   "outputs": [
    {
     "name": "stdout",
     "output_type": "stream",
     "text": [
      "list items in random order: [10, 1, 53, 38, 10, 13, 15, 58, 47, 27, 51, 13, 6, 40, 94, 60, 96, 21, 37, 51, 15, 64, 39, 99, 17, 40, 15, 72, 21, 91, 9, 53, 25, 20, 36, 39, 53, 45, 66, 70, 40, 63, 90, 84, 78, 37, 32, 5, 3, 84, 42, 46, 3, 25, 42, 10, 14, 60, 83, 38, 80, 13, 45, 40, 93, 80, 77, 25, 1, 57, 84, 26, 21, 32, 93, 97, 96, 11, 82, 68, 10, 18, 95, 98, 28, 25, 51, 53, 13, 3, 82, 15, 76, 43, 81, 44, 78, 9, 60]\n"
     ]
    }
   ],
   "source": [
    "# your Python code goes here\n",
    "shuffle(lottery_number)\n",
    "print(f\"list items in random order: {lottery_number}\")\n"
   ]
  },
  {
   "attachments": {},
   "cell_type": "markdown",
   "id": "eac42753",
   "metadata": {},
   "source": [
    "Generate a list with the name <strong>lottery_draw</strong> of <strong>6</strong> randomly selected <strong>unique</strong> numbers from the list <strong>lottery_numbers</strong> list. (<strong>5 Marks</strong>)"
   ]
  },
  {
   "cell_type": "code",
   "execution_count": 45,
   "id": "7404508f",
   "metadata": {},
   "outputs": [
    {
     "name": "stdout",
     "output_type": "stream",
     "text": [
      "The list lottery draw with unique values is  [5, 47, 13, 18, 44, 27]\n"
     ]
    }
   ],
   "source": [
    "# your Python code goes here\n",
    "\n",
    "lottery_draw = sample(lottery_number, k = 6)\n",
    "\n",
    "print(f\"The list lottery draw with unique values is  {lottery_draw}\")\n",
    "\n"
   ]
  },
  {
   "attachments": {},
   "cell_type": "markdown",
   "id": "601a065c",
   "metadata": {},
   "source": [
    "Sort the list <strong>lottery_draw</strong> in <strong>descending order</strong>. (<strong>5 Marks</strong>)"
   ]
  },
  {
   "cell_type": "code",
   "execution_count": 23,
   "id": "81e75600",
   "metadata": {},
   "outputs": [
    {
     "name": "stdout",
     "output_type": "stream",
     "text": [
      " The sorted list is: [96, 82, 72, 70, 42, 8]\n"
     ]
    }
   ],
   "source": [
    "# your Python code goes here\n",
    "lottery_draw.sort(reverse = True)\n",
    "print(f\" The sorted list is: {lottery_draw}\")"
   ]
  },
  {
   "attachments": {},
   "cell_type": "markdown",
   "id": "febf6fa1",
   "metadata": {},
   "source": [
    "Generate a list with the name <strong>lottery_draw</strong> of <strong>9</strong> randomly selected numbers from the list <strong>lottery_numbers</strong> list. (<strong>5 Marks</strong>)"
   ]
  },
  {
   "cell_type": "code",
   "execution_count": 24,
   "id": "17a30657",
   "metadata": {},
   "outputs": [
    {
     "name": "stdout",
     "output_type": "stream",
     "text": [
      "The list lottery draw is  [75, 92, 23, 64, 79, 48, 92, 78, 65]\n"
     ]
    }
   ],
   "source": [
    "# your Python code goes here\n",
    "lottery_draw = choices(lottery_number, k = 9)\n",
    "\n",
    "print(f\"The list lottery draw is  {lottery_draw}\")\n"
   ]
  },
  {
   "attachments": {},
   "cell_type": "markdown",
   "id": "cc0e814d",
   "metadata": {},
   "source": [
    "Sort the list lottery_draw in <strong>ascending order</strong>. (<strong>5 Marks</strong>)"
   ]
  },
  {
   "cell_type": "code",
   "execution_count": 25,
   "id": "2688e6f8",
   "metadata": {},
   "outputs": [
    {
     "name": "stdout",
     "output_type": "stream",
     "text": [
      " The sorted list is: [23, 48, 64, 65, 75, 78, 79, 92, 92]\n"
     ]
    }
   ],
   "source": [
    "# your Python code goes here\n",
    "lottery_draw.sort()\n",
    "\n",
    "print(f\" The sorted list is: {lottery_draw}\")"
   ]
  }
 ],
 "metadata": {
  "kernelspec": {
   "display_name": "Python 3 (ipykernel)",
   "language": "python",
   "name": "python3"
  },
  "language_info": {
   "codemirror_mode": {
    "name": "ipython",
    "version": 3
   },
   "file_extension": ".py",
   "mimetype": "text/x-python",
   "name": "python",
   "nbconvert_exporter": "python",
   "pygments_lexer": "ipython3",
   "version": "3.11.3"
  },
  "vscode": {
   "interpreter": {
    "hash": "261a921f6df884d0c45ef12b662eecd19771c60b5f61300af35e3b76f3885634"
   }
  }
 },
 "nbformat": 4,
 "nbformat_minor": 5
}
