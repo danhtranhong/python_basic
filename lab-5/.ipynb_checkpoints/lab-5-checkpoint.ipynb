{
 "cells": [
  {
   "cell_type": "markdown",
   "id": "fd3b4edc",
   "metadata": {},
   "source": [
    "# Learning Objectives\n",
    "Upon completion of this lab, you will learn\n",
    "<ul>\n",
    " <li> How to use <strong>Pilow</strong> module?\n",
    " <li> How <strong>NumPy</strong> stores an image as three dimensional array in the format [height,width,RGB]?\n",
    "<li> How to convert an images to a <strong>NumPy</strong> array and vice versa?\n",
    "</ul>"
   ]
  },
  {
   "cell_type": "code",
   "execution_count": 1,
   "id": "49b9582f",
   "metadata": {},
   "outputs": [],
   "source": [
    "import numpy as np\n",
    "import PIL as pl\n",
    "from PIL import Image\n",
    "np.random.seed(4800)"
   ]
  },
  {
   "cell_type": "markdown",
   "id": "28f14f08",
   "metadata": {},
   "source": [
    "## Task 1 (20 Marks)\n",
    "To get the content of a <strong>Python</strong> object you can use <strong>dir(object)</strong>.\n",
    "To get help about the module use <strong>help(object)</strong> or in jupyter <strong>object?</strong>"
   ]
  },
  {
   "cell_type": "markdown",
   "id": "a196a4bb",
   "metadata": {},
   "source": [
    "Check the version of the <b>PIL</b> Python module <strong>(4 Marks)</strong>"
   ]
  },
  {
   "cell_type": "code",
   "execution_count": 2,
   "id": "8681c04e",
   "metadata": {},
   "outputs": [],
   "source": [
    "# your code goes here"
   ]
  },
  {
   "cell_type": "markdown",
   "id": "792fba46",
   "metadata": {},
   "source": [
    "Check the content of the <b>Image</b> object <strong>(2 Marks)</strong>"
   ]
  },
  {
   "cell_type": "code",
   "execution_count": 3,
   "id": "f2cb65f7",
   "metadata": {},
   "outputs": [],
   "source": [
    "# your code goes here"
   ]
  },
  {
   "cell_type": "markdown",
   "id": "add6e1b8",
   "metadata": {},
   "source": [
    "Use <strong>list comprehension</strong> to extract all the <strong>dir(Image)</strong> items with a name that does not start with <strong>_</strong>. (<strong>4 Marks</strong>)"
   ]
  },
  {
   "cell_type": "code",
   "execution_count": 4,
   "id": "1021fea4",
   "metadata": {},
   "outputs": [],
   "source": [
    "# your code goes here"
   ]
  },
  {
   "cell_type": "markdown",
   "id": "b0b11982",
   "metadata": {},
   "source": [
    "Use <strong>list comprehension</strong> to display the total numbers <strong>dir(np)</strong> items with a name that does not start with <strong>_</strong>. (<strong>4 Marks</strong>)"
   ]
  },
  {
   "cell_type": "code",
   "execution_count": 5,
   "id": "a26a8313",
   "metadata": {},
   "outputs": [],
   "source": [
    "# your code goes here"
   ]
  },
  {
   "cell_type": "markdown",
   "id": "94455e8e",
   "metadata": {},
   "source": [
    "Displays the help information for the following <strong>random</strong> methods.\n",
    "<ol>\n",
    "<li> <strong>Image.open()</strong> <strong>(2 Marks)</strong>\n",
    "<li> <strong>Image.fromarray()</strong> <strong>(2 Marks)</strong>\n",
    "<li> <strong>Image.asarray()</strong> <strong>(2 Marks)</strong>\n",
    "</ol>"
   ]
  },
  {
   "cell_type": "code",
   "execution_count": 6,
   "id": "a2ac2c74",
   "metadata": {},
   "outputs": [],
   "source": [
    "# your code goes here"
   ]
  },
  {
   "cell_type": "code",
   "execution_count": 7,
   "id": "7334726f",
   "metadata": {},
   "outputs": [],
   "source": [
    "# your code goes here"
   ]
  },
  {
   "cell_type": "code",
   "execution_count": 8,
   "id": "0bc15681",
   "metadata": {},
   "outputs": [],
   "source": [
    "# your code goes here"
   ]
  },
  {
   "cell_type": "markdown",
   "id": "75e7c300",
   "metadata": {},
   "source": [
    "## Task 2 (20 Marks)"
   ]
  },
  {
   "cell_type": "markdown",
   "id": "f2ce00ad",
   "metadata": {},
   "source": [
    "Load the image <strong>linux.jpg</strong> and display it. (<strong>4 Marks</strong>)"
   ]
  },
  {
   "cell_type": "code",
   "execution_count": 9,
   "id": "4a23b5b7",
   "metadata": {},
   "outputs": [],
   "source": [
    "# your code goes here"
   ]
  },
  {
   "cell_type": "markdown",
   "id": "6b3a787f",
   "metadata": {},
   "source": [
    "Display the following image properties. \n",
    "<ul>\n",
    "    <li> image file type using <strong>format</strong> property (<strong>2 Marks</strong>)\n",
    "    <li> image size using <strong>size</strong> property (<strong>2 Marks</strong>)\n",
    "    <li> image mode using <strong>mode</strong> property (<strong>2 Marks</strong>)\n",
    "</ul>"
   ]
  },
  {
   "cell_type": "code",
   "execution_count": 10,
   "id": "18d9cf73",
   "metadata": {},
   "outputs": [],
   "source": [
    "# your code goes here"
   ]
  },
  {
   "cell_type": "code",
   "execution_count": 11,
   "id": "65aba6fc",
   "metadata": {},
   "outputs": [],
   "source": [
    "# your code goes here"
   ]
  },
  {
   "cell_type": "code",
   "execution_count": 12,
   "id": "08ce8426",
   "metadata": {},
   "outputs": [],
   "source": [
    "# your code goes here"
   ]
  },
  {
   "cell_type": "markdown",
   "id": "872e112f",
   "metadata": {},
   "source": [
    "Convert the image into a <strong>grayscale</strong> and display the converted image. (<strong>6 Marks</strong>)"
   ]
  },
  {
   "cell_type": "code",
   "execution_count": 13,
   "id": "a9e359b0",
   "metadata": {},
   "outputs": [],
   "source": [
    "# your code goes here"
   ]
  },
  {
   "cell_type": "markdown",
   "id": "47c41756",
   "metadata": {},
   "source": [
    "Save the <strong>grayscale</strong> image with a name <strong>linux-grayscale.jpg</strong> in the <strong>data</strong> directory. (<strong>4 Marks</strong>)"
   ]
  },
  {
   "cell_type": "code",
   "execution_count": 14,
   "id": "023aac81",
   "metadata": {},
   "outputs": [],
   "source": [
    "# your code goes here"
   ]
  },
  {
   "cell_type": "markdown",
   "id": "923f5b00",
   "metadata": {},
   "source": [
    "## Task 3 (20 Marks)"
   ]
  },
  {
   "cell_type": "markdown",
   "id": "36c0c849",
   "metadata": {},
   "source": [
    "Convert both the color and grayscale images to a <strong>NumPy</strong> arrays. (<strong>4 Marks</strong>)"
   ]
  },
  {
   "cell_type": "code",
   "execution_count": 15,
   "id": "73a969c5",
   "metadata": {},
   "outputs": [],
   "source": [
    "# your code goes here"
   ]
  },
  {
   "cell_type": "markdown",
   "id": "fc438eb7",
   "metadata": {},
   "source": [
    "Define a function with a name <strong>get_properties()</strong> that takes a <strong>NumPy</strong> array as parameters and returns a <strong>dictionary</strong> that includes the following array properties as key-value pairs: (<strong>8 Marks</strong>)\n",
    "<ul>\n",
    "    <li> <strong>shape</strong>\n",
    "    <li> <strong>dimension</strong>\n",
    "    <li> <strong>size</strong>\n",
    "   <li> element <strong>type</strong>\n",
    "</ul>"
   ]
  },
  {
   "cell_type": "code",
   "execution_count": 16,
   "id": "91bca73e",
   "metadata": {},
   "outputs": [],
   "source": [
    "# your code goes here "
   ]
  },
  {
   "cell_type": "markdown",
   "id": "a99524ac",
   "metadata": {},
   "source": [
    "Using the function <strong>get_properties()</strong>, print the properties of both <strong>image NumPy arrays</strong> in the following format: (<strong>8 Marks</strong>)\n",
    "<pre>\n",
    "Color Image NumPy Array Properties\n",
    "----------------------------------\n",
    "{('Shape', (500, 421, 3))}\n",
    "{('Dimension', 3)}\n",
    "{('Size', 631500)}\n",
    "{('Type', dtype('uint8'))}\n",
    "Grayscale Image NumPy Array Properties\n",
    "--------------------------------------\n",
    "{('Shape', (500, 421))}\n",
    "{('Dimension', 2)}\n",
    "{('Size', 210500)}\n",
    "{('Type', dtype('uint8'))}\n",
    "</pre>"
   ]
  },
  {
   "cell_type": "code",
   "execution_count": 17,
   "id": "dc1a39c4",
   "metadata": {},
   "outputs": [],
   "source": [
    "# your code goes here"
   ]
  },
  {
   "cell_type": "code",
   "execution_count": 18,
   "id": "0d5a9812",
   "metadata": {},
   "outputs": [],
   "source": [
    "# your code goes here"
   ]
  },
  {
   "cell_type": "markdown",
   "id": "51660d2e",
   "metadata": {},
   "source": [
    "## Task 4 (30 Marks)"
   ]
  },
  {
   "cell_type": "markdown",
   "id": "7645cfa1",
   "metadata": {},
   "source": [
    "Generate <strong>three dimension NumPy array</strong> with a name <strong>colors</strong> of <strong>random numbers</strong> between <strong>0</strong> and <strong>200</strong> inclusive. The <strong>colors NumPy array</strong> must have <strong>(500,500,3)</strong> shape.(<strong>7 Marks</strong>)"
   ]
  },
  {
   "cell_type": "code",
   "execution_count": 19,
   "id": "80d23dba",
   "metadata": {},
   "outputs": [],
   "source": [
    "# your code goes here"
   ]
  },
  {
   "cell_type": "markdown",
   "id": "29f23d72",
   "metadata": {},
   "source": [
    "Using the function <strong>get_properties()</strong>, print the properties of both <strong>colors NumPy array</strong>. (<strong>2 Marks</strong>)"
   ]
  },
  {
   "cell_type": "code",
   "execution_count": 20,
   "id": "7c1c13b9",
   "metadata": {},
   "outputs": [],
   "source": [
    "# your code goes here"
   ]
  },
  {
   "cell_type": "markdown",
   "id": "de24c8d9",
   "metadata": {},
   "source": [
    "Convert the <strong>colors NumPy</strong> array into an image with a name <strong>random_color_image</strong> and display the image.(<strong>3 Marks</strong>)"
   ]
  },
  {
   "cell_type": "code",
   "execution_count": 21,
   "id": "21bc0266",
   "metadata": {},
   "outputs": [],
   "source": [
    "# your code goes here"
   ]
  },
  {
   "cell_type": "markdown",
   "id": "1800c7d7",
   "metadata": {},
   "source": [
    "Save the image with a name <strong>random-color-image.jpg</strong> in the <strong>data</strong> directory. (<strong>3 Marks</strong>)"
   ]
  },
  {
   "cell_type": "code",
   "execution_count": 22,
   "id": "9dbb799e",
   "metadata": {},
   "outputs": [],
   "source": [
    "# your code goes here"
   ]
  },
  {
   "cell_type": "markdown",
   "id": "d3b92a3c",
   "metadata": {},
   "source": [
    "Generate <strong>three dimension NumPy array</strong> with a name <strong>grayscale</strong> of <strong>random numbers</strong> between <strong>100</strong> and <strong>255</strong> inclusive. The <strong>colors NumPy array</strong> must have <strong>(500,500)</strong> shape.(<strong>7 Marks</strong>)"
   ]
  },
  {
   "cell_type": "code",
   "execution_count": 23,
   "id": "9272cf09",
   "metadata": {},
   "outputs": [],
   "source": [
    "# your code goes here"
   ]
  },
  {
   "cell_type": "markdown",
   "id": "e1edb974",
   "metadata": {},
   "source": [
    "Using the function <strong>get_properties()</strong>, print the properties of both <strong>grayscale NumPy</strong> array. <strong>(2 Marks)</strong>"
   ]
  },
  {
   "cell_type": "code",
   "execution_count": 24,
   "id": "63379d65",
   "metadata": {},
   "outputs": [],
   "source": [
    "# your code goes here"
   ]
  },
  {
   "cell_type": "markdown",
   "id": "dafaf826",
   "metadata": {},
   "source": [
    "Convert the <strong>grayscale NumPy</strong> array into an image with a name <strong>random_grayscale_image</strong> and display the image.<strong>(3 Marks)</strong>"
   ]
  },
  {
   "cell_type": "code",
   "execution_count": 25,
   "id": "86758f98",
   "metadata": {},
   "outputs": [],
   "source": [
    "# your code goes here"
   ]
  },
  {
   "cell_type": "markdown",
   "id": "09e70807",
   "metadata": {},
   "source": [
    "Save the image with a name <strong>random-grayscale-image.jpg</strong> in the <strong>data</strong> directory. (<strong>3 Marks</strong>)"
   ]
  },
  {
   "cell_type": "code",
   "execution_count": 26,
   "id": "9144b4d8",
   "metadata": {},
   "outputs": [],
   "source": [
    "# your code goes here"
   ]
  }
 ],
 "metadata": {
  "kernelspec": {
   "display_name": "Python 3 (ipykernel)",
   "language": "python",
   "name": "python3"
  },
  "language_info": {
   "codemirror_mode": {
    "name": "ipython",
    "version": 3
   },
   "file_extension": ".py",
   "mimetype": "text/x-python",
   "name": "python",
   "nbconvert_exporter": "python",
   "pygments_lexer": "ipython3",
   "version": "3.9.7"
  }
 },
 "nbformat": 4,
 "nbformat_minor": 5
}
