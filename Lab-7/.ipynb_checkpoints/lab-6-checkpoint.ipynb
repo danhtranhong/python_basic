{
 "cells": [
  {
   "cell_type": "markdown",
   "id": "fd3b4edc",
   "metadata": {},
   "source": [
    "# Learning Objectives\n",
    "Upon completion of this lab, you should be able to\n",
    "<ul>\n",
    " <li> use <strong>Pandas DateFrame</strong>\n",
    " <li> explore <strong>Pandas DateFrame</strong> basic properties\n",
    "<li> clean <strong>Pandas DateFrame</strong>\n",
    "    <li> extract useful information from <strong>Pandas DateFrame</strong>\n",
    "</ul>"
   ]
  },
  {
   "cell_type": "markdown",
   "id": "07d96932",
   "metadata": {},
   "source": [
    "### Loading Modules"
   ]
  },
  {
   "cell_type": "code",
   "execution_count": 50,
   "id": "49b9582f",
   "metadata": {},
   "outputs": [],
   "source": [
    "import pandas as pd\n",
    "import numpy as np\n",
    "import os\n",
    "MB = 2**20 # 1 MegaByte = 2**20 Bytes"
   ]
  },
  {
   "cell_type": "markdown",
   "id": "bdf63826",
   "metadata": {},
   "source": [
    "### The Data\n",
    "<hr>\n",
    "An unidentified flying object (UFO) is any perceived aerial phenomenon that cannot be immediately identified or explained (<a href='https://en.wikipedia.org/wiki/Unidentified_flying_object'>Wikipedia</a>).  A dataset of <strong>UFO</strong> sightings in the United States is provided below.\n",
    "<hr>"
   ]
  },
  {
   "cell_type": "code",
   "execution_count": 10,
   "id": "c3b686fc",
   "metadata": {},
   "outputs": [],
   "source": [
    "ufo = pd.read_csv('http://bit.ly/uforeports')"
   ]
  },
  {
   "cell_type": "markdown",
   "id": "28f14f08",
   "metadata": {},
   "source": [
    "## Task 1 (20 Marks)"
   ]
  },
  {
   "cell_type": "markdown",
   "id": "a196a4bb",
   "metadata": {},
   "source": [
    "<hr>\n",
    "Display the first/last <b>7</b> seven rows of the <strong>ufo DataFrame</strong>. (4 Marks)</strong>\n",
    "<hr>"
   ]
  },
  {
   "cell_type": "code",
   "execution_count": 1,
   "id": "8681c04e",
   "metadata": {},
   "outputs": [],
   "source": [
    "# your code should goes here"
   ]
  },
  {
   "cell_type": "markdown",
   "id": "792fba46",
   "metadata": {},
   "source": [
    "<hr>\n",
    "Using <b>list comprehension</b>, extract all the <strong>methods</strong> that are used to save a <strong>DataFrame</strong> into <strong>disk</strong>. (4 Marks)</strong>\n",
    "<hr>"
   ]
  },
  {
   "cell_type": "code",
   "execution_count": 2,
   "id": "0f19cc6f",
   "metadata": {},
   "outputs": [],
   "source": [
    "# your code should goes here"
   ]
  },
  {
   "cell_type": "markdown",
   "id": "2a60d2b4",
   "metadata": {},
   "source": [
    "<hr>\n",
    "Save the <strong>ufo DataFrame</strong> into the following file format:\n",
    "<ul>\n",
    "    <li> <strong>CSV</strong> format <strong>(2 Marks)</strong>\n",
    "    <li> <strong>JSON</strong> format <strong>(2 Marks)</strong>\n",
    "    <li> <strong>Excel</strong> format <strong>(2 Marks)</strong>\n",
    "    <li> <strong>HTML</strong> format <strong>(2 Marks)</strong>\n",
    "     <li> <strong>Latex</strong> format <strong>(2 Marks)</strong>\n",
    "    <li> <strong>Pickle</strong> format <strong>(2 Marks)</strong>\n",
    "</ul>\n",
    "All the files must be saved in <strong>data</strong> directory.\n",
    "<hr>"
   ]
  },
  {
   "cell_type": "code",
   "execution_count": 30,
   "id": "c9a35130",
   "metadata": {},
   "outputs": [],
   "source": [
    "# your code should goes here"
   ]
  },
  {
   "cell_type": "markdown",
   "id": "add6e1b8",
   "metadata": {},
   "source": [
    "## Task 2 (40 Marks)"
   ]
  },
  {
   "cell_type": "markdown",
   "id": "b0b11982",
   "metadata": {},
   "source": [
    "### <hr>\n",
    "Display <strong>ufo DataFrame</strong> detailed info. <strong>(2 Marks)</strong>\n",
    "<hr>"
   ]
  },
  {
   "cell_type": "code",
   "execution_count": 3,
   "id": "a26a8313",
   "metadata": {},
   "outputs": [],
   "source": [
    "# your code should goes here"
   ]
  },
  {
   "cell_type": "markdown",
   "id": "94455e8e",
   "metadata": {},
   "source": [
    "<hr>\n",
    "Display <strong>ufo DataFrame</strong> shape . <strong>(2 Marks)</strong>\n",
    "<hr>"
   ]
  },
  {
   "cell_type": "code",
   "execution_count": 4,
   "id": "a2ac2c74",
   "metadata": {},
   "outputs": [],
   "source": [
    "# your code should goes here"
   ]
  },
  {
   "cell_type": "markdown",
   "id": "ad9239d4",
   "metadata": {},
   "source": [
    "<hr>\n",
    "Display <strong>ufo DataFrame</strong> columns names . <strong>(2 Marks)</strong>\n",
    "<hr>"
   ]
  },
  {
   "cell_type": "code",
   "execution_count": 5,
   "id": "4d140f57",
   "metadata": {},
   "outputs": [],
   "source": [
    "# your code should goes here"
   ]
  },
  {
   "cell_type": "markdown",
   "id": "42cdebea",
   "metadata": {},
   "source": [
    "<hr>\n",
    "Display <strong>ufo DataFrame</strong> row names . <strong>(2 Marks)</strong>\n",
    "<hr>"
   ]
  },
  {
   "cell_type": "code",
   "execution_count": 6,
   "id": "328008be",
   "metadata": {},
   "outputs": [],
   "source": [
    "# your code should goes here"
   ]
  },
  {
   "cell_type": "markdown",
   "id": "39020fb5",
   "metadata": {},
   "source": [
    "<hr>\n",
    "Write a <strong>function</strong> <strong>get_size_in_memory()</strong> that displays the size of a <strong>DataFrame</strong> in <strong>memory (RAM)</strong> in <strong>MegaBytes</strong>. <strong>(8 Marks)</strong>\n",
    "<hr>"
   ]
  },
  {
   "cell_type": "code",
   "execution_count": 7,
   "id": "f1a0ea93",
   "metadata": {},
   "outputs": [],
   "source": [
    "# your code should goes here"
   ]
  },
  {
   "cell_type": "markdown",
   "id": "e4ebe127",
   "metadata": {},
   "source": [
    "<hr>\n",
    "Using the <strong>get_size_in_memory()</strong> function, display the size <strong>ufo DataFrame</strong> in memory with <strong>5 decimal</strong> places. <strong>(4 Marks)</strong>\n",
    "<hr>"
   ]
  },
  {
   "cell_type": "code",
   "execution_count": 8,
   "id": "bfb4de8a",
   "metadata": {},
   "outputs": [],
   "source": [
    "# your code should goes here"
   ]
  },
  {
   "cell_type": "markdown",
   "id": "a21d343b",
   "metadata": {},
   "source": [
    "<hr>\n",
    "Write a <strong>function</strong> with a name <strong>get_size_in_disk()</strong> that displays the size of a file in disk in <strong>MegaBytes</strong>. <strong>(8 Marks)</strong>\n",
    "<hr>"
   ]
  },
  {
   "cell_type": "code",
   "execution_count": 9,
   "id": "09719827",
   "metadata": {},
   "outputs": [],
   "source": [
    "# your code should goes here"
   ]
  },
  {
   "cell_type": "markdown",
   "id": "67d2fc41",
   "metadata": {},
   "source": [
    "<hr>\n",
    "Using the <strong>get_size_in_disk()</strong> function, display the size of each <strong>ufo</strong> file with <strong>3 decimal</strong> places. <strong>(12 Marks)</strong>\n",
    "<hr>"
   ]
  },
  {
   "cell_type": "code",
   "execution_count": 10,
   "id": "cb8318a4",
   "metadata": {},
   "outputs": [],
   "source": [
    "# your code should goes here"
   ]
  },
  {
   "cell_type": "markdown",
   "id": "4bcbd3dc",
   "metadata": {},
   "source": [
    "### Task 3 (40 Marks)"
   ]
  },
  {
   "cell_type": "markdown",
   "id": "29f23d72",
   "metadata": {},
   "source": [
    "Display the number of missing values per each column. (<strong>4 Marks</strong>)"
   ]
  },
  {
   "cell_type": "code",
   "execution_count": 12,
   "id": "7c1c13b9",
   "metadata": {},
   "outputs": [],
   "source": [
    "# your code should goes here"
   ]
  },
  {
   "cell_type": "markdown",
   "id": "de24c8d9",
   "metadata": {},
   "source": [
    "Remove all the <strong>rows</strong> with missing values and store the result in a <strong>DataFrame</strong> with a name <strong>ufo_clean</strong>. Check that all <strong>missing values</strong> are removed.(<strong>6 Marks</strong>)"
   ]
  },
  {
   "cell_type": "code",
   "execution_count": 13,
   "id": "21bc0266",
   "metadata": {},
   "outputs": [],
   "source": [
    "# your code should goes here"
   ]
  },
  {
   "cell_type": "markdown",
   "id": "1800c7d7",
   "metadata": {},
   "source": [
    "<hr>\n",
    "Save the <strong>clean ufo DataFrame</strong> into the following file format:\n",
    "<ul>\n",
    "    <li> <strong>CSV</strong> format <strong>(1 Marks)</strong>\n",
    "    <li> <strong>JSON</strong> format <strong>(1 Marks)</strong>\n",
    "    <li> <strong>Excel</strong> format <strong>(1 Marks)</strong>\n",
    "    <li> <strong>HTML</strong> format <strong>(1 Marks)</strong>\n",
    "     <li> <strong>Latex</strong> format <strong>(1 Marks)</strong>\n",
    "    <li> <strong>Pickle</strong> format <strong>(1 Marks)</strong>\n",
    "</ul>\n",
    "All the files must be saved in <strong>data</strong> directory.\n",
    "<hr>"
   ]
  },
  {
   "cell_type": "code",
   "execution_count": 14,
   "id": "b4c27e8c",
   "metadata": {},
   "outputs": [],
   "source": [
    "# your code should goes here"
   ]
  },
  {
   "cell_type": "markdown",
   "id": "d1bf0890",
   "metadata": {},
   "source": [
    "<hr>\n",
    "Compute all the <strong>different UFO colors</strong> and the number of <strong>different UFO colors</strong>.(<strong>4 Marks</strong>)\n",
    "<hr>"
   ]
  },
  {
   "cell_type": "code",
   "execution_count": 15,
   "id": "7f0d4e60",
   "metadata": {},
   "outputs": [],
   "source": [
    "# your code should goes here"
   ]
  },
  {
   "cell_type": "markdown",
   "id": "e1e058ca",
   "metadata": {},
   "source": [
    "<hr>\n",
    "Compute all the <strong>different UFO shapes</strong> and the number of <strong>different UFO shapes</strong>.(<strong>4 Marks</strong>)\n",
    "<hr>"
   ]
  },
  {
   "cell_type": "code",
   "execution_count": 16,
   "id": "a8b78074",
   "metadata": {},
   "outputs": [],
   "source": [
    "# your code should goes here"
   ]
  },
  {
   "cell_type": "markdown",
   "id": "b456fb0c",
   "metadata": {},
   "source": [
    "<hr>\n",
    "Which <strong>state/city</strong> has the most <strong>UFO</strong> sightings? (<strong>5 Marks</strong>)\n",
    "<hr>"
   ]
  },
  {
   "cell_type": "code",
   "execution_count": 17,
   "id": "21c8a6e1",
   "metadata": {},
   "outputs": [],
   "source": [
    "# your code should goes here"
   ]
  },
  {
   "cell_type": "markdown",
   "id": "da4616b2",
   "metadata": {},
   "source": [
    "<hr>\n",
    "In terms of <strong>color/shape</strong>, what is the <strong>most commonly</strong> reported <strong>UFO</strong>?\n",
    "(<strong>5 Marks</strong>)\n",
    "<hr>"
   ]
  },
  {
   "cell_type": "code",
   "execution_count": 18,
   "id": "6e2f1046",
   "metadata": {},
   "outputs": [],
   "source": [
    "# your code should goes here"
   ]
  },
  {
   "cell_type": "markdown",
   "id": "4f9984ea",
   "metadata": {},
   "source": [
    "<hr>\n",
    "Identify all sightings where the <strong>state</strong> is California (<strong>CA</strong>), the <strong>UFO color</strong> is <strong>red</strong>, and the <strong>UFO shape</strong> is <strong>triangle</strong>. (<strong>6 Marks</strong>)\n",
    "<hr>"
   ]
  },
  {
   "cell_type": "code",
   "execution_count": 19,
   "id": "251c895a",
   "metadata": {},
   "outputs": [],
   "source": [
    "# your code should goes here"
   ]
  }
 ],
 "metadata": {
  "kernelspec": {
   "display_name": "Python 3 (ipykernel)",
   "language": "python",
   "name": "python3"
  },
  "language_info": {
   "codemirror_mode": {
    "name": "ipython",
    "version": 3
   },
   "file_extension": ".py",
   "mimetype": "text/x-python",
   "name": "python",
   "nbconvert_exporter": "python",
   "pygments_lexer": "ipython3",
   "version": "3.9.7"
  }
 },
 "nbformat": 4,
 "nbformat_minor": 5
}
