{
 "cells": [
  {
   "cell_type": "code",
   "execution_count": 1,
   "id": "62a12ad5",
   "metadata": {},
   "outputs": [],
   "source": [
    "# you code goes here"
   ]
  },
  {
   "cell_type": "markdown",
   "id": "fd3b4edc",
   "metadata": {},
   "source": [
    "# Learning Objectives\n",
    "Upon completion of this lab, you should be able to\n",
    "<ul>\n",
    " <li> use <strong>Matplotlib</strong> module to produce different type of plots\n",
    " <li> use <strong>Matplotlib</strong> module to plot <strong>Pandas DataFrame</strong>\n",
    "</ul>\n",
    "\n",
    "### Loading Modules"
   ]
  },
  {
   "cell_type": "code",
   "execution_count": 2,
   "id": "49b9582f",
   "metadata": {},
   "outputs": [],
   "source": [
    "import pandas as pd\n",
    "import numpy as np\n",
    "from matplotlib import pyplot as plt\n",
    "%reload_ext autoreload\n",
    "%autoreload\n",
    "%matplotlib inline"
   ]
  },
  {
   "cell_type": "code",
   "execution_count": 3,
   "id": "c3b686fc",
   "metadata": {},
   "outputs": [],
   "source": [
    "drinks = pd.read_csv('http://bit.ly/drinksbycountry')"
   ]
  },
  {
   "cell_type": "markdown",
   "id": "28f14f08",
   "metadata": {},
   "source": [
    "## Task 1 (40 Marks)"
   ]
  },
  {
   "cell_type": "markdown",
   "id": "713095d7",
   "metadata": {},
   "source": [
    "Display the help information for the following methods.\n",
    "<ol>\n",
    "<li> <strong>pd.DataFrame.sort_values()</strong> <strong>(2 Marks)</strong>\n",
    "<li> <strong>pd.DataFrame.set_index()</strong> <strong>(2 Marks)</strong>\n",
    "<li> <strong>plt.plot()</strong> <strong>(2 Marks)</strong>\n",
    "<li> <strong>plt.savefig()</strong> <strong>(2 Marks)</strong>\n",
    "<li> <strong>plt.scatter()</strong> <strong>(2 Marks)</strong>\n",
    "<li> <strong>plt.hist()</strong> <strong>(2 Marks)</strong>\n",
    "<li> <strong>plt.bar()</strong> <strong>(2 Marks)</strong>\n",
    "<li> <strong>plt.barh()</strong> <strong>(2 Marks)</strong>\n",
    "<li> <strong>plt.boxplot()</strong> <strong>(2 Marks)</strong>\n",
    "</ol>"
   ]
  },
  {
   "cell_type": "code",
   "execution_count": 4,
   "id": "a21be2ef",
   "metadata": {},
   "outputs": [],
   "source": [
    "# you code goes here"
   ]
  },
  {
   "cell_type": "markdown",
   "id": "a196a4bb",
   "metadata": {},
   "source": [
    "<hr>\n",
    "Display the first/last <b>8</b> seven rows of the <strong>drinks DataFrame</strong>. <strong>(2 Marks)</strong>\n",
    "<hr>"
   ]
  },
  {
   "cell_type": "code",
   "execution_count": 5,
   "id": "8681c04e",
   "metadata": {},
   "outputs": [],
   "source": [
    "# you code goes here"
   ]
  },
  {
   "cell_type": "markdown",
   "id": "748ee2ad",
   "metadata": {},
   "source": [
    "<hr>\n",
    "Display a <b>detailed information</b> of the <strong>drinks DataFrame</strong>. <strong>(2 Marks)</strong>\n",
    "<hr>"
   ]
  },
  {
   "cell_type": "code",
   "execution_count": 6,
   "id": "598d786a",
   "metadata": {},
   "outputs": [],
   "source": [
    "# you code goes here"
   ]
  },
  {
   "cell_type": "markdown",
   "id": "06625a46",
   "metadata": {},
   "source": [
    "<hr>\n",
    "Display <strong>drinks DataFrame</strong> shape . <strong>(2 Marks)</strong>\n",
    "<hr>"
   ]
  },
  {
   "cell_type": "code",
   "execution_count": 7,
   "id": "39d5565e",
   "metadata": {},
   "outputs": [],
   "source": [
    "# you code goes here"
   ]
  },
  {
   "cell_type": "markdown",
   "id": "b0b11982",
   "metadata": {},
   "source": [
    "<hr>\n",
    "Display <strong>drinks DataFrame</strong> column names. <strong>(2 Marks)</strong>\n",
    "<hr>"
   ]
  },
  {
   "cell_type": "code",
   "execution_count": 8,
   "id": "3d57e6e9",
   "metadata": {},
   "outputs": [],
   "source": [
    "# you code goes here"
   ]
  },
  {
   "cell_type": "markdown",
   "id": "99f17930",
   "metadata": {},
   "source": [
    "<hr>\n",
    "Set the column <strong>country</strong> as the <strong>index</strong> of the <strong>drinks DataFrame</strong>. <strong>(4 Marks)</strong>\n",
    "<hr>"
   ]
  },
  {
   "cell_type": "code",
   "execution_count": 9,
   "id": "baa4bb2f",
   "metadata": {},
   "outputs": [],
   "source": [
    "# you code goes here"
   ]
  },
  {
   "cell_type": "markdown",
   "id": "2a60d2b4",
   "metadata": {},
   "source": [
    "<hr>\n",
    "Save the <strong>drinks DataFrame</strong> into a <strong>CSV</strong> format. The file must be saved in <strong>data</strong> directory. <strong>(2 Marks)</strong>\n",
    "<hr>"
   ]
  },
  {
   "cell_type": "code",
   "execution_count": 10,
   "id": "c9a35130",
   "metadata": {},
   "outputs": [],
   "source": [
    "# you code goes here"
   ]
  },
  {
   "cell_type": "markdown",
   "id": "454653fa",
   "metadata": {},
   "source": [
    "<hr>\n",
    "Read back the <b>CSV</b> file <strong>drinks.csv</strong> using the <strong>country</strong> column as the <strong>row</strong> index. <strong>(4 Marks)</strong>\n",
    "<hr>"
   ]
  },
  {
   "cell_type": "code",
   "execution_count": 11,
   "id": "995ce7b0",
   "metadata": {},
   "outputs": [],
   "source": [
    "# you code goes here"
   ]
  },
  {
   "cell_type": "markdown",
   "id": "73606b2e",
   "metadata": {},
   "source": [
    "Produce the <strong>five-number</strong> for all the numerical columns.  Display statistics with two decimal places <strong>(4 Marks)</strong>"
   ]
  },
  {
   "cell_type": "code",
   "execution_count": 12,
   "id": "18953d2f",
   "metadata": {},
   "outputs": [],
   "source": [
    "# you code goes here"
   ]
  },
  {
   "cell_type": "markdown",
   "id": "add6e1b8",
   "metadata": {},
   "source": [
    "## Task 2 (40 Marks)"
   ]
  },
  {
   "cell_type": "markdown",
   "id": "4e94a7d0",
   "metadata": {},
   "source": [
    "<hr>\n",
    "Display all <strong>Matplotlib</strong> available styles. <strong>(5 Marks)</strong>\n",
    "<hr>"
   ]
  },
  {
   "cell_type": "code",
   "execution_count": 13,
   "id": "615b39fa",
   "metadata": {},
   "outputs": [],
   "source": [
    "# you code goes here"
   ]
  },
  {
   "cell_type": "markdown",
   "id": "49d94bae",
   "metadata": {},
   "source": [
    "<hr>\n",
    "Produce the following figure using the <strong>fast</strong> style and save with a name of <strong>scatter.png</strong>. All figures must be saved in the <strong>results</strong> directory. <strong>(5 Marks)</strong>\n",
    "<figure>\n",
    "  <img src=\"figures/scatter.png\" alt=\"Scatter Plot\" style=\"width:100%\">\n",
    "  <figcaption>Fig.1 - Scatter Plot.</figcaption>\n",
    "</figure>\n",
    "<hr>"
   ]
  },
  {
   "cell_type": "code",
   "execution_count": 14,
   "id": "0de865df",
   "metadata": {},
   "outputs": [],
   "source": [
    "# you code goes here"
   ]
  },
  {
   "cell_type": "markdown",
   "id": "cb4f6cb0",
   "metadata": {},
   "source": [
    "<hr>\n",
    "Extract the top 10 countries with the highest alcohol consumption.<strong>(5 Marks)</strong>\n",
    "<hr>"
   ]
  },
  {
   "cell_type": "code",
   "execution_count": 15,
   "id": "a26a8313",
   "metadata": {},
   "outputs": [],
   "source": [
    "# you code goes here"
   ]
  },
  {
   "cell_type": "markdown",
   "id": "772e7d82",
   "metadata": {},
   "source": [
    "<hr>\n",
    "Produce the following figure using the <strong>fast</strong> style and save with a name of <strong>line.png</strong>. All figures must be saved in the <strong>results</strong> directory. <strong>(5 Marks)</strong>\n",
    "<figure>\n",
    "  <img src=\"figures/line.png\" alt=\"Line Plot\" style=\"width:100%\">\n",
    "  <figcaption>Fig.2 - Line Plot.</figcaption>\n",
    "</figure>\n",
    "<hr>"
   ]
  },
  {
   "cell_type": "code",
   "execution_count": 16,
   "id": "ab933f30",
   "metadata": {},
   "outputs": [],
   "source": [
    "# you code goes here"
   ]
  },
  {
   "cell_type": "markdown",
   "id": "64be4103",
   "metadata": {},
   "source": [
    "<hr>\n",
    "Produce the following figure using the <strong>classic</strong> style and save with a name of <strong>barvertical.png</strong>. All figures must be saved in the <strong>results</strong> directory. <strong>(5 Marks)</strong>\n",
    "<figure>\n",
    "  <img src=\"figures/barvertical.png\" alt=\"Vertical Barplot\" style=\"width:100%\">\n",
    "  <figcaption>Fig.3 - Vertical Barplot.</figcaption>\n",
    "</figure>\n",
    "<hr>"
   ]
  },
  {
   "cell_type": "code",
   "execution_count": 17,
   "id": "a1384060",
   "metadata": {},
   "outputs": [],
   "source": [
    "# you code goes here"
   ]
  },
  {
   "cell_type": "markdown",
   "id": "e3bf3601",
   "metadata": {},
   "source": [
    "<hr>\n",
    "Produce the following figure using the <strong>classic</strong> style and save with a name of <strong>barhorizontal.png</strong>. All figures must be saved in the <strong>results</strong> directory. <strong>(5 Marks)</strong>\n",
    "<figure>\n",
    "  <img src=\"figures/barhorizontal.png\" alt=\"Horizontal Barplot\" style=\"width:100%\">\n",
    "  <figcaption>Fig.4 - Horizontal Barplot.</figcaption>\n",
    "</figure>\n",
    "<hr>"
   ]
  },
  {
   "cell_type": "code",
   "execution_count": 18,
   "id": "698dad18",
   "metadata": {},
   "outputs": [],
   "source": [
    "# you code goes here"
   ]
  },
  {
   "cell_type": "markdown",
   "id": "7f3dc988",
   "metadata": {},
   "source": [
    "<hr>\n",
    "Produce the following figure using the <strong>ggplot</strong> style and save with a name of <strong>histogram.png</strong>. Set <strong>bins=20</strong>. All figures must be saved in the <strong>results</strong> directory. <strong>(5 Marks)</strong>\n",
    "<figure>\n",
    "  <img src=\"figures/histogram.png\" alt=\"Histogram\" style=\"width:100%\">\n",
    "  <figcaption>Fig.4 - Histogram Plot.</figcaption>\n",
    "</figure>\n",
    "<hr>"
   ]
  },
  {
   "cell_type": "code",
   "execution_count": 19,
   "id": "c534d8ac",
   "metadata": {},
   "outputs": [],
   "source": [
    "# you code goes here"
   ]
  },
  {
   "cell_type": "markdown",
   "id": "367e0417",
   "metadata": {},
   "source": [
    "<hr>\n",
    "Produce the following figure using the <strong>Solarize_Light2</strong> style and save with a name of <strong>boxplot.png</strong>. All figures must be saved in the <strong>results</strong> directory. <strong>(5 Marks)</strong>\n",
    "<figure>\n",
    "  <img src=\"figures/boxplot.png\" alt=\"boxplot\" style=\"width:100%\">\n",
    "  <figcaption>Fig.5 - Boxplot.</figcaption>\n",
    "</figure>\n",
    "<hr>"
   ]
  },
  {
   "cell_type": "code",
   "execution_count": 20,
   "id": "302a287a",
   "metadata": {},
   "outputs": [],
   "source": [
    "# you code goes here"
   ]
  }
 ],
 "metadata": {
  "kernelspec": {
   "display_name": "Python 3 (ipykernel)",
   "language": "python",
   "name": "python3"
  },
  "language_info": {
   "codemirror_mode": {
    "name": "ipython",
    "version": 3
   },
   "file_extension": ".py",
   "mimetype": "text/x-python",
   "name": "python",
   "nbconvert_exporter": "python",
   "pygments_lexer": "ipython3",
   "version": "3.9.7"
  }
 },
 "nbformat": 4,
 "nbformat_minor": 5
}
